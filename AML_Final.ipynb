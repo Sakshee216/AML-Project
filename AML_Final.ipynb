{
 "cells": [
  {
   "cell_type": "markdown",
   "metadata": {},
   "source": [
    "Leveraging GANs for Road intersection detection"
   ]
  },
  {
   "cell_type": "code",
   "execution_count": 1,
   "metadata": {},
   "outputs": [],
   "source": [
    "# supress warnings\n",
    "import warnings\n",
    "import numpy as np\n",
    "\n",
    "warnings.filterwarnings(\"ignore\")"
   ]
  },
  {
   "cell_type": "code",
   "execution_count": 75,
   "metadata": {},
   "outputs": [],
   "source": [
    "import argparse\n",
    "import copy\n",
    "import gc\n",
    "import numpy as np\n",
    "import matplotlib.pyplot as plt\n",
    "import matplotlib as mpl\n",
    "import h5py\n",
    "import os\n",
    "import random\n",
    "from tqdm import tqdm\n",
    "import torch\n",
    "import torchvision\n",
    "import torch.nn as nn\n",
    "import torch.backends.cudnn as cudnn\n",
    "from torchvision.utils import save_image\n",
    "import timeit\n",
    "from PIL import Image"
   ]
  },
  {
   "cell_type": "code",
   "execution_count": 92,
   "metadata": {},
   "outputs": [],
   "source": [
    "class CustomDataset(Dataset):\n",
    "    def __init__(self, images, steering_values, transform=None):\n",
    "        self.images = images\n",
    "        self.steering_values = steering_values\n",
    "        self.transform = transform\n",
    "\n",
    "    def __len__(self):\n",
    "        return len(self.images)\n",
    "\n",
    "    def __getitem__(self, idx):\n",
    "        image = self.images[idx]\n",
    "        steering_value = self.steering_values[idx]\n",
    "\n",
    "        if self.transform:\n",
    "            image = self.transform(image)\n",
    "\n",
    "        return image, steering_value"
   ]
  },
  {
   "cell_type": "code",
   "execution_count": 93,
   "metadata": {},
   "outputs": [],
   "source": [
    "class CarlaSteeringDataset(Dataset):\n",
    "    def __init__(\n",
    "        self, root_dir, steer_file, train_size=0.8, transform=None, random_state=42\n",
    "    ):\n",
    "        self.root_dir = root_dir\n",
    "        self.image_filenames = sorted(os.listdir(root_dir))\n",
    "        self.steer_values = np.loadtxt(steer_file)  # Load steering angle values\n",
    "\n",
    "        self.image_filenames = [\n",
    "            self.image_filenames[i] for i in range(0, len(self.image_filenames), 5)\n",
    "        ]\n",
    "\n",
    "        # Perform train-test split\n",
    "        train_indices, test_indices = train_test_split(\n",
    "            np.arange(len(self.image_filenames)),\n",
    "            train_size=train_size,\n",
    "            random_state=random_state,\n",
    "        )\n",
    "\n",
    "        self.train_image_filenames = [self.image_filenames[i] for i in train_indices]\n",
    "        self.test_image_filenames = [self.image_filenames[i] for i in test_indices]\n",
    "\n",
    "        self.train_steer_values = self.steer_values[train_indices]\n",
    "        self.test_steer_values = self.steer_values[test_indices]\n",
    "\n",
    "        self.transform = transform\n",
    "\n",
    "    def __len__(self):\n",
    "        return len(self.train_image_filenames) + len(self.test_image_filenames)\n",
    "\n",
    "    def __getitem__(self, idx):\n",
    "        if idx < len(self.train_image_filenames):\n",
    "            image_filename = self.train_image_filenames[idx]\n",
    "            steer_value = self.train_steer_values[idx]\n",
    "        else:\n",
    "            test_idx = idx - len(self.train_image_filenames)\n",
    "            image_filename = self.test_image_filenames[test_idx]\n",
    "            steer_value = self.test_steer_values[test_idx]\n",
    "\n",
    "        img_name = os.path.join(self.root_dir, image_filename)\n",
    "        try:\n",
    "            image = Image.open(img_name)\n",
    "        except FileNotFoundError:\n",
    "            print(f\"Error: File not found: {img_name}\")\n",
    "            return None, None  # Return None if image file not found\n",
    "\n",
    "        if self.transform:\n",
    "            image = self.transform(image)\n",
    "\n",
    "        return image, steer_value\n",
    "\n",
    "\n",
    "# Define paths\n",
    "root_dir = \"Carla/Images\"\n",
    "steer_file = \"Carla/SteerValues/steer_values.txt\"\n",
    "\n",
    "# Define transformations\n",
    "transform = transforms.Compose(\n",
    "    [\n",
    "        # transforms.Resize((224, 224)),  # Resize images to a consistent size\n",
    "        transforms.ToTensor(),  # Convert images to PyTorch tensors\n",
    "    ]\n",
    ")\n",
    "\n",
    "# Create dataset instance\n",
    "dataset = CarlaSteeringDataset(root_dir, steer_file, transform=transform)\n",
    "\n",
    "# Create dataset instance\n",
    "# dataset = CarlaSteeringDataset(root_dir, steer_file, transform=transform)\n",
    "\n",
    "# Access training and testing image filenames and steering values from the dataset\n",
    "image_train_filenames, steer_train_values = (\n",
    "    dataset.train_image_filenames,\n",
    "    dataset.train_steer_values,\n",
    ")\n",
    "image_test_filenames, steer_test_values = (\n",
    "    dataset.test_image_filenames,\n",
    "    dataset.test_steer_values,\n",
    ")\n",
    "\n",
    "# # Create separate datasets for training and testing\n",
    "# train_dataset = CustomDataset(\n",
    "#     images=image_train_filenames,\n",
    "#     steering_values=steer_train_values,\n",
    "#     transform=transform,\n",
    "# )\n",
    "# test_dataset = CustomDataset(\n",
    "#     images=image_test_filenames, steering_values=steer_test_values, transform=transform\n",
    "# )\n",
    "\n",
    "# Print the sizes of the train and test datasets\n",
    "# print(f\"Train dataset size: {len(train_dataset)}\")\n",
    "# print(f\"Test dataset size: {len(test_dataset)}\")"
   ]
  },
  {
   "cell_type": "code",
   "execution_count": 94,
   "metadata": {},
   "outputs": [],
   "source": [
    "from keras.preprocessing.image import load_img, img_to_array, save_img\n",
    "images=[]\n",
    "labels=[]\n",
    "for idx, img_filename in enumerate(image_train_filenames):\n",
    "    img_path = \"Carla/Images/\" + img_filename\n",
    "    img = load_img(img_path, target_size=(64, 64))\n",
    "    img_array = img_to_array(img)\n",
    "    img_array = img_array / 255.0  # Normalize pixel values\n",
    "    images.append(img_array)\n",
    "    label= np.array([steer_train_values[idx]])\n",
    "    labels.append(label)"
   ]
  },
  {
   "cell_type": "code",
   "execution_count": 85,
   "metadata": {},
   "outputs": [],
   "source": [
    "# remove too small angles and too large angles\n",
    "q1 = -80\n",
    "q2 = 80\n",
    "indx = np.where((labels>q1)*(labels<q2)==True)[0]\n",
    "labels = labels[indx]\n",
    "images = images[indx]\n",
    "assert len(labels)==len(images)"
   ]
  },
  {
   "cell_type": "code",
   "execution_count": 86,
   "metadata": {},
   "outputs": [
    {
     "name": "stdout",
     "output_type": "stream",
     "text": [
      "\n",
      " Original set has 12271 images; For each angle, take no more than 9999 images>>>\n"
     ]
    },
    {
     "name": "stderr",
     "output_type": "stream",
     "text": [
      "100%|██████████| 1774/1774 [00:00<00:00, 75928.56it/s]"
     ]
    },
    {
     "name": "stdout",
     "output_type": "stream",
     "text": [
      "12271 images left and there are 1774 unique labels\n"
     ]
    },
    {
     "name": "stderr",
     "output_type": "stream",
     "text": [
      "\n"
     ]
    }
   ],
   "source": [
    "# for each angle, take no more than args.max_num_img_per_label images\n",
    "image_num_threshold = 9999\n",
    "print(\"\\n Original set has {} images; For each angle, take no more than {} images>>>\".format(len(images), image_num_threshold))\n",
    "unique_labels_tmp = np.sort(np.array(list(set(labels))))\n",
    "for i in tqdm(range(len(unique_labels_tmp))):\n",
    "    indx_i = np.where(labels == unique_labels_tmp[i])[0]\n",
    "    if len(indx_i)>image_num_threshold:\n",
    "        np.random.shuffle(indx_i)\n",
    "        indx_i = indx_i[0:image_num_threshold]\n",
    "    if i == 0:\n",
    "        sel_indx = indx_i\n",
    "    else:\n",
    "        sel_indx = np.concatenate((sel_indx, indx_i))\n",
    "images = images[sel_indx]\n",
    "labels = labels[sel_indx]\n",
    "print(\"{} images left and there are {} unique labels\".format(len(images), len(set(labels))))\n"
   ]
  },
  {
   "cell_type": "code",
   "execution_count": 87,
   "metadata": {},
   "outputs": [
    {
     "name": "stdout",
     "output_type": "stream",
     "text": [
      "[1.0, 2.0, 1.0, 1.0, 1.0, 1.0, 2.0, 1.0, 1.0, 1.0, 1.0, 1.0, 1.0, 1.0, 1.0, 1.0, 1.0, 1.0, 4.0, 1.0, 1.0, 1.0, 1.0, 1.0, 1.0, 1.0, 1.0, 1.0, 1.0, 10.0, 2.0, 1.0, 2.0, 1.0, 1.0, 1.0, 1.0, 2.0, 1.0, 1.0, 1.0, 1.0, 3.0, 1.0, 6.0, 1.0, 1.0, 1.0, 4.0, 2.0, 1.0, 1.0, 2.0, 1.0, 2.0, 2.0, 1.0, 1.0, 1.0, 5.0, 1.0, 1.0, 2.0, 2.0, 2.0, 12.0, 2.0, 2.0, 2.0, 1.0, 3.0, 1.0, 4.0, 3.0, 2.0, 1.0, 2.0, 1.0, 1.0, 1.0, 1.0, 1.0, 2.0, 4.0, 16.0, 1.0, 6.0, 2.0, 4.0, 4.0, 1.0, 10.0, 1.0, 1.0, 1.0, 3.0, 3.0, 8.0, 3.0, 1.0, 1.0, 8.0, 4.0, 4.0, 3.0, 1.0, 2.0, 1.0, 2.0, 7.0, 1.0, 6.0, 1.0, 1.0, 1.0, 3.0, 13.0, 1.0, 1.0, 1.0, 3.0, 2.0, 1.0, 4.0, 1.0, 7.0, 3.0, 1.0, 4.0, 1.0, 2.0, 2.0, 2.0, 1.0, 6.0, 1.0, 2.0, 8.0, 2.0, 1.0, 1.0, 2.0, 3.0, 3.0, 2.0, 2.0, 1.0, 2.0, 1.0, 1.0, 9.0, 2.0, 20.0, 10.0, 9.0, 4.0, 9.0, 4.0, 1.0, 1.0, 2.0, 1.0, 5.0, 3.0, 1.0, 1.0, 5.0, 4.0, 9.0, 13.0, 2.0, 3.0, 3.0, 5.0, 2.0, 3.0, 1.0, 2.0, 2.0, 3.0, 2.0, 3.0, 2.0, 2.0, 2.0, 2.0, 1.0, 2.0, 3.0, 2.0, 1.0, 6.0, 3.0, 14.0, 4.0, 2.0, 3.0, 9.0, 3.0, 2.0, 3.0, 1.0, 10.0, 1.0, 8.0, 3.0, 4.0, 3.0, 6.0, 5.0, 9.0, 5.0, 3.0, 22.0, 2.0, 3.0, 3.0, 4.0, 1.0, 2.0, 3.0, 9.0, 3.0, 1.0, 2.0, 4.0, 6.0, 3.0, 2.0, 4.0, 7.0, 1.0, 11.0, 3.0, 3.0, 1.0, 9.0, 1.0, 12.0, 2.0, 3.0, 3.0, 1.0, 4.0, 1.0, 3.0, 2.0, 1.0, 2.0, 3.0, 1.0, 1.0, 8.0, 2.0, 2.0, 2.0, 2.0, 1.0, 5.0, 2.0, 1.0, 1.0, 1.0, 2.0, 2.0, 1.0, 1.0, 7.0, 2.0, 1.0, 2.0, 1.0, 2.0, 2.0, 3.0, 1.0, 7.0, 4.0, 3.0, 2.0, 1.0, 6.0, 3.0, 1.0, 1.0, 1.0, 2.0, 1.0, 1.0, 6.0, 1.0, 3.0, 2.0, 6.0, 1.0, 2.0, 2.0, 2.0, 4.0, 1.0, 3.0, 3.0, 1.0, 2.0, 1.0, 1.0, 1.0, 1.0, 2.0, 1.0, 1.0, 2.0, 1.0, 3.0, 1.0, 1.0, 2.0, 5.0, 3.0, 3.0, 3.0, 3.0, 4.0, 3.0, 1.0, 1.0, 2.0, 2.0, 4.0, 1.0, 1.0, 1.0, 1.0, 1.0, 3.0, 1.0, 5.0, 1.0, 1.0, 2.0, 4.0, 2.0, 1.0, 3.0, 3.0, 5.0, 2.0, 1.0, 4.0, 1.0, 1.0, 2.0, 2.0, 1.0, 2.0, 1.0, 1.0, 1.0, 2.0, 2.0, 1.0, 1.0, 1.0, 1.0, 2.0, 3.0, 2.0, 1.0, 1.0, 2.0, 2.0, 1.0, 2.0, 2.0, 1.0, 5.0, 1.0, 2.0, 4.0, 4.0, 2.0, 1.0, 1.0, 2.0, 2.0, 14.0, 1.0, 3.0, 7.0, 3.0, 2.0, 4.0, 4.0, 6.0, 1.0, 1.0, 12.0, 1.0, 2.0, 5.0, 2.0, 6.0, 2.0, 2.0, 3.0, 1.0, 3.0, 2.0, 1.0, 1.0, 3.0, 1.0, 6.0, 4.0, 3.0, 1.0, 5.0, 6.0, 3.0, 7.0, 18.0, 3.0, 2.0, 1.0, 2.0, 2.0, 1.0, 1.0, 1.0, 23.0, 3.0, 4.0, 5.0, 2.0, 3.0, 2.0, 6.0, 2.0, 1.0, 2.0, 4.0, 2.0, 1.0, 1.0, 1.0, 1.0, 1.0, 1.0, 4.0, 1.0, 1.0, 1.0, 4.0, 2.0, 1.0, 1.0, 1.0, 1.0, 1.0, 1.0, 1.0, 1.0, 7.0, 1.0, 1.0, 1.0, 8.0, 19.0, 2.0, 3.0, 8.0, 6.0, 5.0, 1.0, 4.0, 4.0, 2.0, 1.0, 3.0, 2.0, 1.0, 1.0, 1.0, 1.0, 2.0, 2.0, 2.0, 3.0, 1.0, 2.0, 2.0, 1.0, 2.0, 2.0, 1.0, 2.0, 2.0, 1.0, 2.0, 5.0, 3.0, 4.0, 2.0, 5.0, 1.0, 2.0, 9.0, 1.0, 3.0, 1.0, 1.0, 4.0, 3.0, 2.0, 8.0, 1.0, 2.0, 4.0, 6.0, 2.0, 2.0, 3.0, 2.0, 4.0, 2.0, 7.0, 2.0, 15.0, 3.0, 2.0, 6.0, 1.0, 1.0, 1.0, 2.0, 3.0, 1.0, 2.0, 1.0, 3.0, 10.0, 1.0, 6.0, 2.0, 1.0, 1.0, 1.0, 3.0, 1.0, 3.0, 1.0, 1.0, 1.0, 3.0, 6.0, 1.0, 1.0, 14.0, 5.0, 16.0, 2.0, 6.0, 5.0, 1.0, 1.0, 3.0, 4.0, 1.0, 3.0, 1.0, 2.0, 1.0, 6.0, 7.0, 2.0, 2.0, 1.0, 2.0, 2.0, 2.0, 3.0, 2.0, 4.0, 2.0, 1.0, 2.0, 1.0, 2.0, 1.0, 1.0, 2.0, 1.0, 1.0, 1.0, 1.0, 6.0, 2.0, 1.0, 3.0, 1.0, 1.0, 1.0, 4.0, 2.0, 3.0, 1.0, 5.0, 3.0, 9.0, 2.0, 2.0, 1.0, 1.0, 13.0, 2.0, 4.0, 2.0, 3.0, 1.0, 1.0, 4.0, 2.0, 1.0, 3.0, 3.0, 1.0, 2.0, 2.0, 2.0, 1.0, 2.0, 1.0, 1.0, 1.0, 2.0, 2.0, 4.0, 9.0, 1.0, 5.0, 4.0, 1.0, 1.0, 3.0, 3.0, 1.0, 1.0, 1.0, 3.0, 7.0, 3.0, 2.0, 10.0, 37.0, 13.0, 2.0, 9.0, 6.0, 3.0, 4.0, 1.0, 5.0, 16.0, 1.0, 5.0, 7.0, 1.0, 1.0, 16.0, 3.0, 16.0, 5.0, 6.0, 1.0, 3.0, 3.0, 2.0, 4.0, 3.0, 7.0, 3.0, 2.0, 2.0, 2.0, 35.0, 3.0, 4.0, 1.0, 4.0, 2.0, 7.0, 7.0, 18.0, 2.0, 3.0, 3.0, 2.0, 11.0, 3.0, 11.0, 6.0, 5.0, 2.0, 7.0, 5.0, 14.0, 4.0, 5.0, 6.0, 2.0, 13.0, 8.0, 5.0, 6.0, 3.0, 3.0, 1.0, 4.0, 7.0, 7.0, 8.0, 1.0, 7.0, 16.0, 18.0, 2.0, 12.0, 11.0, 5.0, 5.0, 6.0, 7.0, 1.0, 7.0, 4.0, 3.0, 7.0, 8.0, 5.0, 5.0, 5.0, 11.0, 3.0, 13.0, 15.0, 20.0, 5.0, 11.0, 2.0, 4.0, 2.0, 2.0, 8.0, 1.0, 3.0, 3.0, 7.0, 1.0, 7.0, 11.0, 5.0, 4.0, 6.0, 10.0, 23.0, 10.0, 20.0, 12.0, 10.0, 9.0, 2.0, 17.0, 3.0, 5.0, 4.0, 10.0, 12.0, 10.0, 5.0, 5.0, 4.0, 9.0, 4.0, 2.0, 21.0, 13.0, 14.0, 8.0, 8.0, 5.0, 13.0, 28.0, 10.0, 12.0, 7.0, 9.0, 7.0, 14.0, 8.0, 23.0, 41.0, 22.0, 7.0, 34.0, 9.0, 6.0, 5.0, 31.0, 25.0, 29.0, 63.0, 16.0, 10.0, 30.0, 10.0, 28.0, 7.0, 47.0, 5.0, 2.0, 14.0, 26.0, 15.0, 13.0, 17.0, 18.0, 13.0, 8.0, 6.0, 30.0, 12.0, 6.0, 6.0, 7.0, 8.0, 10.0, 25.0, 13.0, 16.0, 2.0, 3.0, 3.0, 4.0, 42.0, 19.0, 23.0, 50.0, 61.0, 70.0, 1.0, 25.0, 49.0, 11.0, 13.0, 21.0, 39.0, 14.0, 7.0, 5.0, 18.0, 2.0, 9.0, 19.0, 13.0, 19.0, 16.0, 19.0, 25.0, 34.0, 40.0, 25.0, 12.0, 14.0, 23.0, 12.0, 31.0, 10.0, 16.0, 10.0, 13.0, 10.0, 16.0, 4.0, 16.0, 3.0, 5.0, 12.0, 5.0, 2.0, 11.0, 4.0, 1.0, 18.0, 3.0, 15.0, 26.0, 15.0, 18.0, 2.0, 28.0, 26.0, 12.0, 26.0, 58.0, 7.0, 28.0, 19.0, 17.0, 11.0, 37.0, 20.0, 25.0, 13.0, 21.0, 72.0, 63.0, 121.0, 76.0, 83.0, 68.0, 81.0, 87.0, 64.0, 91.0, 118.0, 69.0, 102.0, 96.0, 81.0, 119.0, 93.0, 121.0, 103.0, 75.0, 95.0, 128.0, 29.0, 69.0, 52.0, 59.0, 70.0, 41.0, 29.0, 38.0, 50.0, 23.0, 14.0, 24.0, 25.0, 22.0, 16.0, 41.0, 38.0, 1.0, 12.0, 9.0, 35.0, 19.0, 23.0, 43.0, 18.0, 25.0, 16.0, 27.0, 7.0, 12.0, 45.0, 29.0, 21.0, 22.0, 21.0, 17.0, 29.0, 21.0, 1.0, 20.0, 10.0, 7.0, 32.0, 20.0, 15.0, 18.0, 34.0, 10.0, 15.0, 12.0, 12.0, 15.0, 8.0, 13.0, 23.0, 19.0, 8.0, 23.0, 11.0, 2.0, 5.0, 2.0, 13.0, 11.0, 3.0, 16.0, 2.0, 7.0, 12.0, 17.0, 21.0, 12.0, 2.0, 11.0, 19.0, 4.0, 8.0, 16.0, 17.0, 15.0, 30.0, 1.0, 16.0, 2.0, 7.0, 14.0, 19.0, 34.0, 24.0, 14.0, 38.0, 25.0, 23.0, 42.0, 18.0, 19.0, 27.0, 47.0, 6.0, 21.0, 13.0, 9.0, 60.0, 32.0, 19.0, 32.0, 15.0, 5.0, 39.0, 18.0, 17.0, 10.0, 27.0, 22.0, 22.0, 28.0, 22.0, 13.0, 38.0, 15.0, 11.0, 32.0, 5.0, 12.0, 3.0, 16.0, 7.0, 10.0, 31.0, 5.0, 12.0, 14.0, 14.0, 12.0, 15.0, 40.0, 32.0, 10.0, 23.0, 11.0, 4.0, 6.0, 10.0, 3.0, 15.0, 6.0, 8.0, 38.0, 8.0, 6.0, 2.0, 20.0, 26.0, 5.0, 7.0, 8.0, 1.0, 14.0, 9.0, 9.0, 8.0, 9.0, 10.0, 3.0, 13.0, 16.0, 5.0, 18.0, 2.0, 7.0, 9.0, 11.0, 5.0, 4.0, 3.0, 3.0, 9.0, 8.0, 1.0, 4.0, 6.0, 5.0, 3.0, 5.0, 3.0, 5.0, 3.0, 2.0, 1.0, 7.0, 4.0, 1.0, 2.0, 1.0, 1.0, 3.0, 3.0, 6.0, 2.0, 1.0, 8.0, 6.0, 2.0, 2.0, 1.0, 2.0, 2.0, 4.0, 12.0, 3.0, 1.0, 1.0, 4.0, 2.0, 8.0, 2.0, 21.0, 7.0, 3.0, 3.0, 7.0, 2.0, 2.0, 1.0, 6.0, 2.0, 6.0, 3.0, 2.0, 2.0, 1.0, 3.0, 2.0, 4.0, 5.0, 2.0, 1.0, 6.0, 2.0, 4.0, 9.0, 4.0, 9.0, 1.0, 2.0, 4.0, 12.0, 1.0, 3.0, 1.0, 14.0, 1.0, 2.0, 6.0, 16.0, 2.0, 2.0, 3.0, 1.0, 3.0, 3.0, 2.0, 16.0, 4.0, 2.0, 2.0, 4.0, 14.0, 7.0, 2.0, 8.0, 10.0, 11.0, 10.0, 5.0, 10.0, 10.0, 8.0, 8.0, 1.0, 2.0, 1.0, 5.0, 7.0, 15.0, 2.0, 7.0, 8.0, 4.0, 12.0, 3.0, 1.0, 3.0, 2.0, 10.0, 1.0, 3.0, 5.0, 4.0, 4.0, 4.0, 4.0, 4.0, 1.0, 1.0, 1.0, 4.0, 2.0, 3.0, 1.0, 1.0, 3.0, 1.0, 3.0, 7.0, 5.0, 2.0, 1.0, 2.0, 2.0, 9.0, 3.0, 5.0, 3.0, 1.0, 1.0, 1.0, 5.0, 19.0, 6.0, 15.0, 6.0, 3.0, 4.0, 8.0, 9.0, 3.0, 3.0, 3.0, 2.0, 2.0, 3.0, 8.0, 6.0, 2.0, 1.0, 1.0, 5.0, 1.0, 5.0, 9.0, 2.0, 1.0, 1.0, 3.0, 6.0, 1.0, 2.0, 2.0, 1.0, 4.0, 3.0, 1.0, 1.0, 3.0, 4.0, 1.0, 2.0, 1.0, 6.0, 3.0, 2.0, 9.0, 1.0, 3.0, 1.0, 6.0, 2.0, 8.0, 3.0, 1.0, 15.0, 2.0, 7.0, 3.0, 2.0, 1.0, 1.0, 1.0, 1.0, 1.0, 1.0, 1.0, 3.0, 1.0, 2.0, 1.0, 3.0, 1.0, 2.0, 2.0, 1.0, 4.0, 1.0, 2.0, 3.0, 1.0, 3.0, 1.0, 1.0, 5.0, 1.0, 1.0, 4.0, 2.0, 5.0, 10.0, 2.0, 2.0, 5.0, 2.0, 12.0, 6.0, 4.0, 13.0, 3.0, 2.0, 1.0, 5.0, 3.0, 5.0, 3.0, 5.0, 1.0, 6.0, 3.0, 3.0, 11.0, 1.0, 2.0, 5.0, 3.0, 19.0, 5.0, 3.0, 9.0, 9.0, 4.0, 3.0, 5.0, 1.0, 1.0, 1.0, 3.0, 2.0, 1.0, 7.0, 3.0, 2.0, 4.0, 1.0, 5.0, 3.0, 8.0, 2.0, 2.0, 6.0, 5.0, 5.0, 3.0, 6.0, 4.0, 1.0, 1.0, 2.0, 5.0, 2.0, 7.0, 1.0, 3.0, 1.0, 1.0, 1.0, 2.0, 1.0, 5.0, 1.0, 2.0, 1.0, 1.0, 2.0, 1.0, 3.0, 3.0, 2.0, 2.0, 2.0, 2.0, 5.0, 3.0, 1.0, 4.0, 2.0, 4.0, 1.0, 1.0, 5.0, 1.0, 3.0, 2.0, 11.0, 1.0, 3.0, 10.0, 5.0, 5.0, 3.0, 2.0, 1.0, 2.0, 1.0, 2.0, 12.0, 7.0, 2.0, 5.0, 6.0, 2.0, 3.0, 8.0, 1.0, 3.0, 1.0, 3.0, 6.0, 7.0, 2.0, 7.0, 8.0, 2.0, 2.0, 3.0, 5.0, 6.0, 14.0, 4.0, 4.0, 4.0, 1.0, 6.0, 2.0, 1.0, 2.0, 1.0, 1.0, 1.0, 4.0, 3.0, 1.0, 1.0, 4.0, 2.0, 2.0, 3.0, 2.0, 4.0, 10.0, 4.0, 1.0, 2.0, 3.0, 3.0, 3.0, 1.0, 8.0, 1.0, 1.0, 5.0, 2.0, 3.0, 1.0, 3.0, 2.0, 1.0, 9.0, 2.0, 1.0, 10.0, 7.0, 1.0, 10.0, 1.0, 6.0, 4.0, 1.0, 1.0, 2.0, 4.0, 1.0, 3.0, 1.0, 1.0, 2.0, 5.0, 1.0, 1.0, 2.0, 3.0, 3.0, 2.0, 2.0, 1.0, 1.0, 7.0, 6.0, 1.0, 1.0, 1.0, 3.0, 3.0, 3.0, 1.0, 2.0, 1.0, 2.0, 1.0, 1.0, 11.0, 1.0, 1.0, 2.0, 1.0, 4.0, 1.0, 1.0, 2.0, 1.0, 1.0, 3.0, 5.0, 1.0, 2.0, 2.0, 1.0, 2.0, 1.0, 2.0, 1.0, 1.0, 2.0, 3.0, 1.0, 2.0, 8.0, 1.0, 2.0, 2.0, 2.0, 1.0, 1.0, 2.0, 1.0, 3.0, 2.0, 2.0, 1.0, 1.0, 2.0, 2.0, 1.0, 2.0, 2.0, 1.0, 6.0, 1.0, 1.0, 1.0, 3.0, 6.0, 2.0, 1.0, 1.0, 1.0, 1.0, 1.0, 1.0, 1.0, 1.0, 1.0, 4.0, 8.0, 1.0, 7.0, 3.0, 5.0, 1.0, 2.0, 2.0, 1.0, 1.0, 1.0, 3.0, 2.0, 1.0, 1.0, 2.0, 1.0, 1.0, 2.0, 1.0, 3.0, 5.0, 1.0, 2.0, 1.0, 2.0, 1.0, 1.0, 1.0, 1.0, 2.0, 1.0, 2.0, 1.0, 1.0, 4.0, 2.0, 1.0, 1.0, 2.0, 1.0, 1.0, 9.0, 1.0, 2.0, 1.0, 1.0, 1.0, 9.0, 1.0, 1.0, 3.0, 3.0, 1.0, 1.0, 1.0, 3.0, 1.0, 1.0, 1.0, 2.0, 1.0, 3.0, 4.0, 4.0, 1.0, 1.0, 1.0, 1.0, 1.0, 1.0, 2.0, 1.0, 1.0, 1.0, 2.0, 2.0, 1.0, 11.0, 2.0, 5.0, 1.0, 1.0, 3.0, 1.0, 1.0, 1.0, 1.0, 1.0, 1.0, 1.0, 2.0, 1.0, 1.0, 1.0, 1.0, 2.0, 5.0, 2.0, 3.0, 1.0, 2.0, 1.0, 6.0, 1.0, 3.0, 2.0, 1.0, 1.0, 1.0, 2.0, 4.0, 1.0, 2.0, 1.0, 6.0, 7.0, 2.0, 1.0, 1.0, 1.0, 1.0, 4.0, 1.0, 1.0, 1.0, 1.0, 1.0, 1.0, 1.0, 1.0, 5.0, 2.0, 1.0, 1.0, 1.0, 2.0, 1.0, 2.0, 1.0, 1.0, 1.0, 2.0, 1.0, 2.0, 1.0, 2.0, 1.0]\n"
     ]
    }
   ],
   "source": [
    "## print number of images for each label\n",
    "unique_labels_tmp = np.sort(np.array(list(set(labels))))\n",
    "num_img_per_label_all = np.zeros(len(unique_labels_tmp))\n",
    "for i in range(len(unique_labels_tmp)):\n",
    "    indx_i = np.where(labels==unique_labels_tmp[i])[0]\n",
    "    num_img_per_label_all[i] = len(indx_i)\n",
    "print(list(num_img_per_label_all))\n",
    "data_csv = np.concatenate((unique_labels_tmp.reshape(-1,1), num_img_per_label_all.reshape(-1,1)), 1)\n",
    "#np.savetxt('label_dist.csv', data_csv, delimiter=',')\n"
   ]
  },
  {
   "cell_type": "code",
   "execution_count": 88,
   "metadata": {},
   "outputs": [
    {
     "name": "stdout",
     "output_type": "stream",
     "text": [
      "Start replicating minority samples >>>\n"
     ]
    },
    {
     "name": "stderr",
     "output_type": "stream",
     "text": [
      "100%|██████████| 1774/1774 [03:42<00:00,  7.98it/s]\n"
     ]
    },
    {
     "name": "stdout",
     "output_type": "stream",
     "text": [
      "We replicate 77447 images and labels \n",
      "\n"
     ]
    }
   ],
   "source": [
    "## replicate minority samples to alleviate the imbalance issue\n",
    "max_num_img_per_label_after_replica = 50\n",
    "if max_num_img_per_label_after_replica>1:\n",
    "    unique_labels_replica = np.sort(np.array(list(set(labels))))\n",
    "    num_labels_replicated = 0\n",
    "    print(\"Start replicating minority samples >>>\")\n",
    "    for i in tqdm(range(len(unique_labels_replica))):\n",
    "        curr_label = unique_labels_replica[i]\n",
    "        indx_i = np.where(labels == curr_label)[0]\n",
    "        if len(indx_i) < max_num_img_per_label_after_replica:\n",
    "            num_img_less = max_num_img_per_label_after_replica - len(indx_i)\n",
    "            indx_replica = np.random.choice(indx_i, size = num_img_less, replace=True)\n",
    "            if num_labels_replicated == 0:\n",
    "                images_replica = images[indx_replica]\n",
    "                labels_replica = labels[indx_replica]\n",
    "            else:\n",
    "                images_replica = np.concatenate((images_replica, images[indx_replica]), axis=0)\n",
    "                labels_replica = np.concatenate((labels_replica, labels[indx_replica]))\n",
    "            num_labels_replicated+=1\n",
    "    #end for i\n",
    "    images = np.concatenate((images, images_replica), axis=0)\n",
    "    labels = np.concatenate((labels, labels_replica))\n",
    "    print(\"We replicate {} images and labels \\n\".format(len(images_replica)))\n",
    "    del images_replica, labels_replica; gc.collect()\n"
   ]
  },
  {
   "cell_type": "code",
   "execution_count": 89,
   "metadata": {},
   "outputs": [
    {
     "data": {
      "image/png": "[encoded data removed]",
      "text/plain": [
       "<Figure size 640x480 with 1 Axes>"
      ]
     },
     "metadata": {},
     "output_type": "display_data"
    }
   ],
   "source": [
    "# plot the histogram of unnormalized labels\n",
    "hist_filename =\"histogram_unnormalized_angle_\" + str(64) + 'x' + str(64)\n",
    "num_bins = 500\n",
    "plt.figure()\n",
    "plt.hist(labels, num_bins, facecolor='blue', density=False)\n",
    "plt.savefig(hist_filename)"
   ]
  },
  {
   "cell_type": "code",
   "execution_count": 90,
   "metadata": {},
   "outputs": [
    {
     "name": "stdout",
     "output_type": "stream",
     "text": [
      "\n",
      " Range of unnormalized labels: (-79.760002,79.97)\n"
     ]
    }
   ],
   "source": [
    "# normalize labels\n",
    "print(\"\\n Range of unnormalized labels: ({},{})\".format(np.min(labels), np.max(labels)))\n",
    "min_label_before_shift = np.min(labels)\n",
    "max_label_after_shift = np.max(labels+np.abs(min_label_before_shift))"
   ]
  },
  {
   "cell_type": "code",
   "execution_count": 91,
   "metadata": {},
   "outputs": [
    {
     "name": "stdout",
     "output_type": "stream",
     "text": [
      "\n",
      " Range of normalized labels: (-0.997000025,0.999625)\n",
      "\n",
      " There are 1774 unique labels.\n",
      "\n",
      " Use rule-of-thumb formula to compute kernel_sigma >>>\n",
      "\n",
      " The std of 89718 labels is 0.5631393524139884 so the kernel sigma is 0.0610022460436445\n"
     ]
    },
    {
     "data": {
      "image/png": "[encoded data removed]",
      "text/plain": [
       "<Figure size 640x480 with 1 Axes>"
      ]
     },
     "metadata": {},
     "output_type": "display_data"
    }
   ],
   "source": [
    "\n",
    "if True:\n",
    "    # normalize labels to [-1,1]\n",
    "\n",
    "    labels /= 80\n",
    "   \n",
    "\n",
    "    # plot the histogram of normalized labels\n",
    "    hist_filename = \"histogram_normalized_angle_\" + str(64) + 'x' + str(64)\n",
    "    num_bins = 500\n",
    "    plt.figure()\n",
    "    plt.hist(labels, num_bins, facecolor='blue', density=False)\n",
    "    plt.savefig(hist_filename)\n",
    "\n",
    "    print(\"\\n Range of normalized labels: ({},{})\".format(np.min(labels), np.max(labels)))\n",
    "\n",
    "    unique_labels_norm = np.sort(np.array(list(set(labels))))\n",
    "\n",
    "    print(\"\\n There are {} unique labels.\".format(len(unique_labels_norm)))\n",
    "\n",
    "    if True:\n",
    "        std_label = np.std(labels)\n",
    "        kernel_sigma = 1.06*std_label*(len(labels))**(-1/5)\n",
    "\n",
    "        print(\"\\n Use rule-of-thumb formula to compute kernel_sigma >>>\")\n",
    "        print(\"\\n The std of {} labels is {} so the kernel sigma is {}\".format(len(labels), std_label, kernel_sigma))\n",
    "\n",
    "    if True:\n",
    "        n_unique = len(unique_labels_norm)\n",
    "\n",
    "        diff_list = []\n",
    "        for i in range(1,n_unique):\n",
    "            diff_list.append(unique_labels_norm[i] - unique_labels_norm[i-1])\n",
    "        \n",
    "\n",
    "## end if args.GAN\n",
    "\n"
   ]
  },
  {
   "cell_type": "code",
   "execution_count": 30,
   "metadata": {},
   "outputs": [],
   "source": [
    "batch_size = 659"
   ]
  },
  {
   "cell_type": "code",
   "execution_count": 32,
   "metadata": {},
   "outputs": [],
   "source": [
    "import tensorflow as tf\n",
    "# Create tf.data.Dataset\n",
    "dataset = tf.data.Dataset.from_tensor_slices((images, labels))\n",
    "dataset = dataset.shuffle(buffer_size=1000).batch(batch_size)"
   ]
  },
  {
   "cell_type": "code",
   "execution_count": 33,
   "metadata": {},
   "outputs": [],
   "source": [
    "import tensorflow as tf\n",
    "from tensorflow.keras.optimizers import Adam\n",
    "\n",
    "# Optimiser for both Generator and Discriminator \n",
    "d_optimizer = Adam(learning_rate=0.0002, beta_1=0.5)\n",
    "g_optimizer = Adam(learning_rate=0.0002, beta_1=0.5)\n",
    "\n",
    "# Discriminator Loss\n",
    "def discriminator_loss(real, fake):\n",
    "    real_loss = tf.reduce_mean(tf.square(tf.ones_like(real) - real))\n",
    "    fake_loss = tf.reduce_mean(tf.square(tf.zeros_like(fake) - fake))\n",
    "    total_loss = real_loss + fake_loss\n",
    "    return total_loss\n",
    "\n",
    "# Generator Loss\n",
    "def generator_loss(preds):\n",
    "    return tf.reduce_mean(tf.square(tf.ones_like(preds) - preds))\n"
   ]
  },
  {
   "cell_type": "code",
   "execution_count": 34,
   "metadata": {},
   "outputs": [],
   "source": [
    "import tensorflow as tf\n",
    "\n",
    "def build_generator(noise_dim=20, image_shape=(64, 64, 3)):\n",
    "    # Generator input layers\n",
    "    in_lat = tf.keras.layers.Input(shape=(noise_dim,))\n",
    "    in_img = tf.keras.layers.Input(shape=image_shape)\n",
    "\n",
    "    # Fully connected layer for noise\n",
    "    dense_layer = tf.keras.layers.Dense(256)(in_lat)\n",
    "\n",
    "    # Reshape noise to match image size\n",
    "    reshape_layer = tf.keras.layers.Reshape((1, 1, 256))(dense_layer)\n",
    "    tiled_layer = tf.keras.layers.UpSampling2D(size=(64, 64))(reshape_layer)\n",
    "\n",
    "    # Convolutional layers with spatial batch normalization and LeakyReLU activations\n",
    "    conv1 = tf.keras.layers.Conv2D(8, kernel_size=(4, 4), strides=(2, 2), padding='same')(in_img)\n",
    "    norm1 = tf.keras.layers.BatchNormalization()(conv1)\n",
    "    leaky_relu1 = tf.keras.layers.LeakyReLU(0.2)(norm1)\n",
    "\n",
    "    conv2 = tf.keras.layers.Conv2D(16, kernel_size=(4, 4), strides=(2, 2), padding='same')(leaky_relu1)\n",
    "    norm2 = tf.keras.layers.BatchNormalization()(conv2)\n",
    "    leaky_relu2 = tf.keras.layers.LeakyReLU(0.2)(norm2)\n",
    "\n",
    "    conv3 = tf.keras.layers.Conv2D(32, kernel_size=(4, 4), strides=(2, 2), padding='same')(leaky_relu2)\n",
    "    norm3 = tf.keras.layers.BatchNormalization()(conv3)\n",
    "    leaky_relu3 = tf.keras.layers.LeakyReLU(0.2)(norm3)\n",
    "\n",
    "    conv4 = tf.keras.layers.Conv2D(64, kernel_size=(4, 4), strides=(2, 2), padding='same')(leaky_relu3)\n",
    "    norm4 = tf.keras.layers.BatchNormalization()(conv4)\n",
    "    leaky_relu4 = tf.keras.layers.LeakyReLU(0.2)(norm4)\n",
    "\n",
    "    conv5 = tf.keras.layers.Conv2D(128, kernel_size=(4, 4), strides=(2, 2), padding='same')(leaky_relu4)\n",
    "    norm5 = tf.keras.layers.BatchNormalization()(conv5)\n",
    "    leaky_relu5 = tf.keras.layers.LeakyReLU(0.2)(norm5)\n",
    "\n",
    "    conv6 = tf.keras.layers.Conv2D(256, kernel_size=(4, 4), strides=(2, 2), padding='same')(leaky_relu5)\n",
    "    norm6 = tf.keras.layers.BatchNormalization()(conv6)\n",
    "    leaky_relu6 = tf.keras.layers.LeakyReLU(0.2)(norm6)\n",
    "\n",
    "    # Flatten and concatenate with noise\n",
    "    flatten_layer = tf.keras.layers.Flatten()(leaky_relu6)\n",
    "    concat_layer2 = tf.keras.layers.Concatenate(axis=-1)([flatten_layer, dense_layer])\n",
    "\n",
    "    # Fully connected layer\n",
    "    dense_layer2 = tf.keras.layers.Dense(20)(concat_layer2)\n",
    "\n",
    "    # Output layer\n",
    "    output_layer = tf.keras.layers.Dense(1)(dense_layer2)\n",
    "\n",
    "    # Define the model\n",
    "    model = tf.keras.models.Model(inputs=[in_lat, in_img], outputs=output_layer)\n",
    "\n",
    "    return model\n",
    "\n",
    "# Example usage:\n",
    "generator = build_generator()\n"
   ]
  },
  {
   "cell_type": "code",
   "execution_count": 35,
   "metadata": {},
   "outputs": [],
   "source": [
    "def build_discriminator():\n",
    "    # Discriminator input layers\n",
    "    in_img = tf.keras.layers.Input(shape=(64,64,3))\n",
    "    in_label = tf.keras.layers.Input(shape=(1,))\n",
    "\n",
    "    # Convolutional layers with spatial batch normalization and LeakyReLU activations\n",
    "    conv1 = tf.keras.layers.Conv2D(8, kernel_size=(4, 4), strides=(2, 2), padding='same')(in_img)\n",
    "    norm1 = tf.keras.layers.BatchNormalization()(conv1)\n",
    "    leaky_relu1 = tf.keras.layers.LeakyReLU(0.2)(norm1)\n",
    "\n",
    "    conv2 = tf.keras.layers.Conv2D(16, kernel_size=(4, 4), strides=(2, 2), padding='same')(leaky_relu1)\n",
    "    norm2 = tf.keras.layers.BatchNormalization()(conv2)\n",
    "    leaky_relu2 = tf.keras.layers.LeakyReLU(0.2)(norm2)\n",
    "\n",
    "    conv3 = tf.keras.layers.Conv2D(32, kernel_size=(4, 4), strides=(2, 2), padding='same')(leaky_relu2)\n",
    "    norm3 = tf.keras.layers.BatchNormalization()(conv3)\n",
    "    leaky_relu3 = tf.keras.layers.LeakyReLU(0.2)(norm3)\n",
    "\n",
    "    conv4 = tf.keras.layers.Conv2D(64, kernel_size=(4, 4), strides=(2, 2), padding='same')(leaky_relu3)\n",
    "    norm4 = tf.keras.layers.BatchNormalization()(conv4)\n",
    "    leaky_relu4 = tf.keras.layers.LeakyReLU(0.2)(norm4)\n",
    "\n",
    "    conv5 = tf.keras.layers.Conv2D(128, kernel_size=(4, 4), strides=(2, 2), padding='same')(leaky_relu4)\n",
    "    norm5 = tf.keras.layers.BatchNormalization()(conv5)\n",
    "    leaky_relu5 = tf.keras.layers.LeakyReLU(0.2)(norm5)\n",
    "\n",
    "    conv6 = tf.keras.layers.Conv2D(256, kernel_size=(4, 4), strides=(2, 2), padding='same')(leaky_relu5)\n",
    "    norm6 = tf.keras.layers.BatchNormalization()(conv6)\n",
    "    leaky_relu6 = tf.keras.layers.LeakyReLU(0.2)(norm6)\n",
    "\n",
    "    # Flatten\n",
    "    flatten_layer = tf.keras.layers.Flatten()(leaky_relu6)\n",
    "\n",
    "    # Concatenate with label\n",
    "    concat_layer = tf.keras.layers.Concatenate(axis=-1)([flatten_layer, in_label])\n",
    "\n",
    "    # Fully connected layer\n",
    "    dense_layer = tf.keras.layers.Dense(1, activation='tanh')(concat_layer)\n",
    "\n",
    "    # Define the model\n",
    "    model = tf.keras.models.Model(inputs=[in_img, in_label], outputs=dense_layer)\n",
    "\n",
    "    return model\n",
    "\n",
    "discriminator = build_discriminator()\n"
   ]
  },
  {
   "cell_type": "code",
   "execution_count": 36,
   "metadata": {},
   "outputs": [],
   "source": [
    "noise_dim = 20\n",
    "# Compiles the train_step function into a callable TensorFlow graph\n",
    "@tf.function\n",
    "def train_step(dataset):\n",
    "\t\n",
    "\n",
    "\treal_images1, real_labels1 = dataset\n",
    "\treal_images1 = tf.reshape(real_images1, (-1,64, 64, 3))\n",
    "\t# Sample random points in the latent space and concatenate the labels.\n",
    "\trandom_latent_vectors = tf.random.normal(shape=(batch_size, noise_dim))\n",
    "\tgenerated_labels = generator([random_latent_vectors, real_images1])\n",
    "\n",
    "\t# Train the discriminator.\n",
    "\twith tf.GradientTape() as tape:\n",
    "\t\tpred_fake = discriminator([real_images1, generated_labels])\n",
    "\t\tpred_real = discriminator([real_images1, real_labels1])\n",
    "\t\t\n",
    "\t\td_loss = discriminator_loss(pred_real, pred_fake)\n",
    "\t\tprint(d_loss)\n",
    "\n",
    "\tgrads = tape.gradient(d_loss, discriminator.trainable_variables)\n",
    "\n",
    "\t# print(grads)\n",
    "\td_optimizer.apply_gradients(zip(grads, discriminator.trainable_variables))\n",
    "\n",
    "\t#-----------------------------------------------------------------#\n",
    "\t\n",
    "\t# Sample random points in the latent space.\n",
    "\trandom_latent_vectors = tf.random.normal(shape=(batch_size, noise_dim))\n",
    "\t\n",
    "\t# Train the generator\n",
    "\twith tf.GradientTape() as tape:\n",
    "\t\tfake_labels = generator([random_latent_vectors, real_images1])\n",
    "\n",
    "\t\tpredictions = discriminator([real_images1,fake_labels])\n",
    "\n",
    "\t\tg_loss = generator_loss(predictions)\n",
    "\t\n",
    "\tgrads = tape.gradient(g_loss, generator.trainable_variables)\n",
    "\n",
    "\tg_optimizer.apply_gradients(zip(grads, generator.trainable_variables))\n",
    "\t\n",
    "\treturn d_loss, g_loss\n"
   ]
  },
  {
   "cell_type": "code",
   "execution_count": 38,
   "metadata": {},
   "outputs": [
    {
     "name": "stdout",
     "output_type": "stream",
     "text": [
      "Epoch:  0\n"
     ]
    },
    {
     "name": "stderr",
     "output_type": "stream",
     "text": [
      "  0%|          | 0/21 [00:00<?, ?it/s]"
     ]
    },
    {
     "name": "stdout",
     "output_type": "stream",
     "text": [
      "Tensor(\"add:0\", shape=(), dtype=float32)\n",
      "Tensor(\"add:0\", shape=(), dtype=float32)\n"
     ]
    },
    {
     "name": "stderr",
     "output_type": "stream",
     "text": [
      "100%|██████████| 21/21 [01:00<00:00,  2.41s/it]2024-04-28 21:52:39.131134: W tensorflow/core/framework/local_rendezvous.cc:404] Local rendezvous is aborting with status: OUT_OF_RANGE: End of sequence\n",
      "100%|██████████| 21/21 [01:00<00:00,  2.89s/it]\n"
     ]
    },
    {
     "name": "stdout",
     "output_type": "stream",
     "text": [
      "Epoch: 0 -- Generator Loss: 0.23287633061408997, Discriminator Loss: 0.800065815448761\n",
      "\n",
      "Took 61.36494588851929 seconds. \n",
      "\n",
      "\n",
      "Epoch:  1\n"
     ]
    },
    {
     "name": "stderr",
     "output_type": "stream",
     "text": [
      "100%|██████████| 21/21 [00:52<00:00,  2.57s/it]2024-04-28 21:53:31.953665: W tensorflow/core/framework/local_rendezvous.cc:404] Local rendezvous is aborting with status: OUT_OF_RANGE: End of sequence\n",
      "100%|██████████| 21/21 [01:21<00:00,  3.90s/it]\n"
     ]
    },
    {
     "name": "stdout",
     "output_type": "stream",
     "text": [
      "Epoch: 1 -- Generator Loss: 0.0003780923434533179, Discriminator Loss: 0.986983060836792\n",
      "\n",
      "Took 82.02948117256165 seconds. \n",
      "\n",
      "\n",
      "Epoch:  2\n"
     ]
    },
    {
     "name": "stderr",
     "output_type": "stream",
     "text": [
      "100%|██████████| 21/21 [00:46<00:00,  2.55s/it]2024-04-28 21:54:47.570439: W tensorflow/core/framework/local_rendezvous.cc:404] Local rendezvous is aborting with status: OUT_OF_RANGE: End of sequence\n",
      "100%|██████████| 21/21 [00:46<00:00,  2.21s/it]\n"
     ]
    },
    {
     "name": "stdout",
     "output_type": "stream",
     "text": [
      "Epoch: 2 -- Generator Loss: 0.00022143493697512895, Discriminator Loss: 0.990715742111206\n",
      "\n",
      "Took 46.365914821624756 seconds. \n",
      "\n",
      "\n",
      "Epoch:  3\n"
     ]
    },
    {
     "name": "stderr",
     "output_type": "stream",
     "text": [
      "100%|██████████| 21/21 [00:48<00:00,  2.19s/it]2024-04-28 21:55:36.587178: W tensorflow/core/framework/local_rendezvous.cc:404] Local rendezvous is aborting with status: OUT_OF_RANGE: End of sequence\n",
      "100%|██████████| 21/21 [00:48<00:00,  2.33s/it]\n"
     ]
    },
    {
     "name": "stdout",
     "output_type": "stream",
     "text": [
      "Epoch: 3 -- Generator Loss: 0.00014804063539486378, Discriminator Loss: 0.9927780628204346\n",
      "\n",
      "Took 49.039855003356934 seconds. \n",
      "\n",
      "\n",
      "Epoch:  4\n"
     ]
    },
    {
     "name": "stderr",
     "output_type": "stream",
     "text": [
      "100%|██████████| 21/21 [00:48<00:00,  2.16s/it]2024-04-28 21:56:25.357896: W tensorflow/core/framework/local_rendezvous.cc:404] Local rendezvous is aborting with status: OUT_OF_RANGE: End of sequence\n",
      "100%|██████████| 21/21 [00:48<00:00,  2.32s/it]\n"
     ]
    },
    {
     "name": "stdout",
     "output_type": "stream",
     "text": [
      "Epoch: 4 -- Generator Loss: 0.00010925789683824405, Discriminator Loss: 0.9940420985221863\n",
      "\n",
      "Took 48.74070119857788 seconds. \n",
      "\n",
      "\n",
      "Epoch:  5\n"
     ]
    },
    {
     "name": "stderr",
     "output_type": "stream",
     "text": [
      "100%|██████████| 21/21 [00:43<00:00,  1.81s/it]2024-04-28 21:57:08.601283: W tensorflow/core/framework/local_rendezvous.cc:404] Local rendezvous is aborting with status: OUT_OF_RANGE: End of sequence\n",
      "100%|██████████| 21/21 [00:43<00:00,  2.06s/it]\n"
     ]
    },
    {
     "name": "stdout",
     "output_type": "stream",
     "text": [
      "Epoch: 5 -- Generator Loss: 8.770303975325078e-05, Discriminator Loss: 0.9948473572731018\n",
      "\n",
      "Took 43.24610900878906 seconds. \n",
      "\n",
      "\n",
      "Epoch:  6\n"
     ]
    },
    {
     "name": "stderr",
     "output_type": "stream",
     "text": [
      "100%|██████████| 21/21 [00:46<00:00,  2.14s/it]2024-04-28 21:57:54.939446: W tensorflow/core/framework/local_rendezvous.cc:404] Local rendezvous is aborting with status: OUT_OF_RANGE: End of sequence\n",
      "100%|██████████| 21/21 [00:46<00:00,  2.21s/it]\n"
     ]
    },
    {
     "name": "stdout",
     "output_type": "stream",
     "text": [
      "Epoch: 6 -- Generator Loss: 7.231944618979469e-05, Discriminator Loss: 0.9954240918159485\n",
      "\n",
      "Took 46.35851287841797 seconds. \n",
      "\n",
      "\n",
      "Epoch:  7\n"
     ]
    },
    {
     "name": "stderr",
     "output_type": "stream",
     "text": [
      "100%|██████████| 21/21 [00:45<00:00,  1.86s/it]2024-04-28 21:58:40.732749: W tensorflow/core/framework/local_rendezvous.cc:404] Local rendezvous is aborting with status: OUT_OF_RANGE: End of sequence\n",
      "100%|██████████| 21/21 [00:45<00:00,  2.18s/it]\n"
     ]
    },
    {
     "name": "stdout",
     "output_type": "stream",
     "text": [
      "Epoch: 7 -- Generator Loss: 6.373578798957169e-05, Discriminator Loss: 0.9958463311195374\n",
      "\n",
      "Took 45.76588582992554 seconds. \n",
      "\n",
      "\n",
      "Epoch:  8\n"
     ]
    },
    {
     "name": "stderr",
     "output_type": "stream",
     "text": [
      "100%|██████████| 21/21 [00:46<00:00,  2.35s/it]2024-04-28 21:59:26.782865: W tensorflow/core/framework/local_rendezvous.cc:404] Local rendezvous is aborting with status: OUT_OF_RANGE: End of sequence\n",
      "100%|██████████| 21/21 [00:46<00:00,  2.19s/it]\n"
     ]
    },
    {
     "name": "stdout",
     "output_type": "stream",
     "text": [
      "Epoch: 8 -- Generator Loss: 5.6624325225129724e-05, Discriminator Loss: 0.9961263537406921\n",
      "\n",
      "Took 46.050616979599 seconds. \n",
      "\n",
      "\n",
      "Epoch:  9\n"
     ]
    },
    {
     "name": "stderr",
     "output_type": "stream",
     "text": [
      "100%|██████████| 21/21 [00:46<00:00,  2.36s/it]2024-04-28 22:00:13.521960: W tensorflow/core/framework/local_rendezvous.cc:404] Local rendezvous is aborting with status: OUT_OF_RANGE: End of sequence\n",
      "100%|██████████| 21/21 [00:46<00:00,  2.22s/it]\n"
     ]
    },
    {
     "name": "stdout",
     "output_type": "stream",
     "text": [
      "Epoch: 9 -- Generator Loss: 5.2782317652599886e-05, Discriminator Loss: 0.9963350892066956\n",
      "\n",
      "Took 46.73694610595703 seconds. \n",
      "\n",
      "\n",
      "Epoch:  10\n"
     ]
    },
    {
     "name": "stderr",
     "output_type": "stream",
     "text": [
      "100%|██████████| 21/21 [00:42<00:00,  1.75s/it]2024-04-28 22:00:55.594151: W tensorflow/core/framework/local_rendezvous.cc:404] Local rendezvous is aborting with status: OUT_OF_RANGE: End of sequence\n",
      "100%|██████████| 21/21 [00:42<00:00,  2.00s/it]\n"
     ]
    },
    {
     "name": "stdout",
     "output_type": "stream",
     "text": [
      "Epoch: 10 -- Generator Loss: 4.9268786824541166e-05, Discriminator Loss: 0.996477484703064\n",
      "\n",
      "Took 42.072383880615234 seconds. \n",
      "\n",
      "\n",
      "Epoch:  11\n"
     ]
    },
    {
     "name": "stderr",
     "output_type": "stream",
     "text": [
      "100%|██████████| 21/21 [00:45<00:00,  2.08s/it]2024-04-28 22:01:40.783111: W tensorflow/core/framework/local_rendezvous.cc:404] Local rendezvous is aborting with status: OUT_OF_RANGE: End of sequence\n",
      "100%|██████████| 21/21 [00:45<00:00,  2.15s/it]\n"
     ]
    },
    {
     "name": "stdout",
     "output_type": "stream",
     "text": [
      "Epoch: 11 -- Generator Loss: 4.768483995576389e-05, Discriminator Loss: 0.9965329170227051\n",
      "\n",
      "Took 45.19039702415466 seconds. \n",
      "\n",
      "\n",
      "Epoch:  12\n"
     ]
    },
    {
     "name": "stderr",
     "output_type": "stream",
     "text": [
      "100%|██████████| 21/21 [00:44<00:00,  1.95s/it]2024-04-28 22:02:25.189048: W tensorflow/core/framework/local_rendezvous.cc:404] Local rendezvous is aborting with status: OUT_OF_RANGE: End of sequence\n",
      "100%|██████████| 21/21 [00:44<00:00,  2.11s/it]\n"
     ]
    },
    {
     "name": "stdout",
     "output_type": "stream",
     "text": [
      "Epoch: 12 -- Generator Loss: 4.8148805944947526e-05, Discriminator Loss: 0.996524453163147\n",
      "\n",
      "Took 44.40314698219299 seconds. \n",
      "\n",
      "\n",
      "Epoch:  13\n"
     ]
    },
    {
     "name": "stderr",
     "output_type": "stream",
     "text": [
      "100%|██████████| 21/21 [00:28<00:00,  1.15it/s]2024-04-28 22:02:53.482268: W tensorflow/core/framework/local_rendezvous.cc:404] Local rendezvous is aborting with status: OUT_OF_RANGE: End of sequence\n",
      "100%|██████████| 21/21 [00:28<00:00,  1.35s/it]\n"
     ]
    },
    {
     "name": "stdout",
     "output_type": "stream",
     "text": [
      "Epoch: 13 -- Generator Loss: 5.0103364628739655e-05, Discriminator Loss: 0.9964492321014404\n",
      "\n",
      "Took 28.2877299785614 seconds. \n",
      "\n",
      "\n",
      "Epoch:  14\n"
     ]
    },
    {
     "name": "stderr",
     "output_type": "stream",
     "text": [
      "100%|██████████| 21/21 [00:20<00:00,  1.03s/it]2024-04-28 22:03:13.717870: W tensorflow/core/framework/local_rendezvous.cc:404] Local rendezvous is aborting with status: OUT_OF_RANGE: End of sequence\n",
      "100%|██████████| 21/21 [00:20<00:00,  1.04it/s]\n"
     ]
    },
    {
     "name": "stdout",
     "output_type": "stream",
     "text": [
      "Epoch: 14 -- Generator Loss: 5.4026015277486295e-05, Discriminator Loss: 0.9962297081947327\n",
      "\n",
      "Took 20.26138710975647 seconds. \n",
      "\n",
      "\n",
      "Epoch:  15\n"
     ]
    },
    {
     "name": "stderr",
     "output_type": "stream",
     "text": [
      "100%|██████████| 21/21 [00:18<00:00,  1.06s/it]2024-04-28 22:03:32.735103: W tensorflow/core/framework/local_rendezvous.cc:404] Local rendezvous is aborting with status: OUT_OF_RANGE: End of sequence\n",
      "100%|██████████| 21/21 [00:18<00:00,  1.11it/s]\n"
     ]
    },
    {
     "name": "stdout",
     "output_type": "stream",
     "text": [
      "Epoch: 15 -- Generator Loss: 6.323384877759963e-05, Discriminator Loss: 0.9958291053771973\n",
      "\n",
      "Took 18.990812063217163 seconds. \n",
      "\n",
      "\n",
      "Epoch:  16\n"
     ]
    },
    {
     "name": "stderr",
     "output_type": "stream",
     "text": [
      "100%|██████████| 21/21 [00:19<00:00,  1.24it/s]2024-04-28 22:03:52.223042: W tensorflow/core/framework/local_rendezvous.cc:404] Local rendezvous is aborting with status: OUT_OF_RANGE: End of sequence\n",
      "100%|██████████| 21/21 [00:19<00:00,  1.08it/s]\n"
     ]
    },
    {
     "name": "stdout",
     "output_type": "stream",
     "text": [
      "Epoch: 16 -- Generator Loss: 8.355871250387281e-05, Discriminator Loss: 0.9949954748153687\n",
      "\n",
      "Took 19.540925979614258 seconds. \n",
      "\n",
      "\n",
      "Epoch:  17\n"
     ]
    },
    {
     "name": "stderr",
     "output_type": "stream",
     "text": [
      "100%|██████████| 21/21 [00:19<00:00,  1.18it/s]2024-04-28 22:04:11.820871: W tensorflow/core/framework/local_rendezvous.cc:404] Local rendezvous is aborting with status: OUT_OF_RANGE: End of sequence\n",
      "100%|██████████| 21/21 [00:19<00:00,  1.08it/s]\n"
     ]
    },
    {
     "name": "stdout",
     "output_type": "stream",
     "text": [
      "Epoch: 17 -- Generator Loss: 0.00015149648243095726, Discriminator Loss: 0.992870032787323\n",
      "\n",
      "Took 19.563361883163452 seconds. \n",
      "\n",
      "\n",
      "Epoch:  18\n"
     ]
    },
    {
     "name": "stderr",
     "output_type": "stream",
     "text": [
      "100%|██████████| 21/21 [00:18<00:00,  1.18it/s]2024-04-28 22:04:30.829078: W tensorflow/core/framework/local_rendezvous.cc:404] Local rendezvous is aborting with status: OUT_OF_RANGE: End of sequence\n",
      "100%|██████████| 21/21 [00:18<00:00,  1.11it/s]\n"
     ]
    },
    {
     "name": "stdout",
     "output_type": "stream",
     "text": [
      "Epoch: 18 -- Generator Loss: 0.05513346940279007, Discriminator Loss: 0.9431450963020325\n",
      "\n",
      "Took 18.991276025772095 seconds. \n",
      "\n",
      "\n",
      "Epoch:  19\n"
     ]
    },
    {
     "name": "stderr",
     "output_type": "stream",
     "text": [
      "100%|██████████| 21/21 [00:19<00:00,  1.01s/it]2024-04-28 22:04:50.429563: W tensorflow/core/framework/local_rendezvous.cc:404] Local rendezvous is aborting with status: OUT_OF_RANGE: End of sequence\n",
      "100%|██████████| 21/21 [00:19<00:00,  1.07it/s]\n"
     ]
    },
    {
     "name": "stdout",
     "output_type": "stream",
     "text": [
      "Epoch: 19 -- Generator Loss: 0.2481057345867157, Discriminator Loss: 0.5770042538642883\n",
      "\n",
      "Took 19.60220503807068 seconds. \n",
      "\n",
      "\n",
      "Epoch:  20\n"
     ]
    },
    {
     "name": "stderr",
     "output_type": "stream",
     "text": [
      "100%|██████████| 21/21 [00:20<00:00,  1.12it/s]2024-04-28 22:05:11.281660: W tensorflow/core/framework/local_rendezvous.cc:404] Local rendezvous is aborting with status: OUT_OF_RANGE: End of sequence\n",
      "100%|██████████| 21/21 [00:20<00:00,  1.01it/s]\n"
     ]
    },
    {
     "name": "stdout",
     "output_type": "stream",
     "text": [
      "Epoch: 20 -- Generator Loss: 0.29749831557273865, Discriminator Loss: 0.48883628845214844\n",
      "\n",
      "Took 20.867770195007324 seconds. \n",
      "\n",
      "\n",
      "Epoch:  21\n"
     ]
    },
    {
     "name": "stderr",
     "output_type": "stream",
     "text": [
      "100%|██████████| 21/21 [00:18<00:00,  1.20it/s]2024-04-28 22:05:29.742114: W tensorflow/core/framework/local_rendezvous.cc:404] Local rendezvous is aborting with status: OUT_OF_RANGE: End of sequence\n",
      "100%|██████████| 21/21 [00:18<00:00,  1.14it/s]\n"
     ]
    },
    {
     "name": "stdout",
     "output_type": "stream",
     "text": [
      "Epoch: 21 -- Generator Loss: 0.2439763844013214, Discriminator Loss: 0.6195216178894043\n",
      "\n",
      "Took 18.448582887649536 seconds. \n",
      "\n",
      "\n",
      "Epoch:  22\n"
     ]
    },
    {
     "name": "stderr",
     "output_type": "stream",
     "text": [
      "100%|██████████| 21/21 [00:19<00:00,  1.01s/it]2024-04-28 22:05:49.637286: W tensorflow/core/framework/local_rendezvous.cc:404] Local rendezvous is aborting with status: OUT_OF_RANGE: End of sequence\n",
      "100%|██████████| 21/21 [00:19<00:00,  1.06it/s]\n"
     ]
    },
    {
     "name": "stdout",
     "output_type": "stream",
     "text": [
      "Epoch: 22 -- Generator Loss: 0.2734723687171936, Discriminator Loss: 0.5352959632873535\n",
      "\n",
      "Took 19.889635801315308 seconds. \n",
      "\n",
      "\n",
      "Epoch:  23\n"
     ]
    },
    {
     "name": "stderr",
     "output_type": "stream",
     "text": [
      "100%|██████████| 21/21 [00:20<00:00,  1.01it/s]2024-04-28 22:06:09.863043: W tensorflow/core/framework/local_rendezvous.cc:404] Local rendezvous is aborting with status: OUT_OF_RANGE: End of sequence\n",
      "100%|██████████| 21/21 [00:20<00:00,  1.04it/s]\n"
     ]
    },
    {
     "name": "stdout",
     "output_type": "stream",
     "text": [
      "Epoch: 23 -- Generator Loss: 0.24592144787311554, Discriminator Loss: 0.5090727210044861\n",
      "\n",
      "Took 20.2340350151062 seconds. \n",
      "\n",
      "\n",
      "Epoch:  24\n"
     ]
    },
    {
     "name": "stderr",
     "output_type": "stream",
     "text": [
      "100%|██████████| 21/21 [00:19<00:00,  1.04s/it]2024-04-28 22:06:29.497028: W tensorflow/core/framework/local_rendezvous.cc:404] Local rendezvous is aborting with status: OUT_OF_RANGE: End of sequence\n",
      "100%|██████████| 21/21 [00:19<00:00,  1.07it/s]\n"
     ]
    },
    {
     "name": "stdout",
     "output_type": "stream",
     "text": [
      "Epoch: 24 -- Generator Loss: 0.21128277480602264, Discriminator Loss: 0.5574859380722046\n",
      "\n",
      "Took 19.62496519088745 seconds. \n",
      "\n",
      "\n",
      "Epoch:  25\n"
     ]
    },
    {
     "name": "stderr",
     "output_type": "stream",
     "text": [
      "100%|██████████| 21/21 [00:21<00:00,  1.02it/s]2024-04-28 22:06:50.572633: W tensorflow/core/framework/local_rendezvous.cc:404] Local rendezvous is aborting with status: OUT_OF_RANGE: End of sequence\n",
      "100%|██████████| 21/21 [00:21<00:00,  1.00s/it]\n"
     ]
    },
    {
     "name": "stdout",
     "output_type": "stream",
     "text": [
      "Epoch: 25 -- Generator Loss: 0.29871559143066406, Discriminator Loss: 0.4659288823604584\n",
      "\n",
      "Took 21.067169666290283 seconds. \n",
      "\n",
      "\n",
      "Epoch:  26\n"
     ]
    },
    {
     "name": "stderr",
     "output_type": "stream",
     "text": [
      "100%|██████████| 21/21 [00:21<00:00,  1.02it/s]2024-04-28 22:07:12.228047: W tensorflow/core/framework/local_rendezvous.cc:404] Local rendezvous is aborting with status: OUT_OF_RANGE: End of sequence\n",
      "100%|██████████| 21/21 [00:21<00:00,  1.03s/it]\n"
     ]
    },
    {
     "name": "stdout",
     "output_type": "stream",
     "text": [
      "Epoch: 26 -- Generator Loss: 0.25659823417663574, Discriminator Loss: 0.4934210479259491\n",
      "\n",
      "Took 21.6561758518219 seconds. \n",
      "\n",
      "\n",
      "Epoch:  27\n"
     ]
    },
    {
     "name": "stderr",
     "output_type": "stream",
     "text": [
      "100%|██████████| 21/21 [00:22<00:00,  1.09s/it]2024-04-28 22:07:34.515953: W tensorflow/core/framework/local_rendezvous.cc:404] Local rendezvous is aborting with status: OUT_OF_RANGE: End of sequence\n",
      "100%|██████████| 21/21 [00:22<00:00,  1.06s/it]\n"
     ]
    },
    {
     "name": "stdout",
     "output_type": "stream",
     "text": [
      "Epoch: 27 -- Generator Loss: 0.22547324001789093, Discriminator Loss: 0.5334239602088928\n",
      "\n",
      "Took 22.289743185043335 seconds. \n",
      "\n",
      "\n",
      "Epoch:  28\n"
     ]
    },
    {
     "name": "stderr",
     "output_type": "stream",
     "text": [
      "100%|██████████| 21/21 [00:24<00:00,  1.05s/it]2024-04-28 22:07:58.889030: W tensorflow/core/framework/local_rendezvous.cc:404] Local rendezvous is aborting with status: OUT_OF_RANGE: End of sequence\n",
      "100%|██████████| 21/21 [00:24<00:00,  1.16s/it]\n"
     ]
    },
    {
     "name": "stdout",
     "output_type": "stream",
     "text": [
      "Epoch: 28 -- Generator Loss: 0.2880323529243469, Discriminator Loss: 0.523011326789856\n",
      "\n",
      "Took 24.377184867858887 seconds. \n",
      "\n",
      "\n",
      "Epoch:  29\n"
     ]
    },
    {
     "name": "stderr",
     "output_type": "stream",
     "text": [
      "100%|██████████| 21/21 [00:24<00:00,  1.03it/s]2024-04-28 22:08:23.636010: W tensorflow/core/framework/local_rendezvous.cc:404] Local rendezvous is aborting with status: OUT_OF_RANGE: End of sequence\n",
      "100%|██████████| 21/21 [00:24<00:00,  1.18s/it]\n"
     ]
    },
    {
     "name": "stdout",
     "output_type": "stream",
     "text": [
      "Epoch: 29 -- Generator Loss: 0.2530338764190674, Discriminator Loss: 0.49901634454727173\n",
      "\n",
      "Took 24.745598077774048 seconds. \n",
      "\n",
      "\n",
      "Epoch:  30\n"
     ]
    },
    {
     "name": "stderr",
     "output_type": "stream",
     "text": [
      "100%|██████████| 21/21 [00:23<00:00,  1.12s/it]2024-04-28 22:08:46.910689: W tensorflow/core/framework/local_rendezvous.cc:404] Local rendezvous is aborting with status: OUT_OF_RANGE: End of sequence\n",
      "100%|██████████| 21/21 [00:23<00:00,  1.11s/it]\n"
     ]
    },
    {
     "name": "stdout",
     "output_type": "stream",
     "text": [
      "Epoch: 30 -- Generator Loss: 0.2486030012369156, Discriminator Loss: 0.5035161375999451\n",
      "\n",
      "Took 23.27001190185547 seconds. \n",
      "\n",
      "\n",
      "Epoch:  31\n"
     ]
    },
    {
     "name": "stderr",
     "output_type": "stream",
     "text": [
      "100%|██████████| 21/21 [00:23<00:00,  1.10s/it]2024-04-28 22:09:10.414534: W tensorflow/core/framework/local_rendezvous.cc:404] Local rendezvous is aborting with status: OUT_OF_RANGE: End of sequence\n",
      "100%|██████████| 21/21 [00:23<00:00,  1.12s/it]\n"
     ]
    },
    {
     "name": "stdout",
     "output_type": "stream",
     "text": [
      "Epoch: 31 -- Generator Loss: 0.23045912384986877, Discriminator Loss: 0.5264419913291931\n",
      "\n",
      "Took 23.50294518470764 seconds. \n",
      "\n",
      "\n",
      "Epoch:  32\n"
     ]
    },
    {
     "name": "stderr",
     "output_type": "stream",
     "text": [
      "100%|██████████| 21/21 [00:22<00:00,  1.03it/s]2024-04-28 22:09:33.255325: W tensorflow/core/framework/local_rendezvous.cc:404] Local rendezvous is aborting with status: OUT_OF_RANGE: End of sequence\n",
      "100%|██████████| 21/21 [00:22<00:00,  1.09s/it]\n"
     ]
    },
    {
     "name": "stdout",
     "output_type": "stream",
     "text": [
      "Epoch: 32 -- Generator Loss: 0.28196820616722107, Discriminator Loss: 0.5114971995353699\n",
      "\n",
      "Took 22.846107006072998 seconds. \n",
      "\n",
      "\n",
      "Epoch:  33\n"
     ]
    },
    {
     "name": "stderr",
     "output_type": "stream",
     "text": [
      "100%|██████████| 21/21 [00:23<00:00,  1.15s/it]2024-04-28 22:09:57.204030: W tensorflow/core/framework/local_rendezvous.cc:404] Local rendezvous is aborting with status: OUT_OF_RANGE: End of sequence\n",
      "100%|██████████| 21/21 [00:23<00:00,  1.14s/it]\n"
     ]
    },
    {
     "name": "stdout",
     "output_type": "stream",
     "text": [
      "Epoch: 33 -- Generator Loss: 0.25702574849128723, Discriminator Loss: 0.4926741123199463\n",
      "\n",
      "Took 23.946409940719604 seconds. \n",
      "\n",
      "\n",
      "Epoch:  34\n"
     ]
    },
    {
     "name": "stderr",
     "output_type": "stream",
     "text": [
      "100%|██████████| 21/21 [00:23<00:00,  1.15s/it]2024-04-28 22:10:20.498151: W tensorflow/core/framework/local_rendezvous.cc:404] Local rendezvous is aborting with status: OUT_OF_RANGE: End of sequence\n",
      "100%|██████████| 21/21 [00:23<00:00,  1.11s/it]\n"
     ]
    },
    {
     "name": "stdout",
     "output_type": "stream",
     "text": [
      "Epoch: 34 -- Generator Loss: 0.22532036900520325, Discriminator Loss: 0.5327210426330566\n",
      "\n",
      "Took 23.291526079177856 seconds. \n",
      "\n",
      "\n",
      "Epoch:  35\n"
     ]
    },
    {
     "name": "stderr",
     "output_type": "stream",
     "text": [
      "100%|██████████| 21/21 [00:22<00:00,  1.02it/s]2024-04-28 22:10:43.150749: W tensorflow/core/framework/local_rendezvous.cc:404] Local rendezvous is aborting with status: OUT_OF_RANGE: End of sequence\n",
      "100%|██████████| 21/21 [00:22<00:00,  1.08s/it]\n"
     ]
    },
    {
     "name": "stdout",
     "output_type": "stream",
     "text": [
      "Epoch: 35 -- Generator Loss: 0.27147340774536133, Discriminator Loss: 0.524186909198761\n",
      "\n",
      "Took 22.659663200378418 seconds. \n",
      "\n",
      "\n",
      "Epoch:  36\n"
     ]
    },
    {
     "name": "stderr",
     "output_type": "stream",
     "text": [
      "100%|██████████| 21/21 [00:24<00:00,  1.20s/it]2024-04-28 22:11:07.962418: W tensorflow/core/framework/local_rendezvous.cc:404] Local rendezvous is aborting with status: OUT_OF_RANGE: End of sequence\n",
      "100%|██████████| 21/21 [00:24<00:00,  1.18s/it]\n"
     ]
    },
    {
     "name": "stdout",
     "output_type": "stream",
     "text": [
      "Epoch: 36 -- Generator Loss: 0.25554269552230835, Discriminator Loss: 0.49404802918434143\n",
      "\n",
      "Took 24.804597854614258 seconds. \n",
      "\n",
      "\n",
      "Epoch:  37\n"
     ]
    },
    {
     "name": "stderr",
     "output_type": "stream",
     "text": [
      "100%|██████████| 21/21 [00:24<00:00,  1.12s/it]2024-04-28 22:11:32.343801: W tensorflow/core/framework/local_rendezvous.cc:404] Local rendezvous is aborting with status: OUT_OF_RANGE: End of sequence\n",
      "100%|██████████| 21/21 [00:24<00:00,  1.16s/it]\n"
     ]
    },
    {
     "name": "stdout",
     "output_type": "stream",
     "text": [
      "Epoch: 37 -- Generator Loss: 0.25004157423973083, Discriminator Loss: 0.5004933476448059\n",
      "\n",
      "Took 24.378552675247192 seconds. \n",
      "\n",
      "\n",
      "Epoch:  38\n"
     ]
    },
    {
     "name": "stderr",
     "output_type": "stream",
     "text": [
      "100%|██████████| 21/21 [00:24<00:00,  1.20s/it]2024-04-28 22:11:57.243359: W tensorflow/core/framework/local_rendezvous.cc:404] Local rendezvous is aborting with status: OUT_OF_RANGE: End of sequence\n",
      "100%|██████████| 21/21 [00:24<00:00,  1.19s/it]\n"
     ]
    },
    {
     "name": "stdout",
     "output_type": "stream",
     "text": [
      "Epoch: 38 -- Generator Loss: 0.24782396852970123, Discriminator Loss: 0.5030332207679749\n",
      "\n",
      "Took 24.900745153427124 seconds. \n",
      "\n",
      "\n",
      "Epoch:  39\n"
     ]
    },
    {
     "name": "stderr",
     "output_type": "stream",
     "text": [
      "100%|██████████| 21/21 [00:22<00:00,  1.07s/it]2024-04-28 22:12:20.102952: W tensorflow/core/framework/local_rendezvous.cc:404] Local rendezvous is aborting with status: OUT_OF_RANGE: End of sequence\n",
      "100%|██████████| 21/21 [00:22<00:00,  1.09s/it]\n"
     ]
    },
    {
     "name": "stdout",
     "output_type": "stream",
     "text": [
      "Epoch: 39 -- Generator Loss: 0.24445755779743195, Discriminator Loss: 0.5070975422859192\n",
      "\n",
      "Took 22.863775968551636 seconds. \n",
      "\n",
      "\n",
      "Epoch:  40\n"
     ]
    },
    {
     "name": "stderr",
     "output_type": "stream",
     "text": [
      "100%|██████████| 21/21 [00:23<00:00,  1.04it/s]2024-04-28 22:12:43.228828: W tensorflow/core/framework/local_rendezvous.cc:404] Local rendezvous is aborting with status: OUT_OF_RANGE: End of sequence\n",
      "100%|██████████| 21/21 [00:23<00:00,  1.10s/it]\n"
     ]
    },
    {
     "name": "stdout",
     "output_type": "stream",
     "text": [
      "Epoch: 40 -- Generator Loss: 0.23413220047950745, Discriminator Loss: 0.5201081037521362\n",
      "\n",
      "Took 23.112984895706177 seconds. \n",
      "\n",
      "\n",
      "Epoch:  41\n"
     ]
    },
    {
     "name": "stderr",
     "output_type": "stream",
     "text": [
      "100%|██████████| 21/21 [00:23<00:00,  1.20s/it]2024-04-28 22:13:06.770457: W tensorflow/core/framework/local_rendezvous.cc:404] Local rendezvous is aborting with status: OUT_OF_RANGE: End of sequence\n",
      "100%|██████████| 21/21 [00:23<00:00,  1.12s/it]\n"
     ]
    },
    {
     "name": "stdout",
     "output_type": "stream",
     "text": [
      "Epoch: 41 -- Generator Loss: 0.23643289506435394, Discriminator Loss: 0.5284935235977173\n",
      "\n",
      "Took 23.602314949035645 seconds. \n",
      "\n",
      "\n",
      "Epoch:  42\n"
     ]
    },
    {
     "name": "stderr",
     "output_type": "stream",
     "text": [
      "100%|██████████| 21/21 [00:26<00:00,  1.21s/it]2024-04-28 22:13:33.417252: W tensorflow/core/framework/local_rendezvous.cc:404] Local rendezvous is aborting with status: OUT_OF_RANGE: End of sequence\n",
      "100%|██████████| 21/21 [00:26<00:00,  1.26s/it]\n"
     ]
    },
    {
     "name": "stdout",
     "output_type": "stream",
     "text": [
      "Epoch: 42 -- Generator Loss: 0.2777981162071228, Discriminator Loss: 0.4703575372695923\n",
      "\n",
      "Took 26.586066961288452 seconds. \n",
      "\n",
      "\n",
      "Epoch:  43\n"
     ]
    },
    {
     "name": "stderr",
     "output_type": "stream",
     "text": [
      "100%|██████████| 21/21 [00:23<00:00,  1.01it/s]2024-04-28 22:13:56.909040: W tensorflow/core/framework/local_rendezvous.cc:404] Local rendezvous is aborting with status: OUT_OF_RANGE: End of sequence\n",
      "100%|██████████| 21/21 [00:23<00:00,  1.12s/it]\n"
     ]
    },
    {
     "name": "stdout",
     "output_type": "stream",
     "text": [
      "Epoch: 43 -- Generator Loss: 0.2572250962257385, Discriminator Loss: 0.49184346199035645\n",
      "\n",
      "Took 23.47997498512268 seconds. \n",
      "\n",
      "\n",
      "Epoch:  44\n"
     ]
    },
    {
     "name": "stderr",
     "output_type": "stream",
     "text": [
      "100%|██████████| 21/21 [00:23<00:00,  1.13s/it]2024-04-28 22:14:20.870695: W tensorflow/core/framework/local_rendezvous.cc:404] Local rendezvous is aborting with status: OUT_OF_RANGE: End of sequence\n",
      "100%|██████████| 21/21 [00:23<00:00,  1.14s/it]\n"
     ]
    },
    {
     "name": "stdout",
     "output_type": "stream",
     "text": [
      "Epoch: 44 -- Generator Loss: 0.2530214190483093, Discriminator Loss: 0.496620774269104\n",
      "\n",
      "Took 23.968921184539795 seconds. \n",
      "\n",
      "\n",
      "Epoch:  45\n"
     ]
    },
    {
     "name": "stderr",
     "output_type": "stream",
     "text": [
      "100%|██████████| 21/21 [00:23<00:00,  1.31s/it]2024-04-28 22:14:44.463178: W tensorflow/core/framework/local_rendezvous.cc:404] Local rendezvous is aborting with status: OUT_OF_RANGE: End of sequence\n",
      "100%|██████████| 21/21 [00:23<00:00,  1.12s/it]\n"
     ]
    },
    {
     "name": "stdout",
     "output_type": "stream",
     "text": [
      "Epoch: 45 -- Generator Loss: 0.24447154998779297, Discriminator Loss: 0.507287859916687\n",
      "\n",
      "Took 23.581480979919434 seconds. \n",
      "\n",
      "\n",
      "Epoch:  46\n"
     ]
    },
    {
     "name": "stderr",
     "output_type": "stream",
     "text": [
      "100%|██████████| 21/21 [00:24<00:00,  1.09s/it]2024-04-28 22:15:08.585372: W tensorflow/core/framework/local_rendezvous.cc:404] Local rendezvous is aborting with status: OUT_OF_RANGE: End of sequence\n",
      "100%|██████████| 21/21 [00:24<00:00,  1.15s/it]\n"
     ]
    },
    {
     "name": "stdout",
     "output_type": "stream",
     "text": [
      "Epoch: 46 -- Generator Loss: 0.26227718591690063, Discriminator Loss: 0.5578473210334778\n",
      "\n",
      "Took 24.11939811706543 seconds. \n",
      "\n",
      "\n",
      "Epoch:  47\n"
     ]
    },
    {
     "name": "stderr",
     "output_type": "stream",
     "text": [
      "100%|██████████| 21/21 [00:23<00:00,  1.19s/it]2024-04-28 22:15:32.586748: W tensorflow/core/framework/local_rendezvous.cc:404] Local rendezvous is aborting with status: OUT_OF_RANGE: End of sequence\n",
      "100%|██████████| 21/21 [00:23<00:00,  1.14s/it]\n"
     ]
    },
    {
     "name": "stdout",
     "output_type": "stream",
     "text": [
      "Epoch: 47 -- Generator Loss: 0.19969967007637024, Discriminator Loss: 0.5774558782577515\n",
      "\n",
      "Took 24.005908966064453 seconds. \n",
      "\n",
      "\n",
      "Epoch:  48\n"
     ]
    },
    {
     "name": "stderr",
     "output_type": "stream",
     "text": [
      "100%|██████████| 21/21 [00:24<00:00,  1.12s/it]2024-04-28 22:15:56.643201: W tensorflow/core/framework/local_rendezvous.cc:404] Local rendezvous is aborting with status: OUT_OF_RANGE: End of sequence\n",
      "100%|██████████| 21/21 [00:24<00:00,  1.15s/it]\n"
     ]
    },
    {
     "name": "stdout",
     "output_type": "stream",
     "text": [
      "Epoch: 48 -- Generator Loss: 0.30604976415634155, Discriminator Loss: 0.47332096099853516\n",
      "\n",
      "Took 24.069947957992554 seconds. \n",
      "\n",
      "\n",
      "Epoch:  49\n"
     ]
    },
    {
     "name": "stderr",
     "output_type": "stream",
     "text": [
      "100%|██████████| 21/21 [00:24<00:00,  1.04it/s]2024-04-28 22:16:21.099416: W tensorflow/core/framework/local_rendezvous.cc:404] Local rendezvous is aborting with status: OUT_OF_RANGE: End of sequence\n",
      "100%|██████████| 21/21 [00:24<00:00,  1.16s/it]\n"
     ]
    },
    {
     "name": "stdout",
     "output_type": "stream",
     "text": [
      "Epoch: 49 -- Generator Loss: 0.2510485053062439, Discriminator Loss: 0.49910664558410645\n",
      "\n",
      "Took 24.44236183166504 seconds. \n",
      "\n",
      "\n",
      "Epoch:  50\n"
     ]
    },
    {
     "name": "stderr",
     "output_type": "stream",
     "text": [
      "100%|██████████| 21/21 [00:24<00:00,  1.17s/it]2024-04-28 22:16:45.905592: W tensorflow/core/framework/local_rendezvous.cc:404] Local rendezvous is aborting with status: OUT_OF_RANGE: End of sequence\n",
      "100%|██████████| 21/21 [00:24<00:00,  1.18s/it]\n"
     ]
    },
    {
     "name": "stdout",
     "output_type": "stream",
     "text": [
      "Epoch: 50 -- Generator Loss: 0.24149581789970398, Discriminator Loss: 0.5107097029685974\n",
      "\n",
      "Took 24.804003715515137 seconds. \n",
      "\n",
      "\n",
      "Epoch:  51\n"
     ]
    },
    {
     "name": "stderr",
     "output_type": "stream",
     "text": [
      "100%|██████████| 21/21 [00:24<00:00,  1.12s/it]2024-04-28 22:17:09.986802: W tensorflow/core/framework/local_rendezvous.cc:404] Local rendezvous is aborting with status: OUT_OF_RANGE: End of sequence\n",
      "100%|██████████| 21/21 [00:24<00:00,  1.15s/it]\n"
     ]
    },
    {
     "name": "stdout",
     "output_type": "stream",
     "text": [
      "Epoch: 51 -- Generator Loss: 0.21430058777332306, Discriminator Loss: 0.5584965944290161\n",
      "\n",
      "Took 24.090121030807495 seconds. \n",
      "\n",
      "\n",
      "Epoch:  52\n"
     ]
    },
    {
     "name": "stderr",
     "output_type": "stream",
     "text": [
      "100%|██████████| 21/21 [00:25<00:00,  1.28s/it]2024-04-28 22:17:35.396745: W tensorflow/core/framework/local_rendezvous.cc:404] Local rendezvous is aborting with status: OUT_OF_RANGE: End of sequence\n",
      "100%|██████████| 21/21 [00:25<00:00,  1.21s/it]\n"
     ]
    },
    {
     "name": "stdout",
     "output_type": "stream",
     "text": [
      "Epoch: 52 -- Generator Loss: 0.29020190238952637, Discriminator Loss: 0.4638609290122986\n",
      "\n",
      "Took 25.404985189437866 seconds. \n",
      "\n",
      "\n",
      "Epoch:  53\n"
     ]
    },
    {
     "name": "stderr",
     "output_type": "stream",
     "text": [
      "100%|██████████| 21/21 [00:24<00:00,  1.08s/it]2024-04-28 22:18:00.217885: W tensorflow/core/framework/local_rendezvous.cc:404] Local rendezvous is aborting with status: OUT_OF_RANGE: End of sequence\n",
      "100%|██████████| 21/21 [00:24<00:00,  1.18s/it]\n"
     ]
    },
    {
     "name": "stdout",
     "output_type": "stream",
     "text": [
      "Epoch: 53 -- Generator Loss: 0.25482040643692017, Discriminator Loss: 0.49451908469200134\n",
      "\n",
      "Took 24.814038038253784 seconds. \n",
      "\n",
      "\n",
      "Epoch:  54\n"
     ]
    },
    {
     "name": "stderr",
     "output_type": "stream",
     "text": [
      "100%|██████████| 21/21 [00:27<00:00,  1.12s/it]2024-04-28 22:18:27.532346: W tensorflow/core/framework/local_rendezvous.cc:404] Local rendezvous is aborting with status: OUT_OF_RANGE: End of sequence\n",
      "100%|██████████| 21/21 [00:27<00:00,  1.30s/it]\n"
     ]
    },
    {
     "name": "stdout",
     "output_type": "stream",
     "text": [
      "Epoch: 54 -- Generator Loss: 0.2499370276927948, Discriminator Loss: 0.5002859830856323\n",
      "\n",
      "Took 27.35194230079651 seconds. \n",
      "\n",
      "\n",
      "Epoch:  55\n"
     ]
    },
    {
     "name": "stderr",
     "output_type": "stream",
     "text": [
      "100%|██████████| 21/21 [00:24<00:00,  1.08s/it]2024-04-28 22:18:52.578574: W tensorflow/core/framework/local_rendezvous.cc:404] Local rendezvous is aborting with status: OUT_OF_RANGE: End of sequence\n",
      "100%|██████████| 21/21 [00:24<00:00,  1.19s/it]\n"
     ]
    },
    {
     "name": "stdout",
     "output_type": "stream",
     "text": [
      "Epoch: 55 -- Generator Loss: 0.2450983226299286, Discriminator Loss: 0.5061550140380859\n",
      "\n",
      "Took 25.012516260147095 seconds. \n",
      "\n",
      "\n",
      "Epoch:  56\n"
     ]
    },
    {
     "name": "stderr",
     "output_type": "stream",
     "text": [
      "100%|██████████| 21/21 [00:24<00:00,  1.27s/it]2024-04-28 22:19:17.243575: W tensorflow/core/framework/local_rendezvous.cc:404] Local rendezvous is aborting with status: OUT_OF_RANGE: End of sequence\n",
      "100%|██████████| 21/21 [00:24<00:00,  1.17s/it]\n"
     ]
    },
    {
     "name": "stdout",
     "output_type": "stream",
     "text": [
      "Epoch: 56 -- Generator Loss: 0.22031791508197784, Discriminator Loss: 0.5392916798591614\n",
      "\n",
      "Took 24.660027265548706 seconds. \n",
      "\n",
      "\n",
      "Epoch:  57\n"
     ]
    },
    {
     "name": "stderr",
     "output_type": "stream",
     "text": [
      "100%|██████████| 21/21 [00:26<00:00,  1.36s/it]2024-04-28 22:19:44.144627: W tensorflow/core/framework/local_rendezvous.cc:404] Local rendezvous is aborting with status: OUT_OF_RANGE: End of sequence\n",
      "100%|██████████| 21/21 [00:26<00:00,  1.28s/it]\n"
     ]
    },
    {
     "name": "stdout",
     "output_type": "stream",
     "text": [
      "Epoch: 57 -- Generator Loss: 0.2791815996170044, Discriminator Loss: 0.48986974358558655\n",
      "\n",
      "Took 26.923996925354004 seconds. \n",
      "\n",
      "\n",
      "Epoch:  58\n"
     ]
    },
    {
     "name": "stderr",
     "output_type": "stream",
     "text": [
      "100%|██████████| 21/21 [00:23<00:00,  1.02s/it]2024-04-28 22:20:08.066200: W tensorflow/core/framework/local_rendezvous.cc:404] Local rendezvous is aborting with status: OUT_OF_RANGE: End of sequence\n",
      "100%|██████████| 21/21 [00:23<00:00,  1.14s/it]\n"
     ]
    },
    {
     "name": "stdout",
     "output_type": "stream",
     "text": [
      "Epoch: 58 -- Generator Loss: 0.25550326704978943, Discriminator Loss: 0.4936532974243164\n",
      "\n",
      "Took 23.90245795249939 seconds. \n",
      "\n",
      "\n",
      "Epoch:  59\n"
     ]
    },
    {
     "name": "stderr",
     "output_type": "stream",
     "text": [
      "100%|██████████| 21/21 [00:24<00:00,  1.14s/it]2024-04-28 22:20:32.452526: W tensorflow/core/framework/local_rendezvous.cc:404] Local rendezvous is aborting with status: OUT_OF_RANGE: End of sequence\n",
      "100%|██████████| 21/21 [00:24<00:00,  1.16s/it]\n"
     ]
    },
    {
     "name": "stdout",
     "output_type": "stream",
     "text": [
      "Epoch: 59 -- Generator Loss: 0.25160661339759827, Discriminator Loss: 0.4982452988624573\n",
      "\n",
      "Took 24.37951111793518 seconds. \n",
      "\n",
      "\n",
      "Epoch:  60\n"
     ]
    },
    {
     "name": "stderr",
     "output_type": "stream",
     "text": [
      "100%|██████████| 21/21 [00:22<00:00,  1.17s/it]2024-04-28 22:20:55.345226: W tensorflow/core/framework/local_rendezvous.cc:404] Local rendezvous is aborting with status: OUT_OF_RANGE: End of sequence\n",
      "100%|██████████| 21/21 [00:22<00:00,  1.09s/it]\n"
     ]
    },
    {
     "name": "stdout",
     "output_type": "stream",
     "text": [
      "Epoch: 60 -- Generator Loss: 0.2487899512052536, Discriminator Loss: 0.501596987247467\n",
      "\n",
      "Took 22.893118381500244 seconds. \n",
      "\n",
      "\n",
      "Epoch:  61\n"
     ]
    },
    {
     "name": "stderr",
     "output_type": "stream",
     "text": [
      "100%|██████████| 21/21 [00:24<00:00,  1.05s/it]2024-04-28 22:21:19.435777: W tensorflow/core/framework/local_rendezvous.cc:404] Local rendezvous is aborting with status: OUT_OF_RANGE: End of sequence\n",
      "100%|██████████| 21/21 [00:24<00:00,  1.15s/it]\n"
     ]
    },
    {
     "name": "stdout",
     "output_type": "stream",
     "text": [
      "Epoch: 61 -- Generator Loss: 0.24241498112678528, Discriminator Loss: 0.5094313025474548\n",
      "\n",
      "Took 24.09332799911499 seconds. \n",
      "\n",
      "\n",
      "Epoch:  62\n"
     ]
    },
    {
     "name": "stderr",
     "output_type": "stream",
     "text": [
      "100%|██████████| 21/21 [00:23<00:00,  1.03s/it]2024-04-28 22:21:42.914257: W tensorflow/core/framework/local_rendezvous.cc:404] Local rendezvous is aborting with status: OUT_OF_RANGE: End of sequence\n",
      "100%|██████████| 21/21 [00:23<00:00,  1.12s/it]\n"
     ]
    },
    {
     "name": "stdout",
     "output_type": "stream",
     "text": [
      "Epoch: 62 -- Generator Loss: 0.24332892894744873, Discriminator Loss: 0.5360282063484192\n",
      "\n",
      "Took 23.47713589668274 seconds. \n",
      "\n",
      "\n",
      "Epoch:  63\n"
     ]
    },
    {
     "name": "stderr",
     "output_type": "stream",
     "text": [
      "100%|██████████| 21/21 [00:23<00:00,  1.26s/it]2024-04-28 22:22:06.859177: W tensorflow/core/framework/local_rendezvous.cc:404] Local rendezvous is aborting with status: OUT_OF_RANGE: End of sequence\n",
      "100%|██████████| 21/21 [00:23<00:00,  1.14s/it]\n"
     ]
    },
    {
     "name": "stdout",
     "output_type": "stream",
     "text": [
      "Epoch: 63 -- Generator Loss: 0.2667505443096161, Discriminator Loss: 0.4821845591068268\n",
      "\n",
      "Took 23.949156999588013 seconds. \n",
      "\n",
      "\n",
      "Epoch:  64\n"
     ]
    },
    {
     "name": "stderr",
     "output_type": "stream",
     "text": [
      "100%|██████████| 21/21 [00:23<00:00,  1.25s/it]2024-04-28 22:22:30.421968: W tensorflow/core/framework/local_rendezvous.cc:404] Local rendezvous is aborting with status: OUT_OF_RANGE: End of sequence\n",
      "100%|██████████| 21/21 [00:23<00:00,  1.12s/it]\n"
     ]
    },
    {
     "name": "stdout",
     "output_type": "stream",
     "text": [
      "Epoch: 64 -- Generator Loss: 0.23992933332920074, Discriminator Loss: 0.5127561092376709\n",
      "\n",
      "Took 23.558050632476807 seconds. \n",
      "\n",
      "\n",
      "Epoch:  65\n"
     ]
    },
    {
     "name": "stderr",
     "output_type": "stream",
     "text": [
      "100%|██████████| 21/21 [00:24<00:00,  1.06s/it]2024-04-28 22:22:54.924357: W tensorflow/core/framework/local_rendezvous.cc:404] Local rendezvous is aborting with status: OUT_OF_RANGE: End of sequence\n",
      "100%|██████████| 21/21 [00:24<00:00,  1.17s/it]\n"
     ]
    },
    {
     "name": "stdout",
     "output_type": "stream",
     "text": [
      "Epoch: 65 -- Generator Loss: 0.2523120641708374, Discriminator Loss: 0.525336503982544\n",
      "\n",
      "Took 24.50189518928528 seconds. \n",
      "\n",
      "\n",
      "Epoch:  66\n"
     ]
    },
    {
     "name": "stderr",
     "output_type": "stream",
     "text": [
      "100%|██████████| 21/21 [00:25<00:00,  1.24s/it]2024-04-28 22:23:20.771896: W tensorflow/core/framework/local_rendezvous.cc:404] Local rendezvous is aborting with status: OUT_OF_RANGE: End of sequence\n",
      "100%|██████████| 21/21 [00:25<00:00,  1.23s/it]\n"
     ]
    },
    {
     "name": "stdout",
     "output_type": "stream",
     "text": [
      "Epoch: 66 -- Generator Loss: 0.2611970007419586, Discriminator Loss: 0.4873390793800354\n",
      "\n",
      "Took 25.850666999816895 seconds. \n",
      "\n",
      "\n",
      "Epoch:  67\n"
     ]
    },
    {
     "name": "stderr",
     "output_type": "stream",
     "text": [
      "100%|██████████| 21/21 [00:25<00:00,  1.22s/it]2024-04-28 22:23:45.925975: W tensorflow/core/framework/local_rendezvous.cc:404] Local rendezvous is aborting with status: OUT_OF_RANGE: End of sequence\n",
      "100%|██████████| 21/21 [00:25<00:00,  1.20s/it]\n"
     ]
    },
    {
     "name": "stdout",
     "output_type": "stream",
     "text": [
      "Epoch: 67 -- Generator Loss: 0.2501756250858307, Discriminator Loss: 0.4999552369117737\n",
      "\n",
      "Took 25.151105165481567 seconds. \n",
      "\n",
      "\n",
      "Epoch:  68\n"
     ]
    },
    {
     "name": "stderr",
     "output_type": "stream",
     "text": [
      "100%|██████████| 21/21 [00:24<00:00,  1.11s/it]2024-04-28 22:24:10.647084: W tensorflow/core/framework/local_rendezvous.cc:404] Local rendezvous is aborting with status: OUT_OF_RANGE: End of sequence\n",
      "100%|██████████| 21/21 [00:24<00:00,  1.18s/it]\n"
     ]
    },
    {
     "name": "stdout",
     "output_type": "stream",
     "text": [
      "Epoch: 68 -- Generator Loss: 0.24001744389533997, Discriminator Loss: 0.5125023722648621\n",
      "\n",
      "Took 24.720590114593506 seconds. \n",
      "\n",
      "\n",
      "Epoch:  69\n"
     ]
    },
    {
     "name": "stderr",
     "output_type": "stream",
     "text": [
      "100%|██████████| 21/21 [00:25<00:00,  1.07s/it]2024-04-28 22:24:35.765365: W tensorflow/core/framework/local_rendezvous.cc:404] Local rendezvous is aborting with status: OUT_OF_RANGE: End of sequence\n",
      "100%|██████████| 21/21 [00:25<00:00,  1.20s/it]\n"
     ]
    },
    {
     "name": "stdout",
     "output_type": "stream",
     "text": [
      "Epoch: 69 -- Generator Loss: 0.24183174967765808, Discriminator Loss: 0.5321837663650513\n",
      "\n",
      "Took 25.117693185806274 seconds. \n",
      "\n",
      "\n",
      "Epoch:  70\n"
     ]
    },
    {
     "name": "stderr",
     "output_type": "stream",
     "text": [
      "100%|██████████| 21/21 [00:25<00:00,  1.18s/it]2024-04-28 22:25:01.236298: W tensorflow/core/framework/local_rendezvous.cc:404] Local rendezvous is aborting with status: OUT_OF_RANGE: End of sequence\n",
      "100%|██████████| 21/21 [00:25<00:00,  1.21s/it]\n"
     ]
    },
    {
     "name": "stdout",
     "output_type": "stream",
     "text": [
      "Epoch: 70 -- Generator Loss: 0.26951172947883606, Discriminator Loss: 0.47891488671302795\n",
      "\n",
      "Took 25.473706007003784 seconds. \n",
      "\n",
      "\n",
      "Epoch:  71\n"
     ]
    },
    {
     "name": "stderr",
     "output_type": "stream",
     "text": [
      "100%|██████████| 21/21 [00:24<00:00,  1.22s/it]2024-04-28 22:25:25.789512: W tensorflow/core/framework/local_rendezvous.cc:404] Local rendezvous is aborting with status: OUT_OF_RANGE: End of sequence\n",
      "100%|██████████| 21/21 [00:24<00:00,  1.17s/it]\n"
     ]
    },
    {
     "name": "stdout",
     "output_type": "stream",
     "text": [
      "Epoch: 71 -- Generator Loss: 0.25282275676727295, Discriminator Loss: 0.49672040343284607\n",
      "\n",
      "Took 24.55041217803955 seconds. \n",
      "\n",
      "\n",
      "Epoch:  72\n"
     ]
    },
    {
     "name": "stderr",
     "output_type": "stream",
     "text": [
      "100%|██████████| 21/21 [00:23<00:00,  1.05s/it]2024-04-28 22:25:49.151025: W tensorflow/core/framework/local_rendezvous.cc:404] Local rendezvous is aborting with status: OUT_OF_RANGE: End of sequence\n",
      "100%|██████████| 21/21 [00:23<00:00,  1.11s/it]\n"
     ]
    },
    {
     "name": "stdout",
     "output_type": "stream",
     "text": [
      "Epoch: 72 -- Generator Loss: 0.25029245018959045, Discriminator Loss: 0.4997233748435974\n",
      "\n",
      "Took 23.369739055633545 seconds. \n",
      "\n",
      "\n",
      "Epoch:  73\n"
     ]
    },
    {
     "name": "stderr",
     "output_type": "stream",
     "text": [
      "100%|██████████| 21/21 [00:24<00:00,  1.16s/it]2024-04-28 22:26:13.871981: W tensorflow/core/framework/local_rendezvous.cc:404] Local rendezvous is aborting with status: OUT_OF_RANGE: End of sequence\n",
      "100%|██████████| 21/21 [00:24<00:00,  1.18s/it]\n"
     ]
    },
    {
     "name": "stdout",
     "output_type": "stream",
     "text": [
      "Epoch: 73 -- Generator Loss: 0.24909250438213348, Discriminator Loss: 0.5011262893676758\n",
      "\n",
      "Took 24.710747718811035 seconds. \n",
      "\n",
      "\n",
      "Epoch:  74\n"
     ]
    },
    {
     "name": "stderr",
     "output_type": "stream",
     "text": [
      "100%|██████████| 21/21 [00:24<00:00,  1.19s/it]2024-04-28 22:26:38.186424: W tensorflow/core/framework/local_rendezvous.cc:404] Local rendezvous is aborting with status: OUT_OF_RANGE: End of sequence\n",
      "100%|██████████| 21/21 [00:24<00:00,  1.16s/it]\n"
     ]
    },
    {
     "name": "stdout",
     "output_type": "stream",
     "text": [
      "Epoch: 74 -- Generator Loss: 0.2477674037218094, Discriminator Loss: 0.5027403235435486\n",
      "\n",
      "Took 24.319112062454224 seconds. \n",
      "\n",
      "\n",
      "Epoch:  75\n"
     ]
    },
    {
     "name": "stderr",
     "output_type": "stream",
     "text": [
      "100%|██████████| 21/21 [00:24<00:00,  1.28s/it]2024-04-28 22:27:02.644227: W tensorflow/core/framework/local_rendezvous.cc:404] Local rendezvous is aborting with status: OUT_OF_RANGE: End of sequence\n",
      "100%|██████████| 21/21 [00:24<00:00,  1.16s/it]\n"
     ]
    },
    {
     "name": "stdout",
     "output_type": "stream",
     "text": [
      "Epoch: 75 -- Generator Loss: 0.2435246706008911, Discriminator Loss: 0.5079855918884277\n",
      "\n",
      "Took 24.454642295837402 seconds. \n",
      "\n",
      "\n",
      "Epoch:  76\n"
     ]
    },
    {
     "name": "stderr",
     "output_type": "stream",
     "text": [
      "100%|██████████| 21/21 [00:23<00:00,  1.01s/it]2024-04-28 22:27:25.842195: W tensorflow/core/framework/local_rendezvous.cc:404] Local rendezvous is aborting with status: OUT_OF_RANGE: End of sequence\n",
      "100%|██████████| 21/21 [00:23<00:00,  1.10s/it]\n"
     ]
    },
    {
     "name": "stdout",
     "output_type": "stream",
     "text": [
      "Epoch: 76 -- Generator Loss: 0.2198529988527298, Discriminator Loss: 0.5487948060035706\n",
      "\n",
      "Took 23.200880765914917 seconds. \n",
      "\n",
      "\n",
      "Epoch:  77\n"
     ]
    },
    {
     "name": "stderr",
     "output_type": "stream",
     "text": [
      "100%|██████████| 21/21 [00:24<00:00,  1.12s/it]2024-04-28 22:27:50.752533: W tensorflow/core/framework/local_rendezvous.cc:404] Local rendezvous is aborting with status: OUT_OF_RANGE: End of sequence\n",
      "100%|██████████| 21/21 [00:24<00:00,  1.19s/it]\n"
     ]
    },
    {
     "name": "stdout",
     "output_type": "stream",
     "text": [
      "Epoch: 77 -- Generator Loss: 0.2870240807533264, Discriminator Loss: 0.4697832465171814\n",
      "\n",
      "Took 24.904277086257935 seconds. \n",
      "\n",
      "\n",
      "Epoch:  78\n"
     ]
    },
    {
     "name": "stderr",
     "output_type": "stream",
     "text": [
      "100%|██████████| 21/21 [00:23<00:00,  1.10s/it]2024-04-28 22:28:14.456081: W tensorflow/core/framework/local_rendezvous.cc:404] Local rendezvous is aborting with status: OUT_OF_RANGE: End of sequence\n",
      "100%|██████████| 21/21 [00:23<00:00,  1.13s/it]\n"
     ]
    },
    {
     "name": "stdout",
     "output_type": "stream",
     "text": [
      "Epoch: 78 -- Generator Loss: 0.2538803219795227, Discriminator Loss: 0.4955647885799408\n",
      "\n",
      "Took 23.71141290664673 seconds. \n",
      "\n",
      "\n",
      "Epoch:  79\n"
     ]
    },
    {
     "name": "stderr",
     "output_type": "stream",
     "text": [
      "100%|██████████| 21/21 [00:26<00:00,  1.20s/it]2024-04-28 22:28:40.561213: W tensorflow/core/framework/local_rendezvous.cc:404] Local rendezvous is aborting with status: OUT_OF_RANGE: End of sequence\n",
      "100%|██████████| 21/21 [00:26<00:00,  1.24s/it]\n"
     ]
    },
    {
     "name": "stdout",
     "output_type": "stream",
     "text": [
      "Epoch: 79 -- Generator Loss: 0.2510271668434143, Discriminator Loss: 0.4988292455673218\n",
      "\n",
      "Took 26.09842872619629 seconds. \n",
      "\n",
      "\n",
      "Epoch:  80\n"
     ]
    },
    {
     "name": "stderr",
     "output_type": "stream",
     "text": [
      "100%|██████████| 21/21 [00:25<00:00,  1.07s/it]2024-04-28 22:29:05.713242: W tensorflow/core/framework/local_rendezvous.cc:404] Local rendezvous is aborting with status: OUT_OF_RANGE: End of sequence\n",
      "100%|██████████| 21/21 [00:25<00:00,  1.20s/it]\n"
     ]
    },
    {
     "name": "stdout",
     "output_type": "stream",
     "text": [
      "Epoch: 80 -- Generator Loss: 0.2491753250360489, Discriminator Loss: 0.5011034607887268\n",
      "\n",
      "Took 25.147329092025757 seconds. \n",
      "\n",
      "\n",
      "Epoch:  81\n"
     ]
    },
    {
     "name": "stderr",
     "output_type": "stream",
     "text": [
      "100%|██████████| 21/21 [00:24<00:00,  1.19s/it]2024-04-28 22:29:30.628523: W tensorflow/core/framework/local_rendezvous.cc:404] Local rendezvous is aborting with status: OUT_OF_RANGE: End of sequence\n",
      "100%|██████████| 21/21 [00:24<00:00,  1.19s/it]\n"
     ]
    },
    {
     "name": "stdout",
     "output_type": "stream",
     "text": [
      "Epoch: 81 -- Generator Loss: 0.24228322505950928, Discriminator Loss: 0.5095841288566589\n",
      "\n",
      "Took 24.914781093597412 seconds. \n",
      "\n",
      "\n",
      "Epoch:  82\n"
     ]
    },
    {
     "name": "stderr",
     "output_type": "stream",
     "text": [
      "100%|██████████| 21/21 [00:24<00:00,  1.08s/it]2024-04-28 22:29:54.776616: W tensorflow/core/framework/local_rendezvous.cc:404] Local rendezvous is aborting with status: OUT_OF_RANGE: End of sequence\n",
      "100%|██████████| 21/21 [00:24<00:00,  1.15s/it]\n"
     ]
    },
    {
     "name": "stdout",
     "output_type": "stream",
     "text": [
      "Epoch: 82 -- Generator Loss: 0.24947039783000946, Discriminator Loss: 0.5306761860847473\n",
      "\n",
      "Took 24.154783964157104 seconds. \n",
      "\n",
      "\n",
      "Epoch:  83\n"
     ]
    },
    {
     "name": "stderr",
     "output_type": "stream",
     "text": [
      "100%|██████████| 21/21 [00:23<00:00,  1.08s/it]2024-04-28 22:30:18.561285: W tensorflow/core/framework/local_rendezvous.cc:404] Local rendezvous is aborting with status: OUT_OF_RANGE: End of sequence\n",
      "100%|██████████| 21/21 [00:23<00:00,  1.13s/it]\n"
     ]
    },
    {
     "name": "stdout",
     "output_type": "stream",
     "text": [
      "Epoch: 83 -- Generator Loss: 0.2606467604637146, Discriminator Loss: 0.4880269765853882\n",
      "\n",
      "Took 23.773852348327637 seconds. \n",
      "\n",
      "\n",
      "Epoch:  84\n"
     ]
    },
    {
     "name": "stderr",
     "output_type": "stream",
     "text": [
      "100%|██████████| 21/21 [00:23<00:00,  1.00s/it]2024-04-28 22:30:42.404850: W tensorflow/core/framework/local_rendezvous.cc:404] Local rendezvous is aborting with status: OUT_OF_RANGE: End of sequence\n",
      "100%|██████████| 21/21 [00:23<00:00,  1.14s/it]\n"
     ]
    },
    {
     "name": "stdout",
     "output_type": "stream",
     "text": [
      "Epoch: 84 -- Generator Loss: 0.25150349736213684, Discriminator Loss: 0.4982880651950836\n",
      "\n",
      "Took 23.845552682876587 seconds. \n",
      "\n",
      "\n",
      "Epoch:  85\n"
     ]
    },
    {
     "name": "stderr",
     "output_type": "stream",
     "text": [
      "100%|██████████| 21/21 [00:24<00:00,  1.13s/it]2024-04-28 22:31:06.820689: W tensorflow/core/framework/local_rendezvous.cc:404] Local rendezvous is aborting with status: OUT_OF_RANGE: End of sequence\n",
      "100%|██████████| 21/21 [00:24<00:00,  1.16s/it]\n"
     ]
    },
    {
     "name": "stdout",
     "output_type": "stream",
     "text": [
      "Epoch: 85 -- Generator Loss: 0.24998365342617035, Discriminator Loss: 0.5000947117805481\n",
      "\n",
      "Took 24.442126989364624 seconds. \n",
      "\n",
      "\n",
      "Epoch:  86\n"
     ]
    },
    {
     "name": "stderr",
     "output_type": "stream",
     "text": [
      "100%|██████████| 21/21 [00:24<00:00,  1.29s/it]2024-04-28 22:31:31.205759: W tensorflow/core/framework/local_rendezvous.cc:404] Local rendezvous is aborting with status: OUT_OF_RANGE: End of sequence\n",
      "100%|██████████| 21/21 [00:24<00:00,  1.16s/it]\n"
     ]
    },
    {
     "name": "stdout",
     "output_type": "stream",
     "text": [
      "Epoch: 86 -- Generator Loss: 0.24921919405460358, Discriminator Loss: 0.5009776949882507\n",
      "\n",
      "Took 24.359609842300415 seconds. \n",
      "\n",
      "\n",
      "Epoch:  87\n"
     ]
    },
    {
     "name": "stderr",
     "output_type": "stream",
     "text": [
      "100%|██████████| 21/21 [00:24<00:00,  1.11s/it]2024-04-28 22:31:55.484920: W tensorflow/core/framework/local_rendezvous.cc:404] Local rendezvous is aborting with status: OUT_OF_RANGE: End of sequence\n",
      "100%|██████████| 21/21 [00:24<00:00,  1.16s/it]\n"
     ]
    },
    {
     "name": "stdout",
     "output_type": "stream",
     "text": [
      "Epoch: 87 -- Generator Loss: 0.24846631288528442, Discriminator Loss: 0.5019219517707825\n",
      "\n",
      "Took 24.280256032943726 seconds. \n",
      "\n",
      "\n",
      "Epoch:  88\n"
     ]
    },
    {
     "name": "stderr",
     "output_type": "stream",
     "text": [
      "100%|██████████| 21/21 [00:26<00:00,  1.17s/it]2024-04-28 22:32:21.554233: W tensorflow/core/framework/local_rendezvous.cc:404] Local rendezvous is aborting with status: OUT_OF_RANGE: End of sequence\n",
      "100%|██████████| 21/21 [00:26<00:00,  1.24s/it]\n"
     ]
    },
    {
     "name": "stdout",
     "output_type": "stream",
     "text": [
      "Epoch: 88 -- Generator Loss: 0.24708223342895508, Discriminator Loss: 0.5035535097122192\n",
      "\n",
      "Took 26.068081378936768 seconds. \n",
      "\n",
      "\n",
      "Epoch:  89\n"
     ]
    },
    {
     "name": "stderr",
     "output_type": "stream",
     "text": [
      "100%|██████████| 21/21 [00:24<00:00,  1.18s/it]2024-04-28 22:32:46.209887: W tensorflow/core/framework/local_rendezvous.cc:404] Local rendezvous is aborting with status: OUT_OF_RANGE: End of sequence\n",
      "100%|██████████| 21/21 [00:24<00:00,  1.17s/it]\n"
     ]
    },
    {
     "name": "stdout",
     "output_type": "stream",
     "text": [
      "Epoch: 89 -- Generator Loss: 0.2436772584915161, Discriminator Loss: 0.5078177452087402\n",
      "\n",
      "Took 24.656485080718994 seconds. \n",
      "\n",
      "\n",
      "Epoch:  90\n"
     ]
    },
    {
     "name": "stderr",
     "output_type": "stream",
     "text": [
      "100%|██████████| 21/21 [00:25<00:00,  1.11s/it]2024-04-28 22:33:11.434303: W tensorflow/core/framework/local_rendezvous.cc:404] Local rendezvous is aborting with status: OUT_OF_RANGE: End of sequence\n",
      "100%|██████████| 21/21 [00:25<00:00,  1.20s/it]\n"
     ]
    },
    {
     "name": "stdout",
     "output_type": "stream",
     "text": [
      "Epoch: 90 -- Generator Loss: 0.22598284482955933, Discriminator Loss: 0.5321370959281921\n",
      "\n",
      "Took 25.22520613670349 seconds. \n",
      "\n",
      "\n",
      "Epoch:  91\n"
     ]
    },
    {
     "name": "stderr",
     "output_type": "stream",
     "text": [
      "100%|██████████| 21/21 [00:24<00:00,  1.13s/it]2024-04-28 22:33:36.323966: W tensorflow/core/framework/local_rendezvous.cc:404] Local rendezvous is aborting with status: OUT_OF_RANGE: End of sequence\n",
      "100%|██████████| 21/21 [00:24<00:00,  1.18s/it]\n"
     ]
    },
    {
     "name": "stdout",
     "output_type": "stream",
     "text": [
      "Epoch: 91 -- Generator Loss: 0.2759346663951874, Discriminator Loss: 0.4811885356903076\n",
      "\n",
      "Took 24.8895161151886 seconds. \n",
      "\n",
      "\n",
      "Epoch:  92\n"
     ]
    },
    {
     "name": "stderr",
     "output_type": "stream",
     "text": [
      "100%|██████████| 21/21 [00:24<00:00,  1.21s/it]2024-04-28 22:34:01.144908: W tensorflow/core/framework/local_rendezvous.cc:404] Local rendezvous is aborting with status: OUT_OF_RANGE: End of sequence\n",
      "100%|██████████| 21/21 [00:24<00:00,  1.18s/it]\n"
     ]
    },
    {
     "name": "stdout",
     "output_type": "stream",
     "text": [
      "Epoch: 92 -- Generator Loss: 0.2564321458339691, Discriminator Loss: 0.4924759268760681\n",
      "\n",
      "Took 24.821008920669556 seconds. \n",
      "\n",
      "\n",
      "Epoch:  93\n"
     ]
    },
    {
     "name": "stderr",
     "output_type": "stream",
     "text": [
      "100%|██████████| 21/21 [00:24<00:00,  1.27s/it]2024-04-28 22:34:25.832694: W tensorflow/core/framework/local_rendezvous.cc:404] Local rendezvous is aborting with status: OUT_OF_RANGE: End of sequence\n",
      "100%|██████████| 21/21 [00:24<00:00,  1.17s/it]\n"
     ]
    },
    {
     "name": "stdout",
     "output_type": "stream",
     "text": [
      "Epoch: 93 -- Generator Loss: 0.2529503405094147, Discriminator Loss: 0.496561735868454\n",
      "\n",
      "Took 24.68769121170044 seconds. \n",
      "\n",
      "\n",
      "Epoch:  94\n"
     ]
    },
    {
     "name": "stderr",
     "output_type": "stream",
     "text": [
      "100%|██████████| 21/21 [00:24<00:00,  1.06s/it]2024-04-28 22:34:50.212176: W tensorflow/core/framework/local_rendezvous.cc:404] Local rendezvous is aborting with status: OUT_OF_RANGE: End of sequence\n",
      "100%|██████████| 21/21 [00:24<00:00,  1.16s/it]\n"
     ]
    },
    {
     "name": "stdout",
     "output_type": "stream",
     "text": [
      "Epoch: 94 -- Generator Loss: 0.2516305148601532, Discriminator Loss: 0.4980993866920471\n",
      "\n",
      "Took 24.374070167541504 seconds. \n",
      "\n",
      "\n",
      "Epoch:  95\n"
     ]
    },
    {
     "name": "stderr",
     "output_type": "stream",
     "text": [
      "100%|██████████| 21/21 [00:27<00:00,  1.26s/it]2024-04-28 22:35:17.819620: W tensorflow/core/framework/local_rendezvous.cc:404] Local rendezvous is aborting with status: OUT_OF_RANGE: End of sequence\n",
      "100%|██████████| 21/21 [00:27<00:00,  1.31s/it]\n"
     ]
    },
    {
     "name": "stdout",
     "output_type": "stream",
     "text": [
      "Epoch: 95 -- Generator Loss: 0.25089845061302185, Discriminator Loss: 0.498963862657547\n",
      "\n",
      "Took 27.62568497657776 seconds. \n",
      "\n",
      "\n",
      "Epoch:  96\n"
     ]
    },
    {
     "name": "stderr",
     "output_type": "stream",
     "text": [
      "100%|██████████| 21/21 [00:25<00:00,  1.20s/it]2024-04-28 22:35:43.655385: W tensorflow/core/framework/local_rendezvous.cc:404] Local rendezvous is aborting with status: OUT_OF_RANGE: End of sequence\n",
      "100%|██████████| 21/21 [00:25<00:00,  1.23s/it]\n"
     ]
    },
    {
     "name": "stdout",
     "output_type": "stream",
     "text": [
      "Epoch: 96 -- Generator Loss: 0.25032535195350647, Discriminator Loss: 0.49965086579322815\n",
      "\n",
      "Took 25.82954978942871 seconds. \n",
      "\n",
      "\n",
      "Epoch:  97\n"
     ]
    },
    {
     "name": "stderr",
     "output_type": "stream",
     "text": [
      "100%|██████████| 21/21 [00:25<00:00,  1.16s/it]2024-04-28 22:36:08.849041: W tensorflow/core/framework/local_rendezvous.cc:404] Local rendezvous is aborting with status: OUT_OF_RANGE: End of sequence\n",
      "100%|██████████| 21/21 [00:25<00:00,  1.20s/it]\n"
     ]
    },
    {
     "name": "stdout",
     "output_type": "stream",
     "text": [
      "Epoch: 97 -- Generator Loss: 0.24957644939422607, Discriminator Loss: 0.5004975199699402\n",
      "\n",
      "Took 25.193175077438354 seconds. \n",
      "\n",
      "\n",
      "Epoch:  98\n"
     ]
    },
    {
     "name": "stderr",
     "output_type": "stream",
     "text": [
      "100%|██████████| 21/21 [00:25<00:00,  1.20s/it]2024-04-28 22:36:34.579538: W tensorflow/core/framework/local_rendezvous.cc:404] Local rendezvous is aborting with status: OUT_OF_RANGE: End of sequence\n",
      "100%|██████████| 21/21 [00:25<00:00,  1.22s/it]\n"
     ]
    },
    {
     "name": "stdout",
     "output_type": "stream",
     "text": [
      "Epoch: 98 -- Generator Loss: 0.24775707721710205, Discriminator Loss: 0.5028344392776489\n",
      "\n",
      "Took 25.720000982284546 seconds. \n",
      "\n",
      "\n",
      "Epoch:  99\n"
     ]
    },
    {
     "name": "stderr",
     "output_type": "stream",
     "text": [
      "100%|██████████| 21/21 [00:24<00:00,  1.20s/it]2024-04-28 22:36:59.499833: W tensorflow/core/framework/local_rendezvous.cc:404] Local rendezvous is aborting with status: OUT_OF_RANGE: End of sequence\n",
      "100%|██████████| 21/21 [00:24<00:00,  1.19s/it]\n"
     ]
    },
    {
     "name": "stdout",
     "output_type": "stream",
     "text": [
      "Epoch: 99 -- Generator Loss: 0.237280935049057, Discriminator Loss: 0.5159440040588379\n",
      "\n",
      "Took 24.919153213500977 seconds. \n",
      "\n",
      "\n",
      "Epoch:  100\n"
     ]
    },
    {
     "name": "stderr",
     "output_type": "stream",
     "text": [
      "100%|██████████| 21/21 [00:25<00:00,  1.27s/it]2024-04-28 22:37:24.627466: W tensorflow/core/framework/local_rendezvous.cc:404] Local rendezvous is aborting with status: OUT_OF_RANGE: End of sequence\n",
      "100%|██████████| 21/21 [00:25<00:00,  1.20s/it]\n"
     ]
    },
    {
     "name": "stdout",
     "output_type": "stream",
     "text": [
      "Epoch: 100 -- Generator Loss: 0.2612002491950989, Discriminator Loss: 0.5127879977226257\n",
      "\n",
      "Took 25.136950969696045 seconds. \n",
      "\n",
      "\n",
      "Epoch:  101\n"
     ]
    },
    {
     "name": "stderr",
     "output_type": "stream",
     "text": [
      "100%|██████████| 21/21 [00:24<00:00,  1.02s/it]2024-04-28 22:37:48.891795: W tensorflow/core/framework/local_rendezvous.cc:404] Local rendezvous is aborting with status: OUT_OF_RANGE: End of sequence\n",
      "100%|██████████| 21/21 [00:24<00:00,  1.15s/it]\n"
     ]
    },
    {
     "name": "stdout",
     "output_type": "stream",
     "text": [
      "Epoch: 101 -- Generator Loss: 0.2578202486038208, Discriminator Loss: 0.4913320541381836\n",
      "\n",
      "Took 24.253183126449585 seconds. \n",
      "\n",
      "\n",
      "Epoch:  102\n"
     ]
    },
    {
     "name": "stderr",
     "output_type": "stream",
     "text": [
      "100%|██████████| 21/21 [00:24<00:00,  1.25s/it]2024-04-28 22:38:13.837508: W tensorflow/core/framework/local_rendezvous.cc:404] Local rendezvous is aborting with status: OUT_OF_RANGE: End of sequence\n",
      "100%|██████████| 21/21 [00:24<00:00,  1.19s/it]\n"
     ]
    },
    {
     "name": "stdout",
     "output_type": "stream",
     "text": [
      "Epoch: 102 -- Generator Loss: 0.25142702460289, Discriminator Loss: 0.4984128177165985\n",
      "\n",
      "Took 24.962531089782715 seconds. \n",
      "\n",
      "\n",
      "Epoch:  103\n"
     ]
    },
    {
     "name": "stderr",
     "output_type": "stream",
     "text": [
      "100%|██████████| 21/21 [00:25<00:00,  1.35s/it]2024-04-28 22:38:39.017090: W tensorflow/core/framework/local_rendezvous.cc:404] Local rendezvous is aborting with status: OUT_OF_RANGE: End of sequence\n",
      "100%|██████████| 21/21 [00:25<00:00,  1.20s/it]\n"
     ]
    },
    {
     "name": "stdout",
     "output_type": "stream",
     "text": [
      "Epoch: 103 -- Generator Loss: 0.2502206265926361, Discriminator Loss: 0.4997859597206116\n",
      "\n",
      "Took 25.16928195953369 seconds. \n",
      "\n",
      "\n",
      "Epoch:  104\n"
     ]
    },
    {
     "name": "stderr",
     "output_type": "stream",
     "text": [
      "100%|██████████| 21/21 [00:24<00:00,  1.01s/it]2024-04-28 22:39:03.283871: W tensorflow/core/framework/local_rendezvous.cc:404] Local rendezvous is aborting with status: OUT_OF_RANGE: End of sequence\n",
      "100%|██████████| 21/21 [00:24<00:00,  1.15s/it]\n"
     ]
    },
    {
     "name": "stdout",
     "output_type": "stream",
     "text": [
      "Epoch: 104 -- Generator Loss: 0.24977119266986847, Discriminator Loss: 0.5003048777580261\n",
      "\n",
      "Took 24.269799947738647 seconds. \n",
      "\n",
      "\n",
      "Epoch:  105\n"
     ]
    },
    {
     "name": "stderr",
     "output_type": "stream",
     "text": [
      "100%|██████████| 21/21 [00:25<00:00,  1.17s/it]2024-04-28 22:39:28.577764: W tensorflow/core/framework/local_rendezvous.cc:404] Local rendezvous is aborting with status: OUT_OF_RANGE: End of sequence\n",
      "100%|██████████| 21/21 [00:25<00:00,  1.20s/it]\n"
     ]
    },
    {
     "name": "stdout",
     "output_type": "stream",
     "text": [
      "Epoch: 105 -- Generator Loss: 0.2494359314441681, Discriminator Loss: 0.5007506012916565\n",
      "\n",
      "Took 25.28336811065674 seconds. \n",
      "\n",
      "\n",
      "Epoch:  106\n"
     ]
    },
    {
     "name": "stderr",
     "output_type": "stream",
     "text": [
      "100%|██████████| 21/21 [00:25<00:00,  1.33s/it]2024-04-28 22:39:54.322812: W tensorflow/core/framework/local_rendezvous.cc:404] Local rendezvous is aborting with status: OUT_OF_RANGE: End of sequence\n",
      "100%|██████████| 21/21 [00:25<00:00,  1.23s/it]\n"
     ]
    },
    {
     "name": "stdout",
     "output_type": "stream",
     "text": [
      "Epoch: 106 -- Generator Loss: 0.24904057383537292, Discriminator Loss: 0.5012091398239136\n",
      "\n",
      "Took 25.746408224105835 seconds. \n",
      "\n",
      "\n",
      "Epoch:  107\n"
     ]
    },
    {
     "name": "stderr",
     "output_type": "stream",
     "text": [
      "100%|██████████| 21/21 [00:25<00:00,  1.13s/it]2024-04-28 22:40:19.836335: W tensorflow/core/framework/local_rendezvous.cc:404] Local rendezvous is aborting with status: OUT_OF_RANGE: End of sequence\n",
      "100%|██████████| 21/21 [00:25<00:00,  1.21s/it]\n"
     ]
    },
    {
     "name": "stdout",
     "output_type": "stream",
     "text": [
      "Epoch: 107 -- Generator Loss: 0.24852587282657623, Discriminator Loss: 0.5017837882041931\n",
      "\n",
      "Took 25.511410236358643 seconds. \n",
      "\n",
      "\n",
      "Epoch:  108\n"
     ]
    },
    {
     "name": "stderr",
     "output_type": "stream",
     "text": [
      "100%|██████████| 21/21 [00:26<00:00,  1.26s/it]2024-04-28 22:40:45.976583: W tensorflow/core/framework/local_rendezvous.cc:404] Local rendezvous is aborting with status: OUT_OF_RANGE: End of sequence\n",
      "100%|██████████| 21/21 [00:26<00:00,  1.24s/it]\n"
     ]
    },
    {
     "name": "stdout",
     "output_type": "stream",
     "text": [
      "Epoch: 108 -- Generator Loss: 0.2478991448879242, Discriminator Loss: 0.5025862455368042\n",
      "\n",
      "Took 26.14224410057068 seconds. \n",
      "\n",
      "\n",
      "Epoch:  109\n"
     ]
    },
    {
     "name": "stderr",
     "output_type": "stream",
     "text": [
      "100%|██████████| 21/21 [00:24<00:00,  1.08s/it]2024-04-28 22:41:10.145273: W tensorflow/core/framework/local_rendezvous.cc:404] Local rendezvous is aborting with status: OUT_OF_RANGE: End of sequence\n",
      "100%|██████████| 21/21 [00:24<00:00,  1.15s/it]\n"
     ]
    },
    {
     "name": "stdout",
     "output_type": "stream",
     "text": [
      "Epoch: 109 -- Generator Loss: 0.24707208573818207, Discriminator Loss: 0.5036259293556213\n",
      "\n",
      "Took 24.171898126602173 seconds. \n",
      "\n",
      "\n",
      "Epoch:  110\n"
     ]
    },
    {
     "name": "stderr",
     "output_type": "stream",
     "text": [
      "100%|██████████| 21/21 [00:25<00:00,  1.10s/it]2024-04-28 22:41:35.316665: W tensorflow/core/framework/local_rendezvous.cc:404] Local rendezvous is aborting with status: OUT_OF_RANGE: End of sequence\n",
      "100%|██████████| 21/21 [00:25<00:00,  1.20s/it]\n"
     ]
    },
    {
     "name": "stdout",
     "output_type": "stream",
     "text": [
      "Epoch: 110 -- Generator Loss: 0.24599114060401917, Discriminator Loss: 0.5049545168876648\n",
      "\n",
      "Took 25.167309999465942 seconds. \n",
      "\n",
      "\n",
      "Epoch:  111\n"
     ]
    },
    {
     "name": "stderr",
     "output_type": "stream",
     "text": [
      "100%|██████████| 21/21 [00:24<00:00,  1.10s/it]2024-04-28 22:41:59.574867: W tensorflow/core/framework/local_rendezvous.cc:404] Local rendezvous is aborting with status: OUT_OF_RANGE: End of sequence\n",
      "100%|██████████| 21/21 [00:24<00:00,  1.15s/it]\n"
     ]
    },
    {
     "name": "stdout",
     "output_type": "stream",
     "text": [
      "Epoch: 111 -- Generator Loss: 0.2446925938129425, Discriminator Loss: 0.5065257549285889\n",
      "\n",
      "Took 24.25785803794861 seconds. \n",
      "\n",
      "\n",
      "Epoch:  112\n"
     ]
    },
    {
     "name": "stderr",
     "output_type": "stream",
     "text": [
      "100%|██████████| 21/21 [00:24<00:00,  1.24s/it]2024-04-28 22:42:24.165812: W tensorflow/core/framework/local_rendezvous.cc:404] Local rendezvous is aborting with status: OUT_OF_RANGE: End of sequence\n",
      "100%|██████████| 21/21 [00:24<00:00,  1.17s/it]\n"
     ]
    },
    {
     "name": "stdout",
     "output_type": "stream",
     "text": [
      "Epoch: 112 -- Generator Loss: 0.24303670227527618, Discriminator Loss: 0.5085856318473816\n",
      "\n",
      "Took 24.592586994171143 seconds. \n",
      "\n",
      "\n",
      "Epoch:  113\n"
     ]
    },
    {
     "name": "stderr",
     "output_type": "stream",
     "text": [
      "100%|██████████| 21/21 [00:24<00:00,  1.26s/it]2024-04-28 22:42:48.226072: W tensorflow/core/framework/local_rendezvous.cc:404] Local rendezvous is aborting with status: OUT_OF_RANGE: End of sequence\n",
      "100%|██████████| 21/21 [00:24<00:00,  1.15s/it]\n"
     ]
    },
    {
     "name": "stdout",
     "output_type": "stream",
     "text": [
      "Epoch: 113 -- Generator Loss: 0.23999302089214325, Discriminator Loss: 0.5130006074905396\n",
      "\n",
      "Took 24.059192657470703 seconds. \n",
      "\n",
      "\n",
      "Epoch:  114\n"
     ]
    },
    {
     "name": "stderr",
     "output_type": "stream",
     "text": [
      "100%|██████████| 21/21 [00:24<00:00,  1.05s/it]2024-04-28 22:43:12.271234: W tensorflow/core/framework/local_rendezvous.cc:404] Local rendezvous is aborting with status: OUT_OF_RANGE: End of sequence\n",
      "100%|██████████| 21/21 [00:24<00:00,  1.14s/it]\n"
     ]
    },
    {
     "name": "stdout",
     "output_type": "stream",
     "text": [
      "Epoch: 114 -- Generator Loss: 0.25918737053871155, Discriminator Loss: 0.49204209446907043\n",
      "\n",
      "Took 24.041449069976807 seconds. \n",
      "\n",
      "\n",
      "Epoch:  115\n"
     ]
    },
    {
     "name": "stderr",
     "output_type": "stream",
     "text": [
      "100%|██████████| 21/21 [00:27<00:00,  1.30s/it]2024-04-28 22:43:39.532115: W tensorflow/core/framework/local_rendezvous.cc:404] Local rendezvous is aborting with status: OUT_OF_RANGE: End of sequence\n",
      "100%|██████████| 21/21 [00:27<00:00,  1.30s/it]\n"
     ]
    },
    {
     "name": "stdout",
     "output_type": "stream",
     "text": [
      "Epoch: 115 -- Generator Loss: 0.25819551944732666, Discriminator Loss: 0.4905052185058594\n",
      "\n",
      "Took 27.277194023132324 seconds. \n",
      "\n",
      "\n",
      "Epoch:  116\n"
     ]
    },
    {
     "name": "stderr",
     "output_type": "stream",
     "text": [
      "100%|██████████| 21/21 [00:25<00:00,  1.18s/it]2024-04-28 22:44:05.075633: W tensorflow/core/framework/local_rendezvous.cc:404] Local rendezvous is aborting with status: OUT_OF_RANGE: End of sequence\n",
      "100%|██████████| 21/21 [00:25<00:00,  1.22s/it]\n"
     ]
    },
    {
     "name": "stdout",
     "output_type": "stream",
     "text": [
      "Epoch: 116 -- Generator Loss: 0.25593122839927673, Discriminator Loss: 0.49305930733680725\n",
      "\n",
      "Took 25.52780294418335 seconds. \n",
      "\n",
      "\n",
      "Epoch:  117\n"
     ]
    },
    {
     "name": "stderr",
     "output_type": "stream",
     "text": [
      "100%|██████████| 21/21 [00:24<00:00,  1.09s/it]2024-04-28 22:44:29.911703: W tensorflow/core/framework/local_rendezvous.cc:404] Local rendezvous is aborting with status: OUT_OF_RANGE: End of sequence\n",
      "100%|██████████| 21/21 [00:24<00:00,  1.18s/it]\n"
     ]
    },
    {
     "name": "stdout",
     "output_type": "stream",
     "text": [
      "Epoch: 117 -- Generator Loss: 0.2542959749698639, Discriminator Loss: 0.4948829412460327\n",
      "\n",
      "Took 24.83705997467041 seconds. \n",
      "\n",
      "\n",
      "Epoch:  118\n"
     ]
    },
    {
     "name": "stderr",
     "output_type": "stream",
     "text": [
      "100%|██████████| 21/21 [00:26<00:00,  1.15s/it]2024-04-28 22:44:55.938280: W tensorflow/core/framework/local_rendezvous.cc:404] Local rendezvous is aborting with status: OUT_OF_RANGE: End of sequence\n",
      "100%|██████████| 21/21 [00:26<00:00,  1.24s/it]\n"
     ]
    },
    {
     "name": "stdout",
     "output_type": "stream",
     "text": [
      "Epoch: 118 -- Generator Loss: 0.25274407863616943, Discriminator Loss: 0.4967576861381531\n",
      "\n",
      "Took 26.025075912475586 seconds. \n",
      "\n",
      "\n",
      "Epoch:  119\n"
     ]
    },
    {
     "name": "stderr",
     "output_type": "stream",
     "text": [
      "100%|██████████| 21/21 [00:24<00:00,  1.39s/it]2024-04-28 22:45:20.888674: W tensorflow/core/framework/local_rendezvous.cc:404] Local rendezvous is aborting with status: OUT_OF_RANGE: End of sequence\n",
      "100%|██████████| 21/21 [00:24<00:00,  1.19s/it]\n"
     ]
    },
    {
     "name": "stdout",
     "output_type": "stream",
     "text": [
      "Epoch: 119 -- Generator Loss: 0.24938049912452698, Discriminator Loss: 0.5008652806282043\n",
      "\n",
      "Took 24.9488468170166 seconds. \n",
      "\n",
      "\n",
      "Epoch:  120\n"
     ]
    },
    {
     "name": "stderr",
     "output_type": "stream",
     "text": [
      "100%|██████████| 21/21 [00:25<00:00,  1.24s/it]2024-04-28 22:45:46.503040: W tensorflow/core/framework/local_rendezvous.cc:404] Local rendezvous is aborting with status: OUT_OF_RANGE: End of sequence\n",
      "100%|██████████| 21/21 [00:25<00:00,  1.22s/it]\n"
     ]
    },
    {
     "name": "stdout",
     "output_type": "stream",
     "text": [
      "Epoch: 120 -- Generator Loss: 0.24948935210704803, Discriminator Loss: 0.5443815588951111\n",
      "\n",
      "Took 25.615993976593018 seconds. \n",
      "\n",
      "\n",
      "Epoch:  121\n"
     ]
    },
    {
     "name": "stderr",
     "output_type": "stream",
     "text": [
      "100%|██████████| 21/21 [00:27<00:00,  1.28s/it]2024-04-28 22:46:13.782060: W tensorflow/core/framework/local_rendezvous.cc:404] Local rendezvous is aborting with status: OUT_OF_RANGE: End of sequence\n",
      "100%|██████████| 21/21 [00:27<00:00,  1.30s/it]\n"
     ]
    },
    {
     "name": "stdout",
     "output_type": "stream",
     "text": [
      "Epoch: 121 -- Generator Loss: 0.26311278343200684, Discriminator Loss: 0.4865282475948334\n",
      "\n",
      "Took 27.28589105606079 seconds. \n",
      "\n",
      "\n",
      "Epoch:  122\n"
     ]
    },
    {
     "name": "stderr",
     "output_type": "stream",
     "text": [
      "100%|██████████| 21/21 [00:24<00:00,  1.36s/it]2024-04-28 22:46:38.569121: W tensorflow/core/framework/local_rendezvous.cc:404] Local rendezvous is aborting with status: OUT_OF_RANGE: End of sequence\n",
      "100%|██████████| 21/21 [00:24<00:00,  1.18s/it]\n"
     ]
    },
    {
     "name": "stdout",
     "output_type": "stream",
     "text": [
      "Epoch: 122 -- Generator Loss: 0.24880702793598175, Discriminator Loss: 0.501552939414978\n",
      "\n",
      "Took 24.77905511856079 seconds. \n",
      "\n",
      "\n",
      "Epoch:  123\n"
     ]
    },
    {
     "name": "stderr",
     "output_type": "stream",
     "text": [
      "100%|██████████| 21/21 [00:24<00:00,  1.04s/it]2024-04-28 22:47:02.843147: W tensorflow/core/framework/local_rendezvous.cc:404] Local rendezvous is aborting with status: OUT_OF_RANGE: End of sequence\n",
      "100%|██████████| 21/21 [00:24<00:00,  1.16s/it]\n"
     ]
    },
    {
     "name": "stdout",
     "output_type": "stream",
     "text": [
      "Epoch: 123 -- Generator Loss: 0.24650219082832336, Discriminator Loss: 0.5042492747306824\n",
      "\n",
      "Took 24.273327112197876 seconds. \n",
      "\n",
      "\n",
      "Epoch:  124\n"
     ]
    },
    {
     "name": "stderr",
     "output_type": "stream",
     "text": [
      "100%|██████████| 21/21 [00:25<00:00,  1.33s/it]2024-04-28 22:47:28.451090: W tensorflow/core/framework/local_rendezvous.cc:404] Local rendezvous is aborting with status: OUT_OF_RANGE: End of sequence\n",
      "100%|██████████| 21/21 [00:25<00:00,  1.22s/it]\n"
     ]
    },
    {
     "name": "stdout",
     "output_type": "stream",
     "text": [
      "Epoch: 124 -- Generator Loss: 0.2453250139951706, Discriminator Loss: 0.5057053565979004\n",
      "\n",
      "Took 25.64996099472046 seconds. \n",
      "\n",
      "\n",
      "Epoch:  125\n"
     ]
    },
    {
     "name": "stderr",
     "output_type": "stream",
     "text": [
      "100%|██████████| 21/21 [00:23<00:00,  1.17s/it]2024-04-28 22:47:51.713786: W tensorflow/core/framework/local_rendezvous.cc:404] Local rendezvous is aborting with status: OUT_OF_RANGE: End of sequence\n",
      "100%|██████████| 21/21 [00:23<00:00,  1.10s/it]\n"
     ]
    },
    {
     "name": "stdout",
     "output_type": "stream",
     "text": [
      "Epoch: 125 -- Generator Loss: 0.24428987503051758, Discriminator Loss: 0.5069853663444519\n",
      "\n",
      "Took 23.225056886672974 seconds. \n",
      "\n",
      "\n",
      "Epoch:  126\n"
     ]
    },
    {
     "name": "stderr",
     "output_type": "stream",
     "text": [
      "100%|██████████| 21/21 [00:24<00:00,  1.03it/s]2024-04-28 22:48:15.735601: W tensorflow/core/framework/local_rendezvous.cc:404] Local rendezvous is aborting with status: OUT_OF_RANGE: End of sequence\n",
      "100%|██████████| 21/21 [00:24<00:00,  1.14s/it]\n"
     ]
    },
    {
     "name": "stdout",
     "output_type": "stream",
     "text": [
      "Epoch: 126 -- Generator Loss: 0.24365320801734924, Discriminator Loss: 0.507797360420227\n",
      "\n",
      "Took 24.017701148986816 seconds. \n",
      "\n",
      "\n",
      "Epoch:  127\n"
     ]
    },
    {
     "name": "stderr",
     "output_type": "stream",
     "text": [
      "100%|██████████| 21/21 [00:22<00:00,  1.01s/it]2024-04-28 22:48:38.637066: W tensorflow/core/framework/local_rendezvous.cc:404] Local rendezvous is aborting with status: OUT_OF_RANGE: End of sequence\n",
      "100%|██████████| 21/21 [00:22<00:00,  1.09s/it]\n"
     ]
    },
    {
     "name": "stdout",
     "output_type": "stream",
     "text": [
      "Epoch: 127 -- Generator Loss: 0.2436327487230301, Discriminator Loss: 0.5077782869338989\n",
      "\n",
      "Took 22.899134874343872 seconds. \n",
      "\n",
      "\n",
      "Epoch:  128\n"
     ]
    },
    {
     "name": "stderr",
     "output_type": "stream",
     "text": [
      "100%|██████████| 21/21 [00:23<00:00,  1.10s/it]2024-04-28 22:49:01.921668: W tensorflow/core/framework/local_rendezvous.cc:404] Local rendezvous is aborting with status: OUT_OF_RANGE: End of sequence\n",
      "100%|██████████| 21/21 [00:23<00:00,  1.11s/it]\n"
     ]
    },
    {
     "name": "stdout",
     "output_type": "stream",
     "text": [
      "Epoch: 128 -- Generator Loss: 0.24474570155143738, Discriminator Loss: 0.5064756870269775\n",
      "\n",
      "Took 23.287240982055664 seconds. \n",
      "\n",
      "\n",
      "Epoch:  129\n"
     ]
    },
    {
     "name": "stderr",
     "output_type": "stream",
     "text": [
      "100%|██████████| 21/21 [00:21<00:00,  1.08s/it]2024-04-28 22:49:23.220144: W tensorflow/core/framework/local_rendezvous.cc:404] Local rendezvous is aborting with status: OUT_OF_RANGE: End of sequence\n",
      "100%|██████████| 21/21 [00:21<00:00,  1.01s/it]\n"
     ]
    },
    {
     "name": "stdout",
     "output_type": "stream",
     "text": [
      "Epoch: 129 -- Generator Loss: 0.24709370732307434, Discriminator Loss: 0.503710150718689\n",
      "\n",
      "Took 21.2972469329834 seconds. \n",
      "\n",
      "\n",
      "Epoch:  130\n"
     ]
    },
    {
     "name": "stderr",
     "output_type": "stream",
     "text": [
      "100%|██████████| 21/21 [00:21<00:00,  1.03it/s]2024-04-28 22:49:44.928415: W tensorflow/core/framework/local_rendezvous.cc:404] Local rendezvous is aborting with status: OUT_OF_RANGE: End of sequence\n",
      "100%|██████████| 21/21 [00:21<00:00,  1.03s/it]\n"
     ]
    },
    {
     "name": "stdout",
     "output_type": "stream",
     "text": [
      "Epoch: 130 -- Generator Loss: 0.2503395676612854, Discriminator Loss: 0.4998273253440857\n",
      "\n",
      "Took 21.707794904708862 seconds. \n",
      "\n",
      "\n",
      "Epoch:  131\n"
     ]
    },
    {
     "name": "stderr",
     "output_type": "stream",
     "text": [
      "100%|██████████| 21/21 [00:23<00:00,  1.09s/it]2024-04-28 22:50:08.274829: W tensorflow/core/framework/local_rendezvous.cc:404] Local rendezvous is aborting with status: OUT_OF_RANGE: End of sequence\n",
      "100%|██████████| 21/21 [00:23<00:00,  1.11s/it]\n"
     ]
    },
    {
     "name": "stdout",
     "output_type": "stream",
     "text": [
      "Epoch: 131 -- Generator Loss: 0.2535535991191864, Discriminator Loss: 0.4959664046764374\n",
      "\n",
      "Took 23.348591089248657 seconds. \n",
      "\n",
      "\n",
      "Epoch:  132\n"
     ]
    },
    {
     "name": "stderr",
     "output_type": "stream",
     "text": [
      "100%|██████████| 21/21 [00:23<00:00,  1.19s/it]2024-04-28 22:50:31.648762: W tensorflow/core/framework/local_rendezvous.cc:404] Local rendezvous is aborting with status: OUT_OF_RANGE: End of sequence\n",
      "100%|██████████| 21/21 [00:23<00:00,  1.11s/it]\n"
     ]
    },
    {
     "name": "stdout",
     "output_type": "stream",
     "text": [
      "Epoch: 132 -- Generator Loss: 0.2557941675186157, Discriminator Loss: 0.4932100772857666\n",
      "\n",
      "Took 23.38191795349121 seconds. \n",
      "\n",
      "\n",
      "Epoch:  133\n"
     ]
    },
    {
     "name": "stderr",
     "output_type": "stream",
     "text": [
      "100%|██████████| 21/21 [00:23<00:00,  1.21s/it]2024-04-28 22:50:55.341187: W tensorflow/core/framework/local_rendezvous.cc:404] Local rendezvous is aborting with status: OUT_OF_RANGE: End of sequence\n",
      "100%|██████████| 21/21 [00:23<00:00,  1.13s/it]\n"
     ]
    },
    {
     "name": "stdout",
     "output_type": "stream",
     "text": [
      "Epoch: 133 -- Generator Loss: 0.25676578283309937, Discriminator Loss: 0.4920649230480194\n",
      "\n",
      "Took 23.690077781677246 seconds. \n",
      "\n",
      "\n",
      "Epoch:  134\n"
     ]
    },
    {
     "name": "stderr",
     "output_type": "stream",
     "text": [
      "100%|██████████| 21/21 [00:24<00:00,  1.04s/it]2024-04-28 22:51:20.318703: W tensorflow/core/framework/local_rendezvous.cc:404] Local rendezvous is aborting with status: OUT_OF_RANGE: End of sequence\n",
      "100%|██████████| 21/21 [00:24<00:00,  1.19s/it]\n"
     ]
    },
    {
     "name": "stdout",
     "output_type": "stream",
     "text": [
      "Epoch: 134 -- Generator Loss: 0.25654903054237366, Discriminator Loss: 0.4922618269920349\n",
      "\n",
      "Took 24.97382092475891 seconds. \n",
      "\n",
      "\n",
      "Epoch:  135\n"
     ]
    },
    {
     "name": "stderr",
     "output_type": "stream",
     "text": [
      "100%|██████████| 21/21 [00:24<00:00,  1.25s/it]2024-04-28 22:51:45.324189: W tensorflow/core/framework/local_rendezvous.cc:404] Local rendezvous is aborting with status: OUT_OF_RANGE: End of sequence\n",
      "100%|██████████| 21/21 [00:24<00:00,  1.19s/it]\n"
     ]
    },
    {
     "name": "stdout",
     "output_type": "stream",
     "text": [
      "Epoch: 135 -- Generator Loss: 0.2557453513145447, Discriminator Loss: 0.4932122826576233\n",
      "\n",
      "Took 25.01632571220398 seconds. \n",
      "\n",
      "\n",
      "Epoch:  136\n"
     ]
    },
    {
     "name": "stderr",
     "output_type": "stream",
     "text": [
      "100%|██████████| 21/21 [00:24<00:00,  1.15s/it]2024-04-28 22:52:09.385639: W tensorflow/core/framework/local_rendezvous.cc:404] Local rendezvous is aborting with status: OUT_OF_RANGE: End of sequence\n",
      "100%|██████████| 21/21 [00:24<00:00,  1.14s/it]\n"
     ]
    },
    {
     "name": "stdout",
     "output_type": "stream",
     "text": [
      "Epoch: 136 -- Generator Loss: 0.25459542870521545, Discriminator Loss: 0.4945671856403351\n",
      "\n",
      "Took 24.04502582550049 seconds. \n",
      "\n",
      "\n",
      "Epoch:  137\n"
     ]
    },
    {
     "name": "stderr",
     "output_type": "stream",
     "text": [
      "100%|██████████| 21/21 [00:25<00:00,  1.13s/it]2024-04-28 22:52:35.114323: W tensorflow/core/framework/local_rendezvous.cc:404] Local rendezvous is aborting with status: OUT_OF_RANGE: End of sequence\n",
      "100%|██████████| 21/21 [00:25<00:00,  1.22s/it]\n"
     ]
    },
    {
     "name": "stdout",
     "output_type": "stream",
     "text": [
      "Epoch: 137 -- Generator Loss: 0.25312620401382446, Discriminator Loss: 0.49628058075904846\n",
      "\n",
      "Took 25.729331970214844 seconds. \n",
      "\n",
      "\n",
      "Epoch:  138\n"
     ]
    },
    {
     "name": "stderr",
     "output_type": "stream",
     "text": [
      "100%|██████████| 21/21 [00:24<00:00,  1.09s/it]2024-04-28 22:53:00.121877: W tensorflow/core/framework/local_rendezvous.cc:404] Local rendezvous is aborting with status: OUT_OF_RANGE: End of sequence\n",
      "100%|██████████| 21/21 [00:24<00:00,  1.19s/it]\n"
     ]
    },
    {
     "name": "stdout",
     "output_type": "stream",
     "text": [
      "Epoch: 138 -- Generator Loss: 0.24967683851718903, Discriminator Loss: 0.5005289912223816\n",
      "\n",
      "Took 25.005286931991577 seconds. \n",
      "\n",
      "\n",
      "Epoch:  139\n"
     ]
    },
    {
     "name": "stderr",
     "output_type": "stream",
     "text": [
      "100%|██████████| 21/21 [00:24<00:00,  1.24s/it]2024-04-28 22:53:25.086914: W tensorflow/core/framework/local_rendezvous.cc:404] Local rendezvous is aborting with status: OUT_OF_RANGE: End of sequence\n",
      "100%|██████████| 21/21 [00:24<00:00,  1.19s/it]\n"
     ]
    },
    {
     "name": "stdout",
     "output_type": "stream",
     "text": [
      "Epoch: 139 -- Generator Loss: 0.2306511253118515, Discriminator Loss: 0.524882435798645\n",
      "\n",
      "Took 24.979025840759277 seconds. \n",
      "\n",
      "\n",
      "Epoch:  140\n"
     ]
    },
    {
     "name": "stderr",
     "output_type": "stream",
     "text": [
      "100%|██████████| 21/21 [00:28<00:00,  1.35s/it]2024-04-28 22:53:53.186150: W tensorflow/core/framework/local_rendezvous.cc:404] Local rendezvous is aborting with status: OUT_OF_RANGE: End of sequence\n",
      "100%|██████████| 21/21 [00:28<00:00,  1.34s/it]\n"
     ]
    },
    {
     "name": "stdout",
     "output_type": "stream",
     "text": [
      "Epoch: 140 -- Generator Loss: 0.270286500453949, Discriminator Loss: 0.5021942257881165\n",
      "\n",
      "Took 28.087019205093384 seconds. \n",
      "\n",
      "\n",
      "Epoch:  141\n"
     ]
    },
    {
     "name": "stderr",
     "output_type": "stream",
     "text": [
      "100%|██████████| 21/21 [00:25<00:00,  1.02s/it]2024-04-28 22:54:18.431342: W tensorflow/core/framework/local_rendezvous.cc:404] Local rendezvous is aborting with status: OUT_OF_RANGE: End of sequence\n",
      "100%|██████████| 21/21 [00:25<00:00,  1.20s/it]\n"
     ]
    },
    {
     "name": "stdout",
     "output_type": "stream",
     "text": [
      "Epoch: 141 -- Generator Loss: 0.2538352906703949, Discriminator Loss: 0.4955533444881439\n",
      "\n",
      "Took 25.24160408973694 seconds. \n",
      "\n",
      "\n",
      "Epoch:  142\n"
     ]
    },
    {
     "name": "stderr",
     "output_type": "stream",
     "text": [
      "100%|██████████| 21/21 [00:26<00:00,  1.29s/it]2024-04-28 22:54:45.068264: W tensorflow/core/framework/local_rendezvous.cc:404] Local rendezvous is aborting with status: OUT_OF_RANGE: End of sequence\n",
      "100%|██████████| 21/21 [00:26<00:00,  1.27s/it]\n"
     ]
    },
    {
     "name": "stdout",
     "output_type": "stream",
     "text": [
      "Epoch: 142 -- Generator Loss: 0.24847957491874695, Discriminator Loss: 0.5018699765205383\n",
      "\n",
      "Took 26.639235258102417 seconds. \n",
      "\n",
      "\n",
      "Epoch:  143\n"
     ]
    },
    {
     "name": "stderr",
     "output_type": "stream",
     "text": [
      "100%|██████████| 21/21 [00:25<00:00,  1.18s/it]2024-04-28 22:55:10.225722: W tensorflow/core/framework/local_rendezvous.cc:404] Local rendezvous is aborting with status: OUT_OF_RANGE: End of sequence\n",
      "100%|██████████| 21/21 [00:25<00:00,  1.20s/it]\n"
     ]
    },
    {
     "name": "stdout",
     "output_type": "stream",
     "text": [
      "Epoch: 143 -- Generator Loss: 0.24626055359840393, Discriminator Loss: 0.5046167969703674\n",
      "\n",
      "Took 25.154350757598877 seconds. \n",
      "\n",
      "\n",
      "Epoch:  144\n"
     ]
    },
    {
     "name": "stderr",
     "output_type": "stream",
     "text": [
      "100%|██████████| 21/21 [00:23<00:00,  1.02s/it]2024-04-28 22:55:33.688366: W tensorflow/core/framework/local_rendezvous.cc:404] Local rendezvous is aborting with status: OUT_OF_RANGE: End of sequence\n",
      "100%|██████████| 21/21 [00:23<00:00,  1.12s/it]\n"
     ]
    },
    {
     "name": "stdout",
     "output_type": "stream",
     "text": [
      "Epoch: 144 -- Generator Loss: 0.24470919370651245, Discriminator Loss: 0.5064438581466675\n",
      "\n",
      "Took 23.46441888809204 seconds. \n",
      "\n",
      "\n",
      "Epoch:  145\n"
     ]
    },
    {
     "name": "stderr",
     "output_type": "stream",
     "text": [
      "100%|██████████| 21/21 [00:24<00:00,  1.04s/it]2024-04-28 22:55:58.470947: W tensorflow/core/framework/local_rendezvous.cc:404] Local rendezvous is aborting with status: OUT_OF_RANGE: End of sequence\n",
      "100%|██████████| 21/21 [00:24<00:00,  1.18s/it]\n"
     ]
    },
    {
     "name": "stdout",
     "output_type": "stream",
     "text": [
      "Epoch: 145 -- Generator Loss: 0.24359893798828125, Discriminator Loss: 0.5078102350234985\n",
      "\n",
      "Took 24.780592918395996 seconds. \n",
      "\n",
      "\n",
      "Epoch:  146\n"
     ]
    },
    {
     "name": "stderr",
     "output_type": "stream",
     "text": [
      "100%|██████████| 21/21 [00:24<00:00,  1.23s/it]2024-04-28 22:56:22.948864: W tensorflow/core/framework/local_rendezvous.cc:404] Local rendezvous is aborting with status: OUT_OF_RANGE: End of sequence\n",
      "100%|██████████| 21/21 [00:24<00:00,  1.17s/it]\n"
     ]
    },
    {
     "name": "stdout",
     "output_type": "stream",
     "text": [
      "Epoch: 146 -- Generator Loss: 0.24306505918502808, Discriminator Loss: 0.5084927678108215\n",
      "\n",
      "Took 24.48109793663025 seconds. \n",
      "\n",
      "\n",
      "Epoch:  147\n"
     ]
    },
    {
     "name": "stderr",
     "output_type": "stream",
     "text": [
      "100%|██████████| 21/21 [00:23<00:00,  1.25s/it]2024-04-28 22:56:46.604671: W tensorflow/core/framework/local_rendezvous.cc:404] Local rendezvous is aborting with status: OUT_OF_RANGE: End of sequence\n",
      "100%|██████████| 21/21 [00:23<00:00,  1.12s/it]\n"
     ]
    },
    {
     "name": "stdout",
     "output_type": "stream",
     "text": [
      "Epoch: 147 -- Generator Loss: 0.24347226321697235, Discriminator Loss: 0.5080393552780151\n",
      "\n",
      "Took 23.650291204452515 seconds. \n",
      "\n",
      "\n",
      "Epoch:  148\n"
     ]
    },
    {
     "name": "stderr",
     "output_type": "stream",
     "text": [
      "100%|██████████| 21/21 [00:23<00:00,  1.04s/it]2024-04-28 22:57:10.588678: W tensorflow/core/framework/local_rendezvous.cc:404] Local rendezvous is aborting with status: OUT_OF_RANGE: End of sequence\n",
      "100%|██████████| 21/21 [00:23<00:00,  1.14s/it]\n"
     ]
    },
    {
     "name": "stdout",
     "output_type": "stream",
     "text": [
      "Epoch: 148 -- Generator Loss: 0.24538221955299377, Discriminator Loss: 0.5057942867279053\n",
      "\n",
      "Took 23.98356819152832 seconds. \n",
      "\n",
      "\n",
      "Epoch:  149\n"
     ]
    },
    {
     "name": "stderr",
     "output_type": "stream",
     "text": [
      "100%|██████████| 21/21 [00:24<00:00,  1.18s/it]2024-04-28 22:57:34.939426: W tensorflow/core/framework/local_rendezvous.cc:404] Local rendezvous is aborting with status: OUT_OF_RANGE: End of sequence\n",
      "100%|██████████| 21/21 [00:24<00:00,  1.16s/it]\n"
     ]
    },
    {
     "name": "stdout",
     "output_type": "stream",
     "text": [
      "Epoch: 149 -- Generator Loss: 0.24893926084041595, Discriminator Loss: 0.5015326738357544\n",
      "\n",
      "Took 24.35053324699402 seconds. \n",
      "\n",
      "\n",
      "Epoch:  150\n"
     ]
    },
    {
     "name": "stderr",
     "output_type": "stream",
     "text": [
      "100%|██████████| 21/21 [00:23<00:00,  1.08s/it]2024-04-28 22:57:58.338806: W tensorflow/core/framework/local_rendezvous.cc:404] Local rendezvous is aborting with status: OUT_OF_RANGE: End of sequence\n",
      "100%|██████████| 21/21 [00:23<00:00,  1.11s/it]\n"
     ]
    },
    {
     "name": "stdout",
     "output_type": "stream",
     "text": [
      "Epoch: 150 -- Generator Loss: 0.2531537413597107, Discriminator Loss: 0.4964557886123657\n",
      "\n",
      "Took 23.405386924743652 seconds. \n",
      "\n",
      "\n",
      "Epoch:  151\n"
     ]
    },
    {
     "name": "stderr",
     "output_type": "stream",
     "text": [
      "100%|██████████| 21/21 [00:23<00:00,  1.12s/it]2024-04-28 22:58:22.094231: W tensorflow/core/framework/local_rendezvous.cc:404] Local rendezvous is aborting with status: OUT_OF_RANGE: End of sequence\n",
      "100%|██████████| 21/21 [00:23<00:00,  1.13s/it]\n"
     ]
    },
    {
     "name": "stdout",
     "output_type": "stream",
     "text": [
      "Epoch: 151 -- Generator Loss: 0.25615134835243225, Discriminator Loss: 0.4928641617298126\n",
      "\n",
      "Took 23.763383150100708 seconds. \n",
      "\n",
      "\n",
      "Epoch:  152\n"
     ]
    },
    {
     "name": "stderr",
     "output_type": "stream",
     "text": [
      "100%|██████████| 21/21 [00:23<00:00,  1.11s/it]2024-04-28 22:58:45.516411: W tensorflow/core/framework/local_rendezvous.cc:404] Local rendezvous is aborting with status: OUT_OF_RANGE: End of sequence\n",
      "100%|██████████| 21/21 [00:23<00:00,  1.11s/it]\n"
     ]
    },
    {
     "name": "stdout",
     "output_type": "stream",
     "text": [
      "Epoch: 152 -- Generator Loss: 0.2572411894798279, Discriminator Loss: 0.4915435016155243\n",
      "\n",
      "Took 23.40561604499817 seconds. \n",
      "\n",
      "\n",
      "Epoch:  153\n"
     ]
    },
    {
     "name": "stderr",
     "output_type": "stream",
     "text": [
      "100%|██████████| 21/21 [00:23<00:00,  1.15s/it]2024-04-28 22:59:08.797533: W tensorflow/core/framework/local_rendezvous.cc:404] Local rendezvous is aborting with status: OUT_OF_RANGE: End of sequence\n",
      "100%|██████████| 21/21 [00:23<00:00,  1.11s/it]\n"
     ]
    },
    {
     "name": "stdout",
     "output_type": "stream",
     "text": [
      "Epoch: 153 -- Generator Loss: 0.2569546103477478, Discriminator Loss: 0.4917317032814026\n",
      "\n",
      "Took 23.29208016395569 seconds. \n",
      "\n",
      "\n",
      "Epoch:  154\n"
     ]
    },
    {
     "name": "stderr",
     "output_type": "stream",
     "text": [
      "100%|██████████| 21/21 [00:22<00:00,  1.03s/it]2024-04-28 22:59:31.115304: W tensorflow/core/framework/local_rendezvous.cc:404] Local rendezvous is aborting with status: OUT_OF_RANGE: End of sequence\n",
      "100%|██████████| 21/21 [00:22<00:00,  1.06s/it]\n"
     ]
    },
    {
     "name": "stdout",
     "output_type": "stream",
     "text": [
      "Epoch: 154 -- Generator Loss: 0.2560499608516693, Discriminator Loss: 0.4928542673587799\n",
      "\n",
      "Took 22.303813934326172 seconds. \n",
      "\n",
      "\n",
      "Epoch:  155\n"
     ]
    },
    {
     "name": "stderr",
     "output_type": "stream",
     "text": [
      "100%|██████████| 21/21 [00:21<00:00,  1.06s/it]2024-04-28 22:59:52.284159: W tensorflow/core/framework/local_rendezvous.cc:404] Local rendezvous is aborting with status: OUT_OF_RANGE: End of sequence\n",
      "100%|██████████| 21/21 [00:21<00:00,  1.01s/it]\n"
     ]
    },
    {
     "name": "stdout",
     "output_type": "stream",
     "text": [
      "Epoch: 155 -- Generator Loss: 0.2546952962875366, Discriminator Loss: 0.4943947196006775\n",
      "\n",
      "Took 21.175936937332153 seconds. \n",
      "\n",
      "\n",
      "Epoch:  156\n"
     ]
    },
    {
     "name": "stderr",
     "output_type": "stream",
     "text": [
      "100%|██████████| 21/21 [00:24<00:00,  1.08s/it]2024-04-28 23:00:16.357760: W tensorflow/core/framework/local_rendezvous.cc:404] Local rendezvous is aborting with status: OUT_OF_RANGE: End of sequence\n",
      "100%|██████████| 21/21 [00:24<00:00,  1.15s/it]\n"
     ]
    },
    {
     "name": "stdout",
     "output_type": "stream",
     "text": [
      "Epoch: 156 -- Generator Loss: 0.25298991799354553, Discriminator Loss: 0.49641844630241394\n",
      "\n",
      "Took 24.06692409515381 seconds. \n",
      "\n",
      "\n",
      "Epoch:  157\n"
     ]
    },
    {
     "name": "stderr",
     "output_type": "stream",
     "text": [
      "100%|██████████| 21/21 [00:22<00:00,  1.15s/it]2024-04-28 23:00:38.936072: W tensorflow/core/framework/local_rendezvous.cc:404] Local rendezvous is aborting with status: OUT_OF_RANGE: End of sequence\n",
      "100%|██████████| 21/21 [00:22<00:00,  1.07s/it]\n"
     ]
    },
    {
     "name": "stdout",
     "output_type": "stream",
     "text": [
      "Epoch: 157 -- Generator Loss: 0.2503170967102051, Discriminator Loss: 0.4997033178806305\n",
      "\n",
      "Took 22.578752040863037 seconds. \n",
      "\n",
      "\n",
      "Epoch:  158\n"
     ]
    },
    {
     "name": "stderr",
     "output_type": "stream",
     "text": [
      "100%|██████████| 21/21 [00:27<00:00,  1.35s/it]2024-04-28 23:01:06.757659: W tensorflow/core/framework/local_rendezvous.cc:404] Local rendezvous is aborting with status: OUT_OF_RANGE: End of sequence\n",
      "100%|██████████| 21/21 [00:27<00:00,  1.32s/it]\n"
     ]
    },
    {
     "name": "stdout",
     "output_type": "stream",
     "text": [
      "Epoch: 158 -- Generator Loss: 0.24212715029716492, Discriminator Loss: 0.509780764579773\n",
      "\n",
      "Took 27.819739818572998 seconds. \n",
      "\n",
      "\n",
      "Epoch:  159\n"
     ]
    },
    {
     "name": "stderr",
     "output_type": "stream",
     "text": [
      "100%|██████████| 21/21 [00:26<00:00,  1.29s/it]2024-04-28 23:01:33.276262: W tensorflow/core/framework/local_rendezvous.cc:404] Local rendezvous is aborting with status: OUT_OF_RANGE: End of sequence\n",
      "100%|██████████| 21/21 [00:26<00:00,  1.26s/it]\n"
     ]
    },
    {
     "name": "stdout",
     "output_type": "stream",
     "text": [
      "Epoch: 159 -- Generator Loss: 0.25320783257484436, Discriminator Loss: 0.5283373594284058\n",
      "\n",
      "Took 26.52368187904358 seconds. \n",
      "\n",
      "\n",
      "Epoch:  160\n"
     ]
    },
    {
     "name": "stderr",
     "output_type": "stream",
     "text": [
      "100%|██████████| 21/21 [00:25<00:00,  1.35s/it]2024-04-28 23:01:59.033649: W tensorflow/core/framework/local_rendezvous.cc:404] Local rendezvous is aborting with status: OUT_OF_RANGE: End of sequence\n",
      "100%|██████████| 21/21 [00:25<00:00,  1.23s/it]\n"
     ]
    },
    {
     "name": "stdout",
     "output_type": "stream",
     "text": [
      "Epoch: 160 -- Generator Loss: 0.2594471573829651, Discriminator Loss: 0.48930859565734863\n",
      "\n",
      "Took 25.755570888519287 seconds. \n",
      "\n",
      "\n",
      "Epoch:  161\n"
     ]
    },
    {
     "name": "stderr",
     "output_type": "stream",
     "text": [
      "100%|██████████| 21/21 [00:26<00:00,  1.18s/it]2024-04-28 23:02:25.840666: W tensorflow/core/framework/local_rendezvous.cc:404] Local rendezvous is aborting with status: OUT_OF_RANGE: End of sequence\n",
      "100%|██████████| 21/21 [00:26<00:00,  1.28s/it]\n"
     ]
    },
    {
     "name": "stdout",
     "output_type": "stream",
     "text": [
      "Epoch: 161 -- Generator Loss: 0.2503729462623596, Discriminator Loss: 0.4996255338191986\n",
      "\n",
      "Took 26.817466735839844 seconds. \n",
      "\n",
      "\n",
      "Epoch:  162\n"
     ]
    },
    {
     "name": "stderr",
     "output_type": "stream",
     "text": [
      "100%|██████████| 21/21 [00:28<00:00,  1.35s/it]2024-04-28 23:02:53.942684: W tensorflow/core/framework/local_rendezvous.cc:404] Local rendezvous is aborting with status: OUT_OF_RANGE: End of sequence\n",
      "100%|██████████| 21/21 [00:28<00:00,  1.34s/it]\n"
     ]
    },
    {
     "name": "stdout",
     "output_type": "stream",
     "text": [
      "Epoch: 162 -- Generator Loss: 0.24699623882770538, Discriminator Loss: 0.5036711692810059\n",
      "\n",
      "Took 28.090691089630127 seconds. \n",
      "\n",
      "\n",
      "Epoch:  163\n"
     ]
    },
    {
     "name": "stderr",
     "output_type": "stream",
     "text": [
      "100%|██████████| 21/21 [00:27<00:00,  1.34s/it]2024-04-28 23:03:21.610590: W tensorflow/core/framework/local_rendezvous.cc:404] Local rendezvous is aborting with status: OUT_OF_RANGE: End of sequence\n",
      "100%|██████████| 21/21 [00:27<00:00,  1.32s/it]\n"
     ]
    },
    {
     "name": "stdout",
     "output_type": "stream",
     "text": [
      "Epoch: 163 -- Generator Loss: 0.244044229388237, Discriminator Loss: 0.5072994828224182\n",
      "\n",
      "Took 27.66456127166748 seconds. \n",
      "\n",
      "\n",
      "Epoch:  164\n"
     ]
    },
    {
     "name": "stderr",
     "output_type": "stream",
     "text": [
      "100%|██████████| 21/21 [00:26<00:00,  1.19s/it]2024-04-28 23:03:48.267863: W tensorflow/core/framework/local_rendezvous.cc:404] Local rendezvous is aborting with status: OUT_OF_RANGE: End of sequence\n",
      "100%|██████████| 21/21 [00:26<00:00,  1.27s/it]\n"
     ]
    },
    {
     "name": "stdout",
     "output_type": "stream",
     "text": [
      "Epoch: 164 -- Generator Loss: 0.2372329831123352, Discriminator Loss: 0.5159165859222412\n",
      "\n",
      "Took 26.657891035079956 seconds. \n",
      "\n",
      "\n",
      "Epoch:  165\n"
     ]
    },
    {
     "name": "stderr",
     "output_type": "stream",
     "text": [
      "100%|██████████| 21/21 [00:27<00:00,  1.33s/it]2024-04-28 23:04:15.598702: W tensorflow/core/framework/local_rendezvous.cc:404] Local rendezvous is aborting with status: OUT_OF_RANGE: End of sequence\n",
      "100%|██████████| 21/21 [00:27<00:00,  1.30s/it]\n"
     ]
    },
    {
     "name": "stdout",
     "output_type": "stream",
     "text": [
      "Epoch: 165 -- Generator Loss: 0.24877174198627472, Discriminator Loss: 0.511527955532074\n",
      "\n",
      "Took 27.330880165100098 seconds. \n",
      "\n",
      "\n",
      "Epoch:  166\n"
     ]
    },
    {
     "name": "stderr",
     "output_type": "stream",
     "text": [
      "100%|██████████| 21/21 [00:25<00:00,  1.24s/it]2024-04-28 23:04:41.476979: W tensorflow/core/framework/local_rendezvous.cc:404] Local rendezvous is aborting with status: OUT_OF_RANGE: End of sequence\n",
      "100%|██████████| 21/21 [00:25<00:00,  1.23s/it]\n"
     ]
    },
    {
     "name": "stdout",
     "output_type": "stream",
     "text": [
      "Epoch: 166 -- Generator Loss: 0.26676058769226074, Discriminator Loss: 0.48111796379089355\n",
      "\n",
      "Took 25.8761088848114 seconds. \n",
      "\n",
      "\n",
      "Epoch:  167\n"
     ]
    },
    {
     "name": "stderr",
     "output_type": "stream",
     "text": [
      "100%|██████████| 21/21 [00:26<00:00,  1.33s/it]2024-04-28 23:05:07.801451: W tensorflow/core/framework/local_rendezvous.cc:404] Local rendezvous is aborting with status: OUT_OF_RANGE: End of sequence\n",
      "100%|██████████| 21/21 [00:26<00:00,  1.25s/it]\n"
     ]
    },
    {
     "name": "stdout",
     "output_type": "stream",
     "text": [
      "Epoch: 167 -- Generator Loss: 0.25701695680618286, Discriminator Loss: 0.49172914028167725\n",
      "\n",
      "Took 26.332584857940674 seconds. \n",
      "\n",
      "\n",
      "Epoch:  168\n"
     ]
    },
    {
     "name": "stderr",
     "output_type": "stream",
     "text": [
      "100%|██████████| 21/21 [00:28<00:00,  1.17s/it]2024-04-28 23:05:36.069789: W tensorflow/core/framework/local_rendezvous.cc:404] Local rendezvous is aborting with status: OUT_OF_RANGE: End of sequence\n",
      "100%|██████████| 21/21 [00:28<00:00,  1.35s/it]\n"
     ]
    },
    {
     "name": "stdout",
     "output_type": "stream",
     "text": [
      "Epoch: 168 -- Generator Loss: 0.25399112701416016, Discriminator Loss: 0.4952245354652405\n",
      "\n",
      "Took 28.26345705986023 seconds. \n",
      "\n",
      "\n",
      "Epoch:  169\n"
     ]
    },
    {
     "name": "stderr",
     "output_type": "stream",
     "text": [
      "100%|██████████| 21/21 [00:26<00:00,  1.25s/it]2024-04-28 23:06:02.415466: W tensorflow/core/framework/local_rendezvous.cc:404] Local rendezvous is aborting with status: OUT_OF_RANGE: End of sequence\n",
      "100%|██████████| 21/21 [00:26<00:00,  1.25s/it]\n"
     ]
    },
    {
     "name": "stdout",
     "output_type": "stream",
     "text": [
      "Epoch: 169 -- Generator Loss: 0.2512599527835846, Discriminator Loss: 0.49858394265174866\n",
      "\n",
      "Took 26.346143007278442 seconds. \n",
      "\n",
      "\n",
      "Epoch:  170\n"
     ]
    },
    {
     "name": "stderr",
     "output_type": "stream",
     "text": [
      "100%|██████████| 21/21 [00:26<00:00,  1.33s/it]2024-04-28 23:06:28.948205: W tensorflow/core/framework/local_rendezvous.cc:404] Local rendezvous is aborting with status: OUT_OF_RANGE: End of sequence\n",
      "100%|██████████| 21/21 [00:26<00:00,  1.26s/it]\n"
     ]
    },
    {
     "name": "stdout",
     "output_type": "stream",
     "text": [
      "Epoch: 170 -- Generator Loss: 0.21393980085849762, Discriminator Loss: 0.551999568939209\n",
      "\n",
      "Took 26.533268928527832 seconds. \n",
      "\n",
      "\n",
      "Epoch:  171\n"
     ]
    },
    {
     "name": "stderr",
     "output_type": "stream",
     "text": [
      "100%|██████████| 21/21 [00:26<00:00,  1.17s/it]2024-04-28 23:06:55.647610: W tensorflow/core/framework/local_rendezvous.cc:404] Local rendezvous is aborting with status: OUT_OF_RANGE: End of sequence\n",
      "100%|██████████| 21/21 [00:26<00:00,  1.27s/it]\n"
     ]
    },
    {
     "name": "stdout",
     "output_type": "stream",
     "text": [
      "Epoch: 171 -- Generator Loss: 0.2831544578075409, Discriminator Loss: 0.5317363142967224\n",
      "\n",
      "Took 26.695407152175903 seconds. \n",
      "\n",
      "\n",
      "Epoch:  172\n"
     ]
    },
    {
     "name": "stderr",
     "output_type": "stream",
     "text": [
      "100%|██████████| 21/21 [00:27<00:00,  1.22s/it]2024-04-28 23:07:22.902109: W tensorflow/core/framework/local_rendezvous.cc:404] Local rendezvous is aborting with status: OUT_OF_RANGE: End of sequence\n",
      "100%|██████████| 21/21 [00:27<00:00,  1.30s/it]\n"
     ]
    },
    {
     "name": "stdout",
     "output_type": "stream",
     "text": [
      "Epoch: 172 -- Generator Loss: 0.24555817246437073, Discriminator Loss: 0.553504228591919\n",
      "\n",
      "Took 27.25428080558777 seconds. \n",
      "\n",
      "\n",
      "Epoch:  173\n"
     ]
    },
    {
     "name": "stderr",
     "output_type": "stream",
     "text": [
      "100%|██████████| 21/21 [00:26<00:00,  1.14s/it]2024-04-28 23:07:49.538426: W tensorflow/core/framework/local_rendezvous.cc:404] Local rendezvous is aborting with status: OUT_OF_RANGE: End of sequence\n",
      "100%|██████████| 21/21 [00:26<00:00,  1.27s/it]\n"
     ]
    },
    {
     "name": "stdout",
     "output_type": "stream",
     "text": [
      "Epoch: 173 -- Generator Loss: 0.26407504081726074, Discriminator Loss: 0.48642104864120483\n",
      "\n",
      "Took 26.639063835144043 seconds. \n",
      "\n",
      "\n",
      "Epoch:  174\n"
     ]
    },
    {
     "name": "stderr",
     "output_type": "stream",
     "text": [
      "100%|██████████| 21/21 [00:27<00:00,  1.25s/it]2024-04-28 23:08:16.986063: W tensorflow/core/framework/local_rendezvous.cc:404] Local rendezvous is aborting with status: OUT_OF_RANGE: End of sequence\n",
      "100%|██████████| 21/21 [00:27<00:00,  1.31s/it]\n"
     ]
    },
    {
     "name": "stdout",
     "output_type": "stream",
     "text": [
      "Epoch: 174 -- Generator Loss: 0.24983756244182587, Discriminator Loss: 0.5002544522285461\n",
      "\n",
      "Took 27.437020778656006 seconds. \n",
      "\n",
      "\n",
      "Epoch:  175\n"
     ]
    },
    {
     "name": "stderr",
     "output_type": "stream",
     "text": [
      "100%|██████████| 21/21 [00:26<00:00,  1.24s/it]2024-04-28 23:08:43.626520: W tensorflow/core/framework/local_rendezvous.cc:404] Local rendezvous is aborting with status: OUT_OF_RANGE: End of sequence\n",
      "100%|██████████| 21/21 [00:26<00:00,  1.27s/it]\n"
     ]
    },
    {
     "name": "stdout",
     "output_type": "stream",
     "text": [
      "Epoch: 175 -- Generator Loss: 0.2397470474243164, Discriminator Loss: 0.5127321481704712\n",
      "\n",
      "Took 26.651102781295776 seconds. \n",
      "\n",
      "\n",
      "Epoch:  176\n"
     ]
    },
    {
     "name": "stderr",
     "output_type": "stream",
     "text": [
      "100%|██████████| 21/21 [00:27<00:00,  1.24s/it]2024-04-28 23:09:11.526121: W tensorflow/core/framework/local_rendezvous.cc:404] Local rendezvous is aborting with status: OUT_OF_RANGE: End of sequence\n",
      "100%|██████████| 21/21 [00:27<00:00,  1.33s/it]\n"
     ]
    },
    {
     "name": "stdout",
     "output_type": "stream",
     "text": [
      "Epoch: 176 -- Generator Loss: 0.26137638092041016, Discriminator Loss: 0.5365806818008423\n",
      "\n",
      "Took 27.89583683013916 seconds. \n",
      "\n",
      "\n",
      "Epoch:  177\n"
     ]
    },
    {
     "name": "stderr",
     "output_type": "stream",
     "text": [
      "100%|██████████| 21/21 [00:28<00:00,  1.36s/it]2024-04-28 23:09:40.378996: W tensorflow/core/framework/local_rendezvous.cc:404] Local rendezvous is aborting with status: OUT_OF_RANGE: End of sequence\n",
      "100%|██████████| 21/21 [00:28<00:00,  1.37s/it]\n"
     ]
    },
    {
     "name": "stdout",
     "output_type": "stream",
     "text": [
      "Epoch: 177 -- Generator Loss: 0.2526898980140686, Discriminator Loss: 0.49686872959136963\n",
      "\n",
      "Took 28.856178045272827 seconds. \n",
      "\n",
      "\n",
      "Epoch:  178\n"
     ]
    },
    {
     "name": "stderr",
     "output_type": "stream",
     "text": [
      "100%|██████████| 21/21 [00:27<00:00,  1.29s/it]2024-04-28 23:10:08.161426: W tensorflow/core/framework/local_rendezvous.cc:404] Local rendezvous is aborting with status: OUT_OF_RANGE: End of sequence\n",
      "100%|██████████| 21/21 [00:27<00:00,  1.32s/it]\n"
     ]
    },
    {
     "name": "stdout",
     "output_type": "stream",
     "text": [
      "Epoch: 178 -- Generator Loss: 0.23676785826683044, Discriminator Loss: 0.5166100859642029\n",
      "\n",
      "Took 27.77722406387329 seconds. \n",
      "\n",
      "\n",
      "Epoch:  179\n"
     ]
    },
    {
     "name": "stderr",
     "output_type": "stream",
     "text": [
      "100%|██████████| 21/21 [00:26<00:00,  1.12s/it]2024-04-28 23:10:34.468278: W tensorflow/core/framework/local_rendezvous.cc:404] Local rendezvous is aborting with status: OUT_OF_RANGE: End of sequence\n",
      "100%|██████████| 21/21 [00:26<00:00,  1.25s/it]\n"
     ]
    },
    {
     "name": "stdout",
     "output_type": "stream",
     "text": [
      "Epoch: 179 -- Generator Loss: 0.26374849677085876, Discriminator Loss: 0.5298565030097961\n",
      "\n",
      "Took 26.306480884552002 seconds. \n",
      "\n",
      "\n",
      "Epoch:  180\n"
     ]
    },
    {
     "name": "stderr",
     "output_type": "stream",
     "text": [
      "100%|██████████| 21/21 [00:27<00:00,  1.32s/it]2024-04-28 23:11:01.879491: W tensorflow/core/framework/local_rendezvous.cc:404] Local rendezvous is aborting with status: OUT_OF_RANGE: End of sequence\n",
      "100%|██████████| 21/21 [00:27<00:00,  1.30s/it]\n"
     ]
    },
    {
     "name": "stdout",
     "output_type": "stream",
     "text": [
      "Epoch: 180 -- Generator Loss: 0.25378891825675964, Discriminator Loss: 0.49558794498443604\n",
      "\n",
      "Took 27.414865016937256 seconds. \n",
      "\n",
      "\n",
      "Epoch:  181\n"
     ]
    },
    {
     "name": "stderr",
     "output_type": "stream",
     "text": [
      "100%|██████████| 21/21 [00:24<00:00,  1.25s/it]2024-04-28 23:11:26.737869: W tensorflow/core/framework/local_rendezvous.cc:404] Local rendezvous is aborting with status: OUT_OF_RANGE: End of sequence\n",
      "100%|██████████| 21/21 [00:24<00:00,  1.18s/it]\n"
     ]
    },
    {
     "name": "stdout",
     "output_type": "stream",
     "text": [
      "Epoch: 181 -- Generator Loss: 0.24653026461601257, Discriminator Loss: 0.5042685270309448\n",
      "\n",
      "Took 24.855642080307007 seconds. \n",
      "\n",
      "\n",
      "Epoch:  182\n"
     ]
    },
    {
     "name": "stderr",
     "output_type": "stream",
     "text": [
      "100%|██████████| 21/21 [00:24<00:00,  1.01it/s]2024-04-28 23:11:51.215242: W tensorflow/core/framework/local_rendezvous.cc:404] Local rendezvous is aborting with status: OUT_OF_RANGE: End of sequence\n",
      "100%|██████████| 21/21 [00:24<00:00,  1.17s/it]\n"
     ]
    },
    {
     "name": "stdout",
     "output_type": "stream",
     "text": [
      "Epoch: 182 -- Generator Loss: 0.22739358246326447, Discriminator Loss: 0.5288556814193726\n",
      "\n",
      "Took 24.482372999191284 seconds. \n",
      "\n",
      "\n",
      "Epoch:  183\n"
     ]
    },
    {
     "name": "stderr",
     "output_type": "stream",
     "text": [
      "100%|██████████| 21/21 [00:24<00:00,  1.09s/it]2024-04-28 23:12:15.267360: W tensorflow/core/framework/local_rendezvous.cc:404] Local rendezvous is aborting with status: OUT_OF_RANGE: End of sequence\n",
      "100%|██████████| 21/21 [00:24<00:00,  1.14s/it]\n"
     ]
    },
    {
     "name": "stdout",
     "output_type": "stream",
     "text": [
      "Epoch: 183 -- Generator Loss: 0.2686510384082794, Discriminator Loss: 0.5000323057174683\n",
      "\n",
      "Took 24.04466938972473 seconds. \n",
      "\n",
      "\n",
      "Epoch:  184\n"
     ]
    },
    {
     "name": "stderr",
     "output_type": "stream",
     "text": [
      "100%|██████████| 21/21 [00:22<00:00,  1.12s/it]2024-04-28 23:12:37.903370: W tensorflow/core/framework/local_rendezvous.cc:404] Local rendezvous is aborting with status: OUT_OF_RANGE: End of sequence\n",
      "100%|██████████| 21/21 [00:22<00:00,  1.08s/it]\n"
     ]
    },
    {
     "name": "stdout",
     "output_type": "stream",
     "text": [
      "Epoch: 184 -- Generator Loss: 0.25799670815467834, Discriminator Loss: 0.49070608615875244\n",
      "\n",
      "Took 22.640435934066772 seconds. \n",
      "\n",
      "\n",
      "Epoch:  185\n"
     ]
    },
    {
     "name": "stderr",
     "output_type": "stream",
     "text": [
      "100%|██████████| 21/21 [00:23<00:00,  1.19s/it]2024-04-28 23:13:01.124496: W tensorflow/core/framework/local_rendezvous.cc:404] Local rendezvous is aborting with status: OUT_OF_RANGE: End of sequence\n",
      "100%|██████████| 21/21 [00:23<00:00,  1.11s/it]\n"
     ]
    },
    {
     "name": "stdout",
     "output_type": "stream",
     "text": [
      "Epoch: 185 -- Generator Loss: 0.25114887952804565, Discriminator Loss: 0.49865981936454773\n",
      "\n",
      "Took 23.216495275497437 seconds. \n",
      "\n",
      "\n",
      "Epoch:  186\n"
     ]
    },
    {
     "name": "stderr",
     "output_type": "stream",
     "text": [
      "100%|██████████| 21/21 [00:22<00:00,  1.09it/s]2024-04-28 23:13:23.852451: W tensorflow/core/framework/local_rendezvous.cc:404] Local rendezvous is aborting with status: OUT_OF_RANGE: End of sequence\n",
      "100%|██████████| 21/21 [00:22<00:00,  1.08s/it]\n"
     ]
    },
    {
     "name": "stdout",
     "output_type": "stream",
     "text": [
      "Epoch: 186 -- Generator Loss: 0.24783560633659363, Discriminator Loss: 0.502652108669281\n",
      "\n",
      "Took 22.73164701461792 seconds. \n",
      "\n",
      "\n",
      "Epoch:  187\n"
     ]
    },
    {
     "name": "stderr",
     "output_type": "stream",
     "text": [
      "100%|██████████| 21/21 [00:24<00:00,  1.33s/it]2024-04-28 23:13:48.619057: W tensorflow/core/framework/local_rendezvous.cc:404] Local rendezvous is aborting with status: OUT_OF_RANGE: End of sequence\n",
      "100%|██████████| 21/21 [00:24<00:00,  1.18s/it]\n"
     ]
    },
    {
     "name": "stdout",
     "output_type": "stream",
     "text": [
      "Epoch: 187 -- Generator Loss: 0.24134428799152374, Discriminator Loss: 0.5106569528579712\n",
      "\n",
      "Took 24.773324012756348 seconds. \n",
      "\n",
      "\n",
      "Epoch:  188\n"
     ]
    },
    {
     "name": "stderr",
     "output_type": "stream",
     "text": [
      "100%|██████████| 21/21 [00:22<00:00,  1.08s/it]2024-04-28 23:14:11.457748: W tensorflow/core/framework/local_rendezvous.cc:404] Local rendezvous is aborting with status: OUT_OF_RANGE: End of sequence\n",
      "100%|██████████| 21/21 [00:22<00:00,  1.09s/it]\n"
     ]
    },
    {
     "name": "stdout",
     "output_type": "stream",
     "text": [
      "Epoch: 188 -- Generator Loss: 0.2406291514635086, Discriminator Loss: 0.5373521447181702\n",
      "\n",
      "Took 22.826091051101685 seconds. \n",
      "\n",
      "\n",
      "Epoch:  189\n"
     ]
    },
    {
     "name": "stderr",
     "output_type": "stream",
     "text": [
      "100%|██████████| 21/21 [00:21<00:00,  1.03it/s]2024-04-28 23:14:33.372379: W tensorflow/core/framework/local_rendezvous.cc:404] Local rendezvous is aborting with status: OUT_OF_RANGE: End of sequence\n",
      "100%|██████████| 21/21 [00:21<00:00,  1.04s/it]\n"
     ]
    },
    {
     "name": "stdout",
     "output_type": "stream",
     "text": [
      "Epoch: 189 -- Generator Loss: 0.27007097005844116, Discriminator Loss: 0.47864842414855957\n",
      "\n",
      "Took 21.916208028793335 seconds. \n",
      "\n",
      "\n",
      "Epoch:  190\n"
     ]
    },
    {
     "name": "stderr",
     "output_type": "stream",
     "text": [
      "100%|██████████| 21/21 [00:23<00:00,  1.03s/it]2024-04-28 23:14:56.794224: W tensorflow/core/framework/local_rendezvous.cc:404] Local rendezvous is aborting with status: OUT_OF_RANGE: End of sequence\n",
      "100%|██████████| 21/21 [00:23<00:00,  1.11s/it]\n"
     ]
    },
    {
     "name": "stdout",
     "output_type": "stream",
     "text": [
      "Epoch: 190 -- Generator Loss: 0.254313200712204, Discriminator Loss: 0.494910329580307\n",
      "\n",
      "Took 23.42039680480957 seconds. \n",
      "\n",
      "\n",
      "Epoch:  191\n"
     ]
    },
    {
     "name": "stderr",
     "output_type": "stream",
     "text": [
      "100%|██████████| 21/21 [00:22<00:00,  1.17s/it]2024-04-28 23:15:19.762028: W tensorflow/core/framework/local_rendezvous.cc:404] Local rendezvous is aborting with status: OUT_OF_RANGE: End of sequence\n",
      "100%|██████████| 21/21 [00:22<00:00,  1.09s/it]\n"
     ]
    },
    {
     "name": "stdout",
     "output_type": "stream",
     "text": [
      "Epoch: 191 -- Generator Loss: 0.25125938653945923, Discriminator Loss: 0.49850592017173767\n",
      "\n",
      "Took 22.97051191329956 seconds. \n",
      "\n",
      "\n",
      "Epoch:  192\n"
     ]
    },
    {
     "name": "stderr",
     "output_type": "stream",
     "text": [
      "100%|██████████| 21/21 [00:21<00:00,  1.12s/it]2024-04-28 23:15:41.778667: W tensorflow/core/framework/local_rendezvous.cc:404] Local rendezvous is aborting with status: OUT_OF_RANGE: End of sequence\n",
      "100%|██████████| 21/21 [00:22<00:00,  1.05s/it]\n"
     ]
    },
    {
     "name": "stdout",
     "output_type": "stream",
     "text": [
      "Epoch: 192 -- Generator Loss: 0.24949298799037933, Discriminator Loss: 0.5006304979324341\n",
      "\n",
      "Took 22.02226996421814 seconds. \n",
      "\n",
      "\n",
      "Epoch:  193\n"
     ]
    },
    {
     "name": "stderr",
     "output_type": "stream",
     "text": [
      "100%|██████████| 21/21 [00:23<00:00,  1.02s/it]2024-04-28 23:16:04.885422: W tensorflow/core/framework/local_rendezvous.cc:404] Local rendezvous is aborting with status: OUT_OF_RANGE: End of sequence\n",
      "100%|██████████| 21/21 [00:23<00:00,  1.10s/it]\n"
     ]
    },
    {
     "name": "stdout",
     "output_type": "stream",
     "text": [
      "Epoch: 193 -- Generator Loss: 0.24666087329387665, Discriminator Loss: 0.504047691822052\n",
      "\n",
      "Took 23.099519968032837 seconds. \n",
      "\n",
      "\n",
      "Epoch:  194\n"
     ]
    },
    {
     "name": "stderr",
     "output_type": "stream",
     "text": [
      "100%|██████████| 21/21 [00:24<00:00,  1.12s/it]2024-04-28 23:16:29.568471: W tensorflow/core/framework/local_rendezvous.cc:404] Local rendezvous is aborting with status: OUT_OF_RANGE: End of sequence\n",
      "100%|██████████| 21/21 [00:24<00:00,  1.17s/it]\n"
     ]
    },
    {
     "name": "stdout",
     "output_type": "stream",
     "text": [
      "Epoch: 194 -- Generator Loss: 0.244249165058136, Discriminator Loss: 0.5679498910903931\n",
      "\n",
      "Took 24.68094515800476 seconds. \n",
      "\n",
      "\n",
      "Epoch:  195\n"
     ]
    },
    {
     "name": "stderr",
     "output_type": "stream",
     "text": [
      "100%|██████████| 21/21 [00:22<00:00,  1.13s/it]2024-04-28 23:16:52.575944: W tensorflow/core/framework/local_rendezvous.cc:404] Local rendezvous is aborting with status: OUT_OF_RANGE: End of sequence\n",
      "100%|██████████| 21/21 [00:22<00:00,  1.10s/it]\n"
     ]
    },
    {
     "name": "stdout",
     "output_type": "stream",
     "text": [
      "Epoch: 195 -- Generator Loss: 0.2626788020133972, Discriminator Loss: 0.4922533631324768\n",
      "\n",
      "Took 23.00976800918579 seconds. \n",
      "\n",
      "\n",
      "Epoch:  196\n"
     ]
    },
    {
     "name": "stderr",
     "output_type": "stream",
     "text": [
      "100%|██████████| 21/21 [00:22<00:00,  1.11s/it]2024-04-28 23:17:15.128693: W tensorflow/core/framework/local_rendezvous.cc:404] Local rendezvous is aborting with status: OUT_OF_RANGE: End of sequence\n",
      "100%|██████████| 21/21 [00:22<00:00,  1.07s/it]\n"
     ]
    },
    {
     "name": "stdout",
     "output_type": "stream",
     "text": [
      "Epoch: 196 -- Generator Loss: 0.25518181920051575, Discriminator Loss: 0.5431373715400696\n",
      "\n",
      "Took 22.553148984909058 seconds. \n",
      "\n",
      "\n",
      "Epoch:  197\n"
     ]
    },
    {
     "name": "stderr",
     "output_type": "stream",
     "text": [
      "100%|██████████| 21/21 [00:22<00:00,  1.04it/s]2024-04-28 23:17:37.900787: W tensorflow/core/framework/local_rendezvous.cc:404] Local rendezvous is aborting with status: OUT_OF_RANGE: End of sequence\n",
      "100%|██████████| 21/21 [00:22<00:00,  1.08s/it]\n"
     ]
    },
    {
     "name": "stdout",
     "output_type": "stream",
     "text": [
      "Epoch: 197 -- Generator Loss: 0.2532270848751068, Discriminator Loss: 0.49621304869651794\n",
      "\n",
      "Took 22.76982569694519 seconds. \n",
      "\n",
      "\n",
      "Epoch:  198\n"
     ]
    },
    {
     "name": "stderr",
     "output_type": "stream",
     "text": [
      "100%|██████████| 21/21 [00:23<00:00,  1.08s/it]2024-04-28 23:18:01.444218: W tensorflow/core/framework/local_rendezvous.cc:404] Local rendezvous is aborting with status: OUT_OF_RANGE: End of sequence\n",
      "100%|██████████| 21/21 [00:23<00:00,  1.12s/it]\n"
     ]
    },
    {
     "name": "stdout",
     "output_type": "stream",
     "text": [
      "Epoch: 198 -- Generator Loss: 0.242934450507164, Discriminator Loss: 0.5086951851844788\n",
      "\n",
      "Took 23.541412115097046 seconds. \n",
      "\n",
      "\n",
      "Epoch:  199\n"
     ]
    },
    {
     "name": "stderr",
     "output_type": "stream",
     "text": [
      "100%|██████████| 21/21 [00:23<00:00,  1.17s/it]2024-04-28 23:18:24.859035: W tensorflow/core/framework/local_rendezvous.cc:404] Local rendezvous is aborting with status: OUT_OF_RANGE: End of sequence\n",
      "100%|██████████| 21/21 [00:23<00:00,  1.11s/it]"
     ]
    },
    {
     "name": "stdout",
     "output_type": "stream",
     "text": [
      "Epoch: 199 -- Generator Loss: 0.21925011277198792, Discriminator Loss: 0.5403541326522827\n",
      "\n",
      "Took 23.419185161590576 seconds. \n",
      "\n",
      "\n"
     ]
    },
    {
     "name": "stderr",
     "output_type": "stream",
     "text": [
      "\n"
     ]
    }
   ],
   "source": [
    "from tqdm import tqdm\n",
    "\n",
    "import time\n",
    "\n",
    "if True:\n",
    "\td = []\n",
    "\tg = []\n",
    "\tfor epoch in range(200):\n",
    "\t\tprint('Epoch: ', epoch)\n",
    "\t\td_loss_list = []\n",
    "\t\tg_loss_list = []\n",
    "\t\tq_loss_list = []\n",
    "\t\tstart = time.time()\n",
    "\t\titern = 0\n",
    "\t\tfor image_batch in tqdm(dataset):\n",
    "\t\t# \treal_images1, real_labels1 = image_batch\n",
    "\n",
    "\t\t# print(real_images1.shape)\n",
    "\n",
    "\t\t\td_loss, g_loss = train_step(image_batch)\n",
    "\n",
    "\t\t\td_loss_list.append(d_loss)\n",
    "\t\t\tg_loss_list.append(g_loss)\n",
    "\n",
    "\t\t\titern=itern+1\n",
    "\t\t\t#print(d_loss_list)\n",
    "\t\td_loss_list_mean = tf.reduce_mean(tf.stack(d_loss_list))\n",
    "\t\tg_loss_list_mean = tf.reduce_mean(tf.stack(g_loss_list))\n",
    "\t\td.append(d_loss_list_mean)\n",
    "\t\tg.append(g_loss_list_mean)\n",
    "\t\tprint (f'Epoch: {epoch} -- Generator Loss: {g_loss_list_mean}, Discriminator Loss: {d_loss_list_mean}\\n')\n",
    "\t\tprint (f'Took {time.time()-start} seconds. \\n\\n')\n",
    "\t\t\n",
    "\n",
    "\n"
   ]
  },
  {
   "cell_type": "code",
   "execution_count": 39,
   "metadata": {},
   "outputs": [
    {
     "data": {
      "image/png": "[encoded data removed]",
      "text/plain": [
       "<Figure size 640x480 with 1 Axes>"
      ]
     },
     "metadata": {},
     "output_type": "display_data"
    }
   ],
   "source": [
    "import matplotlib.pyplot as plt\n",
    "\n",
    "# Plot the discriminator loss\n",
    "plt.plot(d, label='Discriminator Loss')\n",
    "\n",
    "# Plot the generator loss\n",
    "plt.plot(g, label='Generator Loss')\n",
    "\n",
    "# Add labels and title\n",
    "plt.xlabel('Epoch')\n",
    "plt.ylabel('Loss')\n",
    "plt.title('Discriminator and Generator Losses')\n",
    "\n",
    "# Add legend\n",
    "plt.legend()\n",
    "\n",
    "# Show the plot\n",
    "plt.show()"
   ]
  },
  {
   "cell_type": "code",
   "execution_count": 40,
   "metadata": {},
   "outputs": [
    {
     "name": "stderr",
     "output_type": "stream",
     "text": [
      "WARNING:absl:You are saving your model as an HDF5 file via `model.save()` or `keras.saving.save_model(model)`. This file format is considered legacy. We recommend using instead the native Keras format, e.g. `model.save('my_model.keras')` or `keras.saving.save_model(model, 'my_model.keras')`. \n",
      "WARNING:absl:You are saving your model as an HDF5 file via `model.save()` or `keras.saving.save_model(model)`. This file format is considered legacy. We recommend using instead the native Keras format, e.g. `model.save('my_model.keras')` or `keras.saving.save_model(model, 'my_model.keras')`. \n"
     ]
    }
   ],
   "source": [
    "# # Define the file path where you want to save the model\n",
    "# model_path_g = 'generator_model_epoch200_Carla.h5'\n",
    "# model_path_d = 'discriminator_model_epoch200_Carla.h5'\n",
    "\n",
    "\n",
    "# # Save the model\n",
    "# generator.save(model_path_g)\n",
    "# discriminator.save(model_path_d)\n"
   ]
  }
 ],
 "metadata": {
  "kernelspec": {
   "display_name": "Python 3 (ipykernel)",
   "language": "python",
   "name": "python3"
  },
  "language_info": {
   "codemirror_mode": {
    "name": "ipython",
    "version": 3
   },
   "file_extension": ".py",
   "mimetype": "text/x-python",
   "name": "python",
   "nbconvert_exporter": "python",
   "pygments_lexer": "ipython3",
   "version": "3.9.6"
  }
 },
 "nbformat": 4,
 "nbformat_minor": 4
}
